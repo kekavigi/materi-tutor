{
 "cells": [
  {
   "cell_type": "markdown",
   "metadata": {},
   "source": [
    "## Context\n",
    "For the first time, a really international world of learning,\n",
    "highly competitive, is emerging. If you want to get into that\n",
    "orbit, you have to do so on merit. You cannot rely on\n",
    "politics or anything else. . .\n",
    "\n",
    "Research is a core element of the mission of higher\n",
    "education. The extent to which higher education\n",
    "institutions are engaged in research and development\n",
    "activities has a key role in determining the status and the\n",
    "quality of these institutions and the contribution, which\n",
    "they make to economic and social development.\n"
   ]
  },
  {
   "cell_type": "markdown",
   "metadata": {},
   "source": [
    "Dhani Herdiwijaya"
   ]
  }
 ],
 "metadata": {
  "kernelspec": {
   "display_name": "Python 3",
   "language": "python",
   "name": "python3"
  },
  "language_info": {
   "codemirror_mode": {
    "name": "ipython",
    "version": 3
   },
   "file_extension": ".py",
   "mimetype": "text/x-python",
   "name": "python",
   "nbconvert_exporter": "python",
   "pygments_lexer": "ipython3",
   "version": "3.6.6"
  }
 },
 "nbformat": 4,
 "nbformat_minor": 2
}
