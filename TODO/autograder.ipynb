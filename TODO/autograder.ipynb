{
 "cells": [
  {
   "cell_type": "markdown",
   "metadata": {},
   "source": [
    "# Membuat *Autograder* yang \"Baik\""
   ]
  },
  {
   "cell_type": "markdown",
   "metadata": {},
   "source": [
    "**Kenapa?**\n",
    "* Menyamakan standar penilaian hasil kerja praktikan.\n",
    "* Peserta menghasilkan solusi dengan format yang sama.\n",
    "* Mempermudah kerja asisten praktikum :)\n",
    "    \n",
    "**Harus?**\n",
    "* `testcases` perlu mencakup banyak kasus (kasus trivial, kasus ekstrem, keadaan tidak valid -- jika diminta soal, dan sebagainya).\n",
    "* Menyamakan format output peserta, selalu gunakan `result` kecuali diminta `print()`.\n",
    "* Mungkin ada toleransi agar sebuah solusi dianggap benar (misal akibat hampiran numerik).\n",
    "* Output `verbose` yang membantu asisten praktikum men-debug jika hasil kerja praktikan salah. "
   ]
  },
  {
   "cell_type": "code",
   "execution_count": 1,
   "metadata": {},
   "outputs": [],
   "source": [
    "def function():\n",
    "    # solusi peserta\n",
    "    pass\n",
    "\n",
    "def func_key():\n",
    "    # solusi kunci\n",
    "    pass"
   ]
  },
  {
   "cell_type": "code",
   "execution_count": 2,
   "metadata": {},
   "outputs": [],
   "source": [
    "testcases = []\n",
    "scores = []\n",
    "\n",
    "def is_equal(A, B):\n",
    "    # jika perlu perubahan kapan A dianggap sama dengan B\n",
    "    return A==B\n",
    "\n",
    "def grader(testcases, scores):\n",
    "    # grading\n",
    "    counter = range(1, len(testcase)+1)\n",
    "    grade = 0\n",
    "    \n",
    "    for num, test, test_score in zip(counter, testcases, scores):\n",
    "        # Cetak test yang di cek saat ini\n",
    "        print(\"CHECKING CASE #\", num)\n",
    "        \n",
    "        try:\n",
    "            # Dapatkan hasil dari fungsi milik peserta\n",
    "            submission = function(**test)            \n",
    "        except Exception as e:\n",
    "            # Jika fungsi menghasilkan error, tampilkan errornya\n",
    "            # Lalu, lanjut ke test berikutnya\n",
    "            print(\"found error in function:\", e)\n",
    "        else:\n",
    "            # Dapatkan hasil dari fungsi milik grader\n",
    "            solution = func_key(**test)\n",
    "            \n",
    "            if is_equal(submission, solution):\n",
    "                # Jika hasilnya sama, tambahkan nilai ke grade peserta\n",
    "                print(\"passed!\")\n",
    "                grade += test_score    \n",
    "            else:\n",
    "                print(\"failed!\")\n",
    "    \n",
    "    print('\\nFinal grade: ', grade)"
   ]
  }
 ],
 "metadata": {
  "kernelspec": {
   "display_name": "Python 3",
   "language": "python",
   "name": "python3"
  },
  "language_info": {
   "codemirror_mode": {
    "name": "ipython",
    "version": 3
   },
   "file_extension": ".py",
   "mimetype": "text/x-python",
   "name": "python",
   "nbconvert_exporter": "python",
   "pygments_lexer": "ipython3",
   "version": "3.8.5"
  }
 },
 "nbformat": 4,
 "nbformat_minor": 4
}
