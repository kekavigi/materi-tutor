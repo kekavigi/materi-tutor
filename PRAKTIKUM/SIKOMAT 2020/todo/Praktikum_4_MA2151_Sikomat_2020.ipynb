{
  "nbformat": 4,
  "nbformat_minor": 0,
  "metadata": {
    "colab": {
      "name": "Praktikum 4 MA2151 Sikomat 2020",
      "provenance": []
    },
    "kernelspec": {
      "name": "python3",
      "display_name": "Python 3"
    }
  },
  "cells": [
    {
      "cell_type": "markdown",
      "metadata": {
        "id": "27GJn8MiCs0z"
      },
      "source": [
        "# **Praktikum 4 MA2151 Sikomat 2020**\n",
        " \n",
        "Nama Lengkap: (diisi dengan nama Anda)\n",
        " \n",
        "NIM: (isi dengan NIM Anda)\n",
        " \n",
        "**PERINGATAN**: Dokumen Notebook ini tidak dapat diedit secara langsung. Silakan pencet \"Salin ke Drive\" untuk membuat salinan notebook ini ke Drive Anda (agar bisa diedit di Colab), atau klik File -> Download .ipynb untuk mengunduh notebook ini dan mengerjakan di Jupyter Notebook. Format pengumpulan harap merujuk pada format yang diberikan di praktikum. Harap menghapus catatan ini sebelum mengumpulkan hasil pekerjaan Anda."
      ]
    },
    {
      "cell_type": "markdown",
      "metadata": {
        "id": "gxcZOuBleuQn"
      },
      "source": [
        " \n",
        " \n",
        "## Skema Jawaban\n",
        "Penulisan program harus mengikuti skema seperti berikut - diawali dengan nama program, penjelasan mengenai program, variabel-variabel yang terlibat dengan keterangan, dan dilanjutkan dengan langkah programnya. Contoh dapat dilihat di kode berikut:\n",
        " \n",
        "```\n",
        "# Program nama-program\n",
        "# penjelasan mengenai hal yang dihitung (bisa beberapa baris)\n",
        "#\n",
        "# Variable:\n",
        "#   ... penjelasan\n",
        "#   ... penjelasan\n",
        "# beberapa variabel bertipe sama boleh ditulis sebaris, dipisah koma.\n",
        "#\n",
        "# hitungan program\n",
        "#\n",
        "```\n",
        " \n",
        "Tuliskan pula dan penurunan matematis (jika ada) dan komentar di langkah-langkah program Anda.\n",
        " \n",
        "Hanya library *random* yang boleh dipakai di praktikum ini. Format keluaran diatur supaya mudah dibaca - usahakan mengikuti standar PEP 8 di https://www.python.org/dev/peps/pep-0008/ ."
      ]
    },
    {
      "cell_type": "markdown",
      "metadata": {
        "id": "sO3JNVj8fbH0"
      },
      "source": [
        "## 1 (Jarak antar Anggota)\n",
        "\n",
        "Diberikan sebuah vektor huruf kapital (vektor yang isinya huruf-huruf) dengan $n$ elemen (dimasukkan pengguna). Buat program Python untuk mencetak angka-angka dengan aturan berikut:\n",
        "\n",
        "* Pada setiap huruf yang\n",
        "berbeda dari vektor tersebut dicetak angka nol. Bila ada dua/lebih huruf yang sama maka huruf\n",
        "kedua/lebih tersebut diganti dengan salah satu digit 1,2,...,9 yang menyatakan jarak/posisi\n",
        "huruf tersebut terhadap huruf sebelumnya yang sama.\n",
        "\n",
        "*Diasumsikan jarak antara dua huruf yang sama tidak melebihi 9.\n",
        "\n",
        "\n",
        "Contoh masukan:\n",
        "⃗$ \\vec{a} = (’A’, ’A’, ’B’, ’C’, ’D’, ’B’, ’E’, ’F’, ’F’, ’E’, ’A’, ’B’, ’G’, ’B’, ’W’, ’B’)$\n",
        "\n",
        "Keluaran: 0100030013960202\n",
        "\n",
        "Penjelasan (tidak perlu di-print): Angka 1 di entri kedua ada karena di entri pertama sudah ada huruf A. Entri kelima berisikan B karena entri sebelumnya yang mengandung B adalah entri kedua.\n",
        "\n",
        "\n"
      ]
    },
    {
      "cell_type": "code",
      "metadata": {
        "id": "aFot6PMZiLq5"
      },
      "source": [
        "# Jawaban nomor 1"
      ],
      "execution_count": null,
      "outputs": []
    },
    {
      "cell_type": "markdown",
      "metadata": {
        "id": "_uJXGz18f-2T"
      },
      "source": [
        "#2 (Matriks Bilangan)\n",
        "\n",
        "Diberikan sebuah matriks $A$ ukuran $5\\times 5$. Gunakan perintah **randint** dari Python untuk mengisi elemen-elemen matriks tersebut dengan bilangan acak dalam rentang 10 - 100. Selanjutnya buat program Python untuk menukarkan isi baris ke 2 dengan baris ke 4. Setelah itu\n",
        "tukarkan isi kolom ke 1 dengan kolom ke 3."
      ]
    },
    {
      "cell_type": "code",
      "metadata": {
        "id": "TMzkB9oxiMk7"
      },
      "source": [
        "# Jawaban nomor 2"
      ],
      "execution_count": null,
      "outputs": []
    }
  ]
}