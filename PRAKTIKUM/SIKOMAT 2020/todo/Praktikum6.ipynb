{
  "nbformat": 4,
  "nbformat_minor": 0,
  "metadata": {
    "colab": {
      "name": "Praktikum 6 MA2151 Sikomat 2020.ipynb",
      "provenance": [],
      "collapsed_sections": []
    },
    "kernelspec": {
      "name": "python3",
      "display_name": "Python 3"
    }
  },
  "cells": [
    {
      "cell_type": "markdown",
      "metadata": {
        "id": "3PQOcJqJ9w-X"
      },
      "source": [
        "# **Soal Praktikum 6 MA2151 Sikomat 2020**\n",
        "\n",
        "Nama Lengkap: (diisi dengan nama Anda)\n",
        " \n",
        "NIM: (isi dengan NIM Anda)\n",
        " \n",
        "**PERINGATAN**: Dokumen Notebook ini tidak dapat diedit secara langsung. Silakan pencet \"Salin ke Drive\" untuk membuat salinan notebook ini ke Drive Anda (agar bisa diedit di Colab), atau klik File -> Download .ipynb untuk mengunduh notebook ini dan mengerjakan di Jupyter Notebook. Format pengumpulan harap merujuk pada format yang diberikan di praktikum. Harap menghapus catatan ini sebelum mengumpulkan hasil pekerjaan Anda."
      ]
    },
    {
      "cell_type": "markdown",
      "metadata": {
        "id": "ls_K4ceP-Odd"
      },
      "source": [
        " \n",
        "\n",
        "## Skema Jawaban \n",
        "Penulisan program harus mengikuti skema seperti berikut:\n",
        "\n",
        "\n",
        "Contoh dapat dilihat di kode berikut:\n",
        " \n",
        "```\n",
        "# Jawaban [nomor]\n",
        "# Penjelasan singkat mengenai model persamaan yang digunakan\n",
        "\n",
        "# [Program yang anda buat]\n",
        "\n",
        "# Penjelasan mengenai jawaban dari pertanyaan\n",
        "```\n",
        " \n",
        "Tuliskan pula **penurunan matematis** dari persamaan yang Anda pakai dan **komentar** di langkah-langkah program Anda.\n",
        " \n",
        "Format keluaran diatur supaya mudah dibaca - usahakan mengikuti standar PEP 8 di https://www.python.org/dev/peps/pep-0008/ ."
      ]
    },
    {
      "cell_type": "markdown",
      "metadata": {
        "id": "oAUaR2be-vKD"
      },
      "source": [
        "## 1 (Alien, Alien)\n",
        "\n",
        "Lagu relevan: https://www.youtube.com/watch?v=2t1NMRse6aI\n",
        "\n",
        "Bayangkan saat ini adalah abad ke-23. Umat manusia sudah berhasil menginjakkan kaki di berbagai planet di luar angkasa. Anda adalah salah satu penjelajah planet yang sedang berkunjung ke planet N-Mec, di mana anda menemukan suatu permainan unik yang dimainkan alien di sana. \n",
        "\n",
        "Permainannya seperti bowling, namun hanya ada satu pin dan lintasan bolanya tidak mendatar, melainkan bisa dibentuk sesuka hati (walaupun harus berupa turunan agar bola dapat melaju tanpa gaya dorong). Pemenang permainan ini adalah yang bolanya berhasil mengenai pin lebih dahulu.\n",
        "\n",
        "Anda ditantang alien paling jago untuk mencoba bermain. Alien itu menggunakan lintasan garis lurus, yang tentunya memiliki jarak tempuh yang paling pendek. Menggunakan ilmu TPB yang anda miliki, yaitu menggunakan kurva **brakistokron**, anda yakin akan memenangkan tantangan alien itu.\n",
        "\n",
        "Kurva **brakistokron** merupakan contoh sikloid yang dapat digambarkan dengan persamaan parametrik \n",
        " \\begin{array}{l}\n",
        "x( \\theta ) \\ =\\ R( \\theta -sin( \\theta ))\\\\\n",
        "y( \\theta ) \\ =\\ R( 1-cos( \\theta ))\n",
        "\\end{array}\n",
        "\n",
        "Dengan  y menyatakan ketinggian dengan sumbu positif searah gravitasi, x menyatakan jarak horizontal dengan sumbu positif mengarah ke pin, R adalah jari-jari pembentuk sikloid dan θ merupakan sudut antara arah gravitasi dan arah gerak bola.\n",
        "\n",
        "Misal posisi awal bola di (0,0) dan pin berada di (1,0.3). Beberapa asumsi yang digunakan adalah gravitasi tetap di setiap titik, serta tidak ada gesekan sehingga berlaku hukum kekekalan energi. Gunakan g = 10.\n",
        "\n",
        "Diketahui nilai θ di titik awal adalah 0 dan nilai θ di posisi pin, θ2 dapat dihitung secara numerik dengan menyalin kode berikut di python :\n",
        "\n",
        "```\n",
        "# This is formatted as code\n",
        "from scipy.optimize import newton\n",
        "def f(theta):\n",
        "    return y2/x2 - (1-np.cos(theta))/(theta-np.sin(theta))\n",
        "theta2 = newton(f, np.pi/2)\n",
        "```\n",
        "\n",
        "selanjutnya, hitung R dengan mensubstitusi nilai θ2 yang didapat ke persamaan parametrik. \n",
        "\n",
        "a. Gambarlah lintasan brakistokron milik anda dengan plot sederhana (gunakan N = 100 untuk panjang array).\n",
        "\n",
        "b. Gambarlah lintasan linear milik alien, lalu plot bersamaan dengan lintasan brakistokron milik Anda.\n",
        "\n",
        "c. Misal diketahui persamaan Tbar(θ) dan Tlin(θ) yang menyatakan waktu tempuh bola di lintasan Anda dan sang alien (dan $m$ menyatakan lama). Tentukan waktu tempuh kedua dengan persamaan di bawah. Siapa yang memenangkan balapan?\n",
        "\n",
        "$\\displaystyle T_{bar}( \\theta )\\ =\\ \\theta _{2}\\sqrt{\\frac{R}{g}} , T_{lin}( \\theta ) \\ =\\ \\sqrt{\\frac{\\left( 1+m^{2}\\right) x_{2}}{gm}}$\n"
      ]
    },
    {
      "cell_type": "code",
      "metadata": {
        "id": "WHfzFozDEyNW"
      },
      "source": [
        "# Jawaban No 1a"
      ],
      "execution_count": null,
      "outputs": []
    },
    {
      "cell_type": "code",
      "metadata": {
        "id": "ILJyNkddfKUb"
      },
      "source": [
        "# Jawaban No 1b"
      ],
      "execution_count": null,
      "outputs": []
    },
    {
      "cell_type": "code",
      "metadata": {
        "id": "kpWfLtanwc5d"
      },
      "source": [
        "# Jawaban No 1c (hitung)"
      ],
      "execution_count": null,
      "outputs": []
    },
    {
      "cell_type": "markdown",
      "metadata": {
        "id": "_Skm_t3Q_wyF"
      },
      "source": [
        "## 2 (Minesweeper - Kapan Lab Komputer CAS Buka Lagi AAAAAAAAAAAAAAA)\n",
        "\n",
        "Lagu relevan: https://www.youtube.com/watch?v=K9R6PM7TpHk\n",
        "\n",
        "Seharusnya kalian sudah tahu deh Minesweeper itu apa. Tau kan? Ya kan??... (kalau ga tau, ntar cobain aja di komputer lab CAS pas sudah kuliah luring lagi, lol) \n",
        "\n",
        "Oke, di permainan ini, pemain diberikan papan berukuran m x n, dengan $k$ buah bom. Biar gampang, kali ini $m=n=10$ dan $k\\leq 8$ lah.\n",
        " \n",
        "Saat pemain membuka kotak, skenario yang bisa terjadi meliputi:\n",
        "* Kotak tidak berisi bom, tapi di sekitar kotak (daerah 3x3 sekitar kotak) ada k buah bom. Maka isi kotak  akan ditandai dengan angka k.\n",
        "* Kotak tidak berisi bom, tidak juga sekitarnya. Aman...paling tidak disekitar 3x3 itu.\n",
        "* Kotak berisi bom, yang kemudian terpicu, sehingga meledak dan membunuhmu, mengakhiri permainan.\n",
        "\n",
        "Tujuan permainan ini adalah untuk membuka(hanya) semua kotak yang tidak berisi bom. (silakan Googling Minesweeper itu apa deh, kalau masih bingung) \n",
        "\n",
        "Tentu kami tidak berniat meminta kalian\n",
        "membuat game ini dalam waktu seratus menit (kalau Anda minat, mungkin bisa dibikin versi sederhananya lel). Kami hanya ingin melihat sebuah papan Minesweeper yang baik dan benar.\n",
        "\n",
        "a. Buatlah sebuah array berukuran $10\\times 10$ dengan syarat sebagai berikut:\n",
        "* Misal NIM Anda $abcdefgh$. Atur supaya entri $(a,b),(b,c),\\dotsc,(g,h),(h,a)$ berisikan bom (notasikan bom dengan -1). [Tentunya, Anda menggunakan pengindeksan versi Python - mulai dari nol!]\n",
        "* Entri lain berisikan banyak bom yang ada di sekitar kotak tersebut.\n",
        "\n",
        "Sebagai contoh, jika NIM Anda 10999399, Anda cukup membuat bom di sel $(1,0),(0,9),(9,9),(9,3),(3,9),(9,1)$. Array yang dihasilkan adalah sebagai berikut:\n",
        "\n",
        "$\\begin{pmatrix} 1&1&0&0&0&0&0&1&-1\\\\-1&1&0&0&0&0&0&1&1\\\\1&1&0&0&0&0&0&1&1\\\\0&0&0&0&0&0&0&1&-1\\\\0&0&0&0&0&0&0&1&1\\\\0&0&0&0&0&0&0&0&0\\\\0&0&0&0&0&0&0&0&0\\\\0&0&0&0&0&0&0&0&0\\\\1&1&2&1&1&0&0&1&1\\\\1&-1&2&-1&1&0&0&1&-1 \\end{pmatrix}$\n",
        "\n",
        "[bonus, kalau sempat: buatlah program yang menerima masukan NIM dan memberi keluaran matriks dengan syarat di atas]\n",
        "\n",
        "b. Warnai array $M$ yang telah kalian buat sehingga sel yang berbeda warna memiliki warna yang berbeda. Anda dibebaskan memakai warna background atau warna tulisan. (Bonus: Buatlah agar angka nol tidak ditampilkan)"
      ]
    },
    {
      "cell_type": "code",
      "metadata": {
        "id": "9oTUVxnIPDC-"
      },
      "source": [
        "# Jawaban No 2a"
      ],
      "execution_count": null,
      "outputs": []
    },
    {
      "cell_type": "code",
      "metadata": {
        "id": "GZwYOkr0wkOi"
      },
      "source": [
        "# Jawaban no 2b"
      ],
      "execution_count": null,
      "outputs": []
    }
  ]
}