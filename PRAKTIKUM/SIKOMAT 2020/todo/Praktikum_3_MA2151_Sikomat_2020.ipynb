{
  "nbformat": 4,
  "nbformat_minor": 0,
  "metadata": {
    "colab": {
      "name": "Praktikum 3 MA2151 Sikomat 2020",
      "provenance": []
    },
    "kernelspec": {
      "name": "python3",
      "display_name": "Python 3"
    }
  },
  "cells": [
    {
      "cell_type": "markdown",
      "metadata": {
        "id": "27GJn8MiCs0z"
      },
      "source": [
        "# **Praktikum 3 MA2151 Sikomat 2020**\n",
        " \n",
        "Nama Lengkap: (diisi dengan nama Anda)\n",
        " \n",
        "NIM: (isi dengan NIM Anda)\n",
        " \n",
        "**PERINGATAN**: Dokumen Notebook ini tidak dapat diedit secara langsung. Silakan pencet \"Salin ke Drive\" untuk membuat salinan notebook ini ke Drive Anda (agar bisa diedit di Colab), atau klik File -> Download .ipynb untuk mengunduh notebook ini dan mengerjakan di Jupyter Notebook. Format pengumpulan harap merujuk pada format yang diberikan di praktikum. Harap menghapus catatan ini sebelum mengumpulkan hasil pekerjaan Anda."
      ]
    },
    {
      "cell_type": "markdown",
      "metadata": {
        "id": "gxcZOuBleuQn"
      },
      "source": [
        " \n",
        " \n",
        "## Skema Jawaban\n",
        "Penulisan program harus mengikuti skema seperti berikut - diawali dengan nama program, penjelasan mengenai program, variabel-variabel yang terlibat dengan keterangan, dan dilanjutkan dengan langkah programnya. Contoh dapat dilihat di kode berikut:\n",
        " \n",
        "```\n",
        "# Program nama-program\n",
        "# penjelasan mengenai hal yang dihitung (bisa beberapa baris)\n",
        "#\n",
        "# Variable:\n",
        "#   ... penjelasan\n",
        "#   ... penjelasan\n",
        "# beberapa variabel bertipe sama boleh ditulis sebaris, dipisah koma.\n",
        "#\n",
        "# hitungan program\n",
        "#\n",
        "```\n",
        " \n",
        "Tuliskan pula dan penurunan matematis (jika ada) dan komentar di langkah-langkah program Anda.\n",
        " \n",
        "Program **tidak boleh** menggunakan *array* dan mengimpor paket/modul. Format keluaran diatur supaya mudah dibaca - usahakan mengikuti standar PEP 8 di https://www.python.org/dev/peps/pep-0008/ ."
      ]
    },
    {
      "cell_type": "markdown",
      "metadata": {
        "id": "sO3JNVj8fbH0"
      },
      "source": [
        "## 1 ($\\sqrt{2}$)\n",
        "\n",
        "Akar kuadrat dari sebuah bilangan real (positif) $a$ dapat diaproksimasi melalui barisan berikut:\n",
        "$$b_1=1, b_n=\\dfrac{1}{2} \\left(b_{n-1}+\\dfrac{a}{b_{n-1}}\\right),n\\geq 2. $$\n",
        "\n",
        "Dengan menggunakan barisan di atas, buatlah program untuk mengaproksimasi nilai $\\sqrt{2}$. Program akan berhenti jika $|b_{n}-b_{n-1}|<10^{-6}$.\n",
        "\n",
        "\n"
      ]
    },
    {
      "cell_type": "code",
      "metadata": {
        "id": "aFot6PMZiLq5"
      },
      "source": [
        "# Jawaban nomor 1"
      ],
      "execution_count": null,
      "outputs": []
    },
    {
      "cell_type": "markdown",
      "metadata": {
        "id": "_uJXGz18f-2T"
      },
      "source": [
        "#2 (8)\n",
        "\n",
        "Buat program Python yang membaca bilangan bulat $n$ dan menentukan apakah ia kelipatan delapan (atau bukan). Proses diulangi terus selama bilangan yang dimasukkan tak nol. \n",
        "\n",
        "(Asumsikan bilangan pertama yang dimasukan bukan nol.)"
      ]
    },
    {
      "cell_type": "code",
      "metadata": {
        "id": "TMzkB9oxiMk7"
      },
      "source": [
        "# Jawaban nomor 2"
      ],
      "execution_count": null,
      "outputs": []
    },
    {
      "cell_type": "markdown",
      "metadata": {
        "id": "4o0fhCDWMJdT"
      },
      "source": [
        "#3 (Prima dan Chebyshev)\n",
        " \n",
        "Di era komputasi seperti sekarang, bilangan prima memainkan peranan penting dalam berbagai algoritma kriptografi yang dipakai untuk mengamankan data *uhuk* RSA *uhuk*. Meskipun persebaran bilangan prima (dan cara efisien mengetahui keprimaan suatu bilangan) belum diketahui secara eksplisit, pada praktikum kali ini Anda akan membuat beberapa algoritma sederhana yang berkalitan dengan bilangan prima.\n",
        " \n",
        "a. Algoritma tersederhana dalam mengecek keprimaan suatu bilangan asli $n$ adalah *trial division*. Algoritma ini (dalam versi efektif) berjalan sebagai berikut: bagi $n$ dengan setiap bilangan bulat yang  lebih besar dari 1 dan tidak lebih besar dari $\\sqrt{n}$ (diwakili *int(n**(1/2)*) - $n$ prima jika dan hanya jika tidak ada bilangan yang dicoba dan habis membagi $n$.\n",
        " \n",
        "Buatlah program yang menerima masukan $n$ dan mengeluarkan hasil mengenai keprimaan $n$, dengan menggunakan algoritma yang dideskripsikan di paragraf sebelumnya.\n",
        " \n",
        "b. Pafnuty Chebyshev pada 1852 telah membuktikan untuk setiap $n$ asli yang lebih dari dua, selalu ada bilangan prima yang lebih besar dari $n$ dan lebih kecil dari $2n$. Pernyataan ini masyhur dikenal sebagai *Postulat Bertrand* atau *Teorema Bertrand-Chebyshev* (karena Joseph Bertrand mengajukan konjektur ini pada 1846).\n",
        " \n",
        "Dengan menggunakan algoritma yang telah Anda buat di bagian a, buatlah program yang menerima masukan bilangan asli $n$ dan mengeluarkan **sebuah** bilangan prima yang lebih besar dari $n$ dan lebih kecil dari $2n$.\n",
        " \n",
        "Misal NIM Anda ABCDEFGH. Ujilah kedua program yang telah Anda buat dengan menggunakan $n=ABCD, EFGHD, 2017, 2021$ (dengan menuliskan hasil pengujian di catatan).\n",
        " \n",
        "PS: Jika Anda penasaran lebih lanjut tentang bilangan prima teori bilangan, silakan mengambil mata kuliah Pengantar Teori Bilangan atau Kriptografi."
      ]
    },
    {
      "cell_type": "code",
      "metadata": {
        "id": "JZWJxabwRlPx"
      },
      "source": [
        "# Jawaban nomor 3"
      ],
      "execution_count": null,
      "outputs": []
    },
    {
      "cell_type": "markdown",
      "metadata": {
        "id": "dzFNRhKpVtef"
      },
      "source": [
        "#4 (Guru Oemar Bakrie)\n",
        " \n",
        "Lagu yang bisa didengarkan selagi mengerjakan soal ini: https://www.youtube.com/watch?v=8aSclF7GeJg\n",
        " \n",
        "Suatu hari, guru ilmu pasti sekolah Sikomat (sebutlah namanya Oemar Bakrie) membariskan anak-anak yang telat sekolah (dalam satu baris). Guru tersebut kemudian meminta nama dan tinggi badan setiap anak, guna referensi sampel rata-rata anak zaman sekarang.\n",
        " \n",
        "Setelah selesai memberi konsekuensi ke anak yang telat, beliau masuk kelas. Sialnya, dia baru teringat bahwa anak kepala sekolah juga telat masuk sekolah. Beliau tidak mengingat mukanya, namun beliau mengingat dua hal berikut: \n",
        " \n",
        "- Ia lebih tinggi dari anak yang berdiri tepat di depannya.\n",
        "- Ia lebih tinggi dari anak yang berdiri tepat di belakangnya.\n",
        " \n",
        "(catatan: ia tidak berdiri paling belakang ataupun paling depan)\n",
        " \n",
        "Dengan menggunakan data yang beliau punya, bantulah program untuk menentukan banyak murid telat yang mungkin merupakan anak kepala sekolah.\n",
        " \n",
        "Berikut spesifikasi program:\n",
        "- Program menerima masukan berupa $N$, banyak murid yang telat, dan dilanjutkan dengan $N$ buah masukan berupa tinggi $N$ anak tersebut (urut dari murid yang paling depan).\n",
        "- Program mengeluarkan banyak anak yang memenuhi kriteria sang guru.\n",
        " \n",
        "Contoh masukan dan keluaran (tentunya, program anda tidak perlu mengeluarkan '#Masukan'):"
      ]
    },
    {
      "cell_type": "code",
      "metadata": {
        "id": "oSLCBNbsvl1y"
      },
      "source": [
        "  #Masukan\n",
        "Banyak murid: 6\n",
        "Tinggi murid 1: 153\n",
        "Tinggi murid 2: 155\n",
        "Tinggi murid 3: 160\n",
        "Tinggi murid 4: 159\n",
        "Tinggi murid 5: 167\n",
        "Tinggi murid 6: 166\n",
        " \n",
        "#Keluaran\n",
        "Ada 2 anak kepala sekolah yang mungkin\n",
        " \n",
        "#Penjelasan: murid yang memenuhi persyaratan soal hanya murid 3 dan 5."
      ],
      "execution_count": null,
      "outputs": []
    },
    {
      "cell_type": "code",
      "metadata": {
        "id": "XLmnZNdg67jr"
      },
      "source": [
        "  #Masukan\n",
        "Banyak murid: 6\n",
        "Tinggi murid 1: 153\n",
        "Tinggi murid 2: 152\n",
        "Tinggi murid 3: 151\n",
        "Tinggi murid 4: 170\n",
        "Tinggi murid 5: 170\n",
        "Tinggi murid 6: 169\n",
        " \n",
        "#Keluaran\n",
        "Ada 0 anak kepala sekolah yang mungkin"
      ],
      "execution_count": null,
      "outputs": []
    },
    {
      "cell_type": "code",
      "metadata": {
        "id": "3vECZ9pkwCY0"
      },
      "source": [
        "# Jawaban nomor 4"
      ],
      "execution_count": null,
      "outputs": []
    }
  ]
}