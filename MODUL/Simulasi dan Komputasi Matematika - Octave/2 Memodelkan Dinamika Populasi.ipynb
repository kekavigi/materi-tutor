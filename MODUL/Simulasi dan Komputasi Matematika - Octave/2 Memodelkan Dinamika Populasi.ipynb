{
 "cells": [
  {
   "cell_type": "markdown",
   "metadata": {},
   "source": [
    "Feedback dari anda diperlukan! bantu kami dalam [meningkatkan modul ini](https://forms.gle/pWJd6y4hY4KWMcno6)."
   ]
  },
  {
   "cell_type": "markdown",
   "metadata": {},
   "source": [
    "# Memodelkan Populasi\n",
    "\n",
    "Permasalahan ini muncul ketika ahli-ahli biologi pada akhir abad 18 membuat model populasi untuk memahami dinamika pertumbuhan dan penurunan populasi organisme. Thomas Malthus adalah orang pertama yang menyadari populasi tumbuh secara geometrik ketika membayangkan nasib umat manusia. Namun model ini belum sempurna, *milestone*-nya adalah model populasi logistik yang dikembangkan oleh Pierre François Verhulst (1838).\n",
    "\n",
    "Selanjutnya model populasi menjadi ketertarikan ahli biologi abad 20 karena pertumbuhan populasi manusia yang *ngga sustainance* di beberapa negara(?) Eropa.\n",
    "\n",
    "The Lotka–Volterra predator–prey model was initially proposed by Alfred J. Lotka in the theory of autocatalytic chemical reactions in 1910.[4][5] This was effectively the logistic equation,[6] originally derived by Pierre François Verhulst.[7] In 1920 Lotka extended the model, via Andrey Kolmogorov, to \"organic systems\" using a plant species and a herbivorous animal species as an example[8] and in 1925 he utilised the equations to analyse predator–prey interactions in his book on biomathematics.[9] The same set of equations was published in 1926 by Vito Volterra, a mathematician and physicist, who had become interested in mathematical biology.[5][10][11] Volterra's enquiry was inspired through his interactions with the marine biologist Umberto D'Ancona, who was courting his daughter at the time and later was to become his son-in-law. D'Ancona studied the fish catches in the Adriatic Sea and had noticed that the percentage of predatory fish caught had increased during the years of World War I (1914–18). This puzzled him, as the fishing effort had been very much reduced during the war years. Volterra developed his model independently from Lotka and used it to explain d'Ancona's observation.[12]\n",
    "\n",
    "The model was later extended to include density-dependent prey growth and a functional response of the form developed by C. S. Holling; a model that has become known as the Rosenzweig–McArthur model.[13] Both the Lotka–Volterra and Rosenzweig–MacArthur models have been used to explain the dynamics of natural populations of predators and prey, such as the lynx and snowshoe hare data of the Hudson's Bay Company[14] and the moose and wolf populations in Isle Royale National Park.[15]\n",
    "\n",
    "In the late 1980s, an alternative to the Lotka–Volterra predator–prey model (and its common-prey-dependent generalizations) emerged, the ratio dependent or Arditi–Ginzburg model.[16] The validity of prey- or ratio-dependent models has been much debated.[17]\n",
    "\n",
    "The Lotka–Volterra equations have a long history of use in economic theory; their initial application is commonly credited to Richard Goodwin in 1965[18] or 1967.[19][20] \n",
    "\n",
    "Model ini selanjutnya dikembangkan lebih lanjut oleh Patrick Leslie (1939) yang menggunakan matriks untuk memodelkan banyak populasi per kelompok umur; dan oleh Robert MacArthur - E. O. Wilson yang memodelkan imigrasi dan kepunahan.\n",
    "\n",
    "## Model Malthus\n",
    "[Model populasi Malthus](https://en.wikipedia.org/wiki/Malthusian_growth_model) adalah model paling sederhana untuk menirukan perkembangan populasi manusia. Dalam modelnya, laju populasi manusia akan **tumbuh sebanding** dengan banyak populasinya. Secara matematis, jika kita nyatakan waktu  dengan $t$ dan $P(t)$ menyatakan populasi manusia saat $t$, hubungan ini dapat ditulis sebagai\n",
    "\n",
    "$$\\frac{\\Delta P}{\\Delta t} \\propto P$$\n",
    "\n",
    "atau, dengan menyatakan rasio pertumbuhan populasi sebagai $r$, persamaan ini dapat diubah ke persamaan diferensial\n",
    "\n",
    "$$\\frac{dP}{dt} = rP$$\n",
    "\n",
    "Lewat metode separasi variabel, persamaan ini memiliki solusi **persamaan analitik**\n",
    "\n",
    "$$P_t = P_0\\,e^{rt}$$\n",
    "\n",
    "dengan $P_0$ adalah besar populasi awal. Persamaan analitik menawarkan solusi pasti suatu permasalahan (dalam hal ini, populasi saat $t$), namun mencari solusi analitik suatu belum tentu mudah. Dalam keadaan ini, kita beralih ke **persamaan beda hingga** dengan memperhatikan bahwa banyak populasi saat $t$ akan sama dengan banyak populasi saat $t-\\Delta t$, ditambah dengan banyaknya pertumbuhan populasi tersebut selama $\\Delta t$. Atau secara matematis:\n",
    "\n",
    "$$P_t = P_{t-\\Delta t} + P_{t-\\Delta t}\\Delta t\n",
    "\\\\ = P_{t-\\Delta t}\\,(1 + \\Delta t)\n",
    "$$\n",
    "\n",
    "Selanjutnya, mari kita modelkan permasalahan ini:\n",
    "{problemo}\n",
    "\n",
    "langkah pertama adalah dengan inisialisasi variabel"
   ]
  },
  {
   "cell_type": "code",
   "execution_count": 1,
   "metadata": {},
   "outputs": [],
   "source": [
    "LamaSimulasi = 3;    # dalam tahun\n",
    "PopulasiAwal = 1000;\n",
    "RasioTumbuh  = 0.01;\n",
    "\n",
    "dt    = 1/(LamaSimulasi*365); # dt = setiap hari\n",
    "waktu = 1:LamaSimulasi/dt;    # banyak simulasi"
   ]
  },
  {
   "cell_type": "code",
   "execution_count": 2,
   "metadata": {},
   "outputs": [
    {
     "data": {
      "image/png": "[encoded data removed]",
      "text/plain": [
       "<IPython.core.display.Image object>"
      ]
     },
     "metadata": {},
     "output_type": "display_data"
    }
   ],
   "source": [
    "# Banyak populasi secara analitik, beda hingga, dan selisih kedua perhitungan\n",
    "PopulasiA    = [PopulasiAwal];\n",
    "PopulasiB    = [PopulasiAwal];\n",
    "SelisihAB    = [0];\n",
    "\n",
    "# menghitung besar populasi baru setiap waktunya\n",
    "for t = waktu(2:end)\n",
    "    PopulasiA(t) = PopulasiAwal * exp(RasioTumbuh*t);\n",
    "    PopulasiB(t) = PopulasiB(t-1) * (1 + RasioTumbuh);\n",
    "    SelisihAB(t) = PopulasiA(t) - PopulasiB(t);\n",
    "end\n",
    "\n",
    "#plotting\n",
    "subplot(2,1,1)\n",
    "plot(PopulasiA, '-', PopulasiB, '-')\n",
    "legend('Populasi A', 'Populasi B')\n",
    "\n",
    "subplot(2,1,2)\n",
    "plot(SelisihAB)"
   ]
  },
  {
   "cell_type": "markdown",
   "metadata": {},
   "source": [
    "{komen hasil}"
   ]
  },
  {
   "cell_type": "markdown",
   "metadata": {},
   "source": [
    "## Model Logistik\n",
    "\n",
    "Model Malthus tidak mempertimbangkan kapasitas lingkungan, seperti luas daerah dan makanan yang tersedia. Hal ini dapat diperbaiki dengan mempertimbangkan anggota populasi yang meninggal. Anggap banyaknya populasi yang meninggal sebagai $D$, dan kapasitas lingkungan sebagai $M$. Dengan asumsi banyak kematian populasi sebanding dengan pertumbuhan populasi, maka dapat ditulis\n",
    "\n",
    "$$\\frac{dD}{dt} = \\Big(r\\frac{P}{M}\\Big)P$$\n",
    "\n",
    "mensubtitusi persamaan ini ke model Malthus, didapatkan\n",
    "\n",
    "$$\\frac{dP}{dt} = rP - \\Big(r\\frac{P}{M}\\Big)P\n",
    "\\\\= rP\\Big(1-\\frac{P}{M}\\Big)$$\n",
    "\n",
    "lewat metode dekomposisi variabel solusi analitik persamaan ini adalah:\n",
    "\n",
    "$$ P_t = \\frac{MP_0 e^{rt}}{M + P_0(1+e^{rt})}$$\n",
    "\n",
    "wow, itu sulit dan sepertinya salah. Namun, persamaan beda hingganya masih masuk akal\n",
    "\n",
    "$$P_t = P_{t-\\Delta t} + rP_{t-\\Delta t}\\Big(1-\\frac{1}{M}P_{t-\\Delta t}\\Big)$$\n",
    "\n",
    "mari lakukan hal yg sama ke model logistik ini:"
   ]
  },
  {
   "cell_type": "code",
   "execution_count": 3,
   "metadata": {},
   "outputs": [
    {
     "data": {
      "image/png": "[encoded data removed]",
      "text/plain": [
       "<IPython.core.display.Image object>"
      ]
     },
     "metadata": {},
     "output_type": "display_data"
    }
   ],
   "source": [
    "Kapasitas = 4e6; # kapasitas lingkungan\n",
    "PopulasiA = [PopulasiAwal];\n",
    "PopulasiB = [PopulasiAwal];\n",
    "SelisihAB = [0];\n",
    "\n",
    "# menghitung besar populasi baru setiap minggunya\n",
    "for t = waktu(2:end)\n",
    "    ert = exp(RasioTumbuh*t);\n",
    "    PopulasiA(t) = Kapasitas*PopulasiAwal*ert/(Kapasitas + PopulasiAwal*(1+ert));\n",
    "    PopulasiB(t) = PopulasiB(t-1)*(1 + RasioTumbuh*(1-PopulasiB(t-1)/Kapasitas));\n",
    "    SelisihAB(t) = PopulasiA(t) - PopulasiB(t);\n",
    "end\n",
    "\n",
    "#plotting\n",
    "subplot(2,1,1)\n",
    "plot(PopulasiA, '-', PopulasiB, '-')\n",
    "legend('Populasi A', 'Populasi B')\n",
    "\n",
    "subplot(2,1,2)\n",
    "plot(SelisihAB)\n",
    "# perbaikan axis dikit\n",
    "ylim([min(SelisihAB) max(SelisihAB)])"
   ]
  },
  {
   "cell_type": "markdown",
   "metadata": {},
   "source": [
    "komen hasil"
   ]
  },
  {
   "cell_type": "markdown",
   "metadata": {},
   "source": [
    "## Model Volterra-Lotka\n",
    "\n",
    "### Predator-Prey\n",
    "\n",
    "The Lotka–Volterra model makes a number of assumptions, not necessarily realizable in nature, about the environment and evolution of the predator and prey populations:[21]\n",
    "\n",
    "    The prey population finds ample food at all times.\n",
    "    The food supply of the predator population depends entirely on the size of the prey population.\n",
    "    The rate of change of population is proportional to its size.\n",
    "    During the process, the environment does not change in favour of one species, and genetic adaptation is inconsequential.\n",
    "    Predators have limitless appetite.\n",
    "\n",
    "As differential equations are used, the solution is deterministic and continuous. This, in turn, implies that the generations of both the predator and prey are continually overlapping.\n",
    "\n",
    "Let s be the number of squirrels in the area and h be the number of hawks. If no\n",
    "hawks are present, the change in s from time t ∆t to time t is as in the uncon-\n",
    "strained model (see Module 2.2, “Unconstrained Growth and Decay”):\n",
    "∆s = s(t) – s(t - ∆t)\n",
    "= (squirrel growth at time t\n",
    "= k s * s(t\n",
    "∆t) * ∆t\n",
    "∆t) * ∆t for constant k s\n",
    "However, this prey’s population is reduced by an amount proportional to the product\n",
    "of the number of hawks and the number of squirrels, h(t ∆t) * s(t ∆t). Thus, with\n",
    "a proportionality constant k hs for this reduction, the change in the number of squirrels\n",
    "from time t ∆t to time t is as follows:\n",
    "∆s = s(t) – s(t\n",
    "∆t)\n",
    "= (squirrel growth at time t\n",
    "= (k s * s(t\n",
    "∆t) – k hs * h(t\n",
    "∆t) * ∆t\n",
    "∆t) * s(t\n",
    "∆t)) * ∆t\n",
    "for constants k s and k hs .\n",
    "We can interpret the term k hs * h(t ∆t) * s(t ∆t) in a couple of ways. First,\n",
    "h(t ∆t) * s(t ∆t) is the maximum number of distinct interactions of hawks with\n",
    "squirrels. For example, for h(t ∆t) = 3 hawks and s(t ∆t) = 2 squirrels, (3)(2) = 6\n",
    "\n",
    "possible pairings exist. The decrease in the number of squirrels is proportional to this\n",
    "product, where the constant of proportionality, k hs , is related to the hunting ability of\n",
    "the hawks and the survival ability of the squirrels. A second interpretation of k hs *\n",
    "h(t ∆t) * s(t ∆t) = (k hs * h(t ∆t)) * s(t ∆t) is that the size of the squirrel popula-\n",
    "tion decreases in proportion to the size of the hawk population.\n",
    "While the squirrel population decreases with more contacts between the predator\n",
    "and prey, the hawk population increases. Moreover, the death rate of hawks is pro-\n",
    "portional to the number of hawks. Thus, the change in the hawk population from\n",
    "time t ∆t to time t is as follows:\n",
    "∆h = h(t) – h(t ∆t)\n",
    "∆t) * ∆t\n",
    "= (hawk growth at time t\n",
    "∆t) * h(t\n",
    "= (k sh * s(t\n",
    "∆t) – k h * h(t\n",
    "∆t)) * ∆t\n",
    "for constants k sh and k h . Although the deaths of the squirrels and the births of the\n",
    "hawks are both proportional to the product of the number of possible interactions of\n",
    "the two populations, their constants of proportionality, k hs and k sh , respectively, are\n",
    "probably different. For instance, 2% of the possible interactions might result in the\n",
    "death of a squirrel, while only 1% of the possible interactions might contribute to the\n",
    "birth of a hawk.\n",
    "We can express the predator-prey model, known as the Lotka-Volterra model,\n",
    "as the following pair of difference equations for the change in prey (here, change in\n",
    "the squirre‘ ”“”u‘ati“n, ∆s) and change in predator (here, change in the hawk popu-\n",
    "‘ati“n, ∆h) from time t ∆t to time t:\n",
    "∆s = (k s * s(t ∆t) – k hs * h(t\n",
    "∆t) * s(t ∆t)) * ∆t\n",
    "∆h = (k sh * s(t ∆t) * h(t\n",
    "∆t) – k h * h(t ∆t)) * ∆t\n",
    "(1)\n",
    "or as the following pair of differential equations:\n",
    "ds\n",
    "= k s s − k hs h s\n",
    "dt\n",
    "dh\n",
    "= k sh s h − k h h\n",
    "dt\n",
    "(2)\n",
    "Figure 4.2.1 contains a diagram for the predator-prey model with the prey population\n",
    "affecting the nu’ber “f ”redat“r births and the ”redat“r ”“”u‘ati“n inluencing the\n",
    "number of prey deaths.\n",
    "\n",
    "### Kompetitif\n",
    "Everyone is familiar with competition. We compete for attention in families, for\n",
    "grades in school, for jobs and promotions, for parking spaces, and on and on. Com-\n",
    "petition is integral to most economic activity. Through competition in human societ-\n",
    "ies, wages and prices are set; quantities and types of products manufactured are se-\n",
    "lected; businesses succeed or fail; and resources are distributed. Economic and social\n",
    "competition may occur even in noncapitalist systems.\n",
    "More broadly, competition is a basic characteristic of all communities, human\n",
    "and nonhuman. It may occur within a population of the same species (intraspeciic),\n",
    "like the human species, or it may occur between populations of different species\n",
    "(interspeciic). Competitive interactions affect species distribution, community or-\n",
    "ganization, and species evolution.\n",
    "Simply speaking, competition is the struggle between individuals of a population\n",
    "or between species for the same limiting resource. If one individual (species) re-\n",
    "duces the availability of the resource to the other, we term that type of competition\n",
    "exploitative, or resource depletion. This interaction is indirect and may involve\n",
    "removal of the resource or denial of living space. If there is direct interaction be-\n",
    "tween individuals (species), where one interferes with or denies access to a resource,\n",
    "we term that competition interference. In this form, there may be physical contests\n",
    "for territory or resource. Interference may also, as in some plants, involve the pro-\n",
    "duction of toxic chemicals.\n",
    "### Mutualisme"
   ]
  },
  {
   "cell_type": "code",
   "execution_count": null,
   "metadata": {},
   "outputs": [],
   "source": []
  }
 ],
 "metadata": {
  "kernelspec": {
   "display_name": "Octave",
   "language": "octave",
   "name": "octave"
  },
  "language_info": {
   "file_extension": ".m",
   "help_links": [
    {
     "text": "GNU Octave",
     "url": "https://www.gnu.org/software/octave/support.html"
    },
    {
     "text": "Octave Kernel",
     "url": "https://github.com/Calysto/octave_kernel"
    },
    {
     "text": "MetaKernel Magics",
     "url": "https://metakernel.readthedocs.io/en/latest/source/README.html"
    }
   ],
   "mimetype": "text/x-octave",
   "name": "octave",
   "version": "4.2.2"
  }
 },
 "nbformat": 4,
 "nbformat_minor": 2
}
