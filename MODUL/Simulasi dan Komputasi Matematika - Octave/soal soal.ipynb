{
 "cells": [
  {
   "cell_type": "markdown",
   "metadata": {},
   "source": [
    "Feedback dari anda diperlukan! bantu kami dalam [meningkatkan modul ini](https://forms.gle/pWJd6y4hY4KWMcno6)."
   ]
  },
  {
   "cell_type": "markdown",
   "metadata": {},
   "source": [
    "## Hukum Pemanasan-Pendinginan Newton\n",
    "{cot intro}\n"
   ]
  },
  {
   "cell_type": "markdown",
   "metadata": {},
   "source": [
    "## 1854 Broad Street Cholera Outbreak\n",
    "* https://en.wikipedia.org/wiki/1854_Broad_Street_cholera_outbreak wow!\n",
    "* https://www.theguardian.com/news/datablog/2013/mar/15/john-snow-cholera-map\n",
    "\n",
    "bagaimana model dimana laju kasus kematian sebanding dengan akar kuadrat dari kasus?"
   ]
  },
  {
   "cell_type": "markdown",
   "metadata": {},
   "source": [
    "## Model Investasi\n",
    "Develop a model for an investment that has approximately a continuous growth rate of 9.3%."
   ]
  },
  {
   "cell_type": "markdown",
   "metadata": {},
   "source": [
    "## Membeli Mobil\n",
    "A young professional would like to save enough money to pay cash for a new car. Develop a model to determine when such a purchase will be possible. Take into account the following issues: The price of a new car is rising due to inflation. The buyer plans to trade in a car, which is depreciating. This person already has some savings and plans to make regular monthly payments. Thus, use a ∆t value of 1 mo. Assume appropriate rates and values."
   ]
  },
  {
   "cell_type": "markdown",
   "metadata": {},
   "source": [
    "## Serangan Jangkrik\n",
    "Develop a model for the mallard population in Exercise 3. Have a converter or variable for the number of acres of rice available for mallard consumption, and from this value, have the model compute the carrying capacity. Report on the effect of decreasing the number of acres of rice available (Reinecke)."
   ]
  },
  {
   "cell_type": "markdown",
   "metadata": {},
   "source": [
    "## Kapasitas Lingkungan Bersifat Dinamik\n",
    "In some situations, the carrying capacity itself is dynamic. For example, the performance of airplanes had one carrying capacity with piston engines and a higher limit with the advent of jet engines. Many think that human population growth over a limited period of time follows such a pattern as technological changes enable more people to live on the available resources. In such cases, we might be able to model the carrying capacity itself as a logistic. Suppose $M_1$ is the first carrying capacity, and $M_1 + M_2$ is the second. The differential equation for the carrying capacity $M(t)$ as a function of time $t$ would be as follows:\n",
    "\n",
    "M ( t ) − M 1 \n",
    "dM ( t )\n",
    "= a ( M ( t ) − M 1 )  1 −\n",
    "  for some constant a > 0\n",
    "dt\n",
    "M 2\n",
    "\n",
    "\n",
    "By using M(t), we have a logistic for the carrying capacity as well as a logistic for the population. Figure 2.3.3 displays population, P(t), in black and M(t) in c“‘“r with the irst carrying ca”acity M 1 = 20; the second,\n",
    "M 1 + M 2 = 70; and an inlecti“n ”“int f“r M at t = 450. Notice that we get a “bilogistic,” or “doubly logistic,” model for P(t). Develop a model for the following scenario. \n",
    "\n",
    "### Inggris Raya\n",
    "First, generate an appropriate logistic carrying capacity, M(t). Then, use this dynamic carrying capacity to limit the population. In a ”“”u‘ati“n study “f Eng‘and fr“’ 1541 t“ 1975, starting with a ”“”u- lation of about 1 million, early islanders appear to have a carrying capacity of around 5 million people. However, beginning about 1800 with the advent of the Industrial Revolution, the carrying capacity appears to have increased to about 50 million people. The change in the concavity from concave up to concave down for this new logistic appears to occur in about 1850 (Meyer and Ausube‘ 1999).\n",
    "\n",
    "### Jepang\n",
    "Refer to Project 3 for a description of a logistic carrying-capacity function. Using that information, develop a model for the Japanese population from the year 1100 to 2000. With an initial population of 5 million, the island population was mainly a feudal society that leveled off to about 35 million. The industrial revolution came to Japan in the latter part of the nineteenth century, and the ”“”u‘ati“n r“se ra”id‘y “ver a 77-yr ”eri“d, with the inlec- ti“n ”“int “ccurring ab“ut 1908 (Meyer and Ausube‘ 1999)."
   ]
  },
  {
   "cell_type": "markdown",
   "metadata": {},
   "source": [
    "## Populasi Ikan di Kolam\n",
    "Develop a model for the number of trout in a lake initially stocked with 400 tr“ut. These ish increase at a rate “f 15%, and the ‘a—e has a carrying capacity of 5000 trout. However, vacationers catch trout at a rate of 8%."
   ]
  },
  {
   "cell_type": "markdown",
   "metadata": {},
   "source": [
    "## Perburuan Paus\n",
    "It has been esti’ated that f“r the Antarctic in wha‘e, r = 0.08, M = 400,000, and P 0 = 70,000 in 1976. M“de‘ this ”“”u‘ati“n. Then, revise the ’“de‘ t“ consider harvesting the whales as a percentage of rM. Give various values\n",
    "for this percentage that lead to extinction and other values that lead to increases in the population. Estimate the maximum sustainable yield, or the percentage of rM that gives a constant population in the long term (Zill\n",
    "2013)."
   ]
  },
  {
   "cell_type": "markdown",
   "metadata": {},
   "source": [
    "1. Develop a two-compartment model for one dose of aspirin.\n",
    "2. Develop a two-compartment model for aspirin, where someone with a headache takes three aspirin tablets and 2 h later takes two more aspirin tablets.\n",
    "3. In attempt to raise the concentration of a drug in the system to the minimum effective concentration quickly, sometimes doctors give a patient a loading dose, which is an initial dosage that is much higher than the maintenance dosage. A loading dose for Dilantin is three doses 400 mg, 300 mg, and 300 mg 2h apart. Twenty-four hours after the loading dose, normal dosage of 100 mg every 8 h begins. Develop a model for this dosage regime.\n",
    "4. Develop a two-compartment model for Dilantin, where the rate of change of absorption from the stomach to the blood serum is proportional to the amount of drug in the stomach.\n",
    "5. Develop a two-compartment model for Dilantin, where the rate of change of absorption from the stomach to the blood serum is proportional to the volume of the stomach and to the difference of the drug concentrations in the stomach and serum. Assume the volume of the stomach is 500 mL.\n",
    "6. Develop a two-compartment model for a pediatric dosage of Dilantin that includes the mass of the patient. The initial dose is 5 mg/kg per day in two or three equally divided doses. The maintenance dosage is usually 4 to 8 mg/kg per day.\n",
    "7. Develop a model for vancomycin HCI, which is a treatment for serious infections by susceptible strains of methicillin-resistant staphylococci in penicillin-allergic patients. The drug is administered by IV infusion. The intravenous dose is usually 2 g divided either as 500 mg every 6 h or 1 g every 12 h, and the rate is no more than 10 mg/min or over a period of at least 50 min, whichever is longer. When kidney function is normal, multiple intravenous dosing of 1 g results in mean plasma concentrations of about 63 μg/mL immediately after infusion, 23 μg/mL in 2 h, and 8 μg/mL 11 h after infusion. In such patients, the mean elimination half-life from plasma is 4 to 6 h. The mean plasma clearance is approximately 0.058 L/kg/h (liter of drug per kilogram of patient mass each hour), while the mean renal clearance is about 0.048 L/kg/h (Hospira 2010). Thus, include the mass of the patient in the model.\n",
    "8. Repeat Pro–ect 7 for ”atients with renal dysfunction in which the average half-life of elimination is 7.5 da (Hospira 2010).\n",
    "9. Develop a model for Vancocin HCI in which the patient initially has normal kidney function (see Project 7). However, at the start of the third day, one of the patientms kidneys stops functioning; and the elimination rate becomes half its previous value. Consider using a step function.\n",
    "10. Do Project 7 for children, where the dosage is 10 mg/kg every 6 h, and the rate of administration is over a period of at least 60 min (Hospira 2010).\n",
    "11. Do Project 7 for neonates and young infants. The initial dose is 15 mg/kg. Thereafter, the dosage is 10 mg/kg every 12 h for neonates in their first week of life and afterward, up to age of 1 mo, every 8 h. Administration is more than 60 min (Hospira 2010).\n",
    "12. Model drug dosage of aspirin for arthritis, where the initial dose is 3 g/da in divided doses. The dosage can be increased. Relief usually occurs at plasma levels of 20 to 30 mg per 100 mL. The plasma half-life of aspirin increases\n",
    "13. with dosage, so that a dose of 1 g has a half-life of about 5 h and a dose of 2 g has a half-life of about 9 h. Considering the information about mass in Project 7, do any of the previous projects except one involving children or infants, accounting for the mass of a male patient.\n",
    "14. By consulting a ”harmacy reference or website, such as http://www.nlm.nih.gov/medlineplus/druginformation.html, obtain relevant information about some drug. Model the dosage of this drug."
   ]
  },
  {
   "cell_type": "code",
   "execution_count": null,
   "metadata": {},
   "outputs": [],
   "source": []
  }
 ],
 "metadata": {
  "kernelspec": {
   "display_name": "Octave",
   "language": "octave",
   "name": "octave"
  },
  "language_info": {
   "file_extension": ".m",
   "help_links": [
    {
     "text": "GNU Octave",
     "url": "https://www.gnu.org/software/octave/support.html"
    },
    {
     "text": "Octave Kernel",
     "url": "https://github.com/Calysto/octave_kernel"
    },
    {
     "text": "MetaKernel Magics",
     "url": "https://github.com/calysto/metakernel/blob/master/metakernel/magics/README.md"
    }
   ],
   "mimetype": "text/x-octave",
   "name": "octave",
   "version": "4.2.2"
  }
 },
 "nbformat": 4,
 "nbformat_minor": 2
}
