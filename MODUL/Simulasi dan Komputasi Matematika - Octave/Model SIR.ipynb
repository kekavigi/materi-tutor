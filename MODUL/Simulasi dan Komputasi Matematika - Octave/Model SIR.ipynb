{
 "cells": [
  {
   "cell_type": "markdown",
   "metadata": {},
   "source": [
    "Feedback dari anda diperlukan! bantu kami dalam [meningkatkan modul ini](https://forms.gle/pWJd6y4hY4KWMcno6)."
   ]
  },
  {
   "cell_type": "markdown",
   "metadata": {},
   "source": [
    "# Penyebaran Penyakit\n",
    "\n",
    "## SIR\n",
    "\n",
    "* Susceptible (S) tidak imun terhadap penyakit\n",
    "* Infected (I) terkena penyakit\n",
    "* Recovered (R) telah sembuh dan imun terhadap penyakit\n",
    "\n",
    "### Influenza di kotak tertutup\n",
    "\n",
    "asumsi tidak ada kelahiran kematian imigrasi dan emigrasi"
   ]
  },
  {
   "cell_type": "code",
   "execution_count": 15,
   "metadata": {},
   "outputs": [
    {
     "data": {
      "image/png": "[encoded data removed]",
      "text/plain": [
       "<IPython.core.display.Image object>"
      ]
     },
     "metadata": {},
     "output_type": "display_data"
    }
   ],
   "source": [
    "LamaSimulasi = 7; #hari\n",
    "dt = 1/(LamaSimulasi);\n",
    "\n",
    "BanyakPopulasi = 763;\n",
    "S = [BanyakPopulasi-1];\n",
    "I = [1];\n",
    "R = [0];\n",
    "\n",
    "LamaInfeksi = 2; #hari\n",
    "\n",
    "# konstanta penyembuhan\n",
    "kir = 1/LamaInfeksi; #perhari\n",
    "# konstanta transimisi\n",
    "ksi =  0.00218; #perhari\n",
    "\n",
    "# ksi =  RerataKontakI * (S(t-1)/BanyakPopulasi) * PeluangPenularan;\n",
    "\n",
    "for t = 2:LamaSimulasi/dt\n",
    "    infected  = ksi * S(t-1)*I(t-1);\n",
    "    recovered = kir * I(t-1);\n",
    "    S(t) = S(t-1) - infected;\n",
    "    I(t) = I(t-1) + infected - recovered;\n",
    "    R(t) = R(t-1) + recovered;\n",
    "\n",
    "endfor\n",
    "\n",
    "plot(S,'-',\n",
    "     I,'-',\n",
    "     R,'-')\n",
    "     \n",
    "legend('S','I','R')"
   ]
  },
  {
   "cell_type": "markdown",
   "metadata": {},
   "source": [
    "## SEIR\n"
   ]
  },
  {
   "cell_type": "code",
   "execution_count": null,
   "metadata": {},
   "outputs": [],
   "source": []
  }
 ],
 "metadata": {
  "kernelspec": {
   "display_name": "Octave",
   "language": "octave",
   "name": "octave"
  },
  "language_info": {
   "file_extension": ".m",
   "help_links": [
    {
     "text": "GNU Octave",
     "url": "https://www.gnu.org/software/octave/support.html"
    },
    {
     "text": "Octave Kernel",
     "url": "https://github.com/Calysto/octave_kernel"
    },
    {
     "text": "MetaKernel Magics",
     "url": "https://github.com/calysto/metakernel/blob/master/metakernel/magics/README.md"
    }
   ],
   "mimetype": "text/x-octave",
   "name": "octave",
   "version": "4.2.2"
  }
 },
 "nbformat": 4,
 "nbformat_minor": 2
}
