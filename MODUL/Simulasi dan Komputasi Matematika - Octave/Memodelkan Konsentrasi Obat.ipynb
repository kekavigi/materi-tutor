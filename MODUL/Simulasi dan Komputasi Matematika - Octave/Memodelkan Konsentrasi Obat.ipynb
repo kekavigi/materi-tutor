{
 "cells": [
  {
   "cell_type": "markdown",
   "metadata": {},
   "source": [
    "Feedback dari anda diperlukan! bantu kami dalam [meningkatkan modul ini](https://forms.gle/pWJd6y4hY4KWMcno6)."
   ]
  },
  {
   "cell_type": "markdown",
   "metadata": {},
   "source": [
    "# Memodelkan Konsentrasi Obat\n",
    "\n",
    "{cot intro} ini gilasih https://www.ncbi.nlm.nih.gov/pmc/articles/PMC4618536/\n",
    "https://ac.els-cdn.com/0010480972900511/1-s2.0-0010480972900511-main.pdf?_tid=5bc21db8-6d82-4d26-90a8-11585361d32a&acdnat=1539935671_591b5b88c96e16826efa3a756081897d\n",
    "\n",
    "## Model Satu Kompartemen\n",
    "\n",
    "### Sekali Penggunaan\n",
    "\n",
    "model sederhana memodelkan penggunaan obat. asumsi:\n",
    "* konsentrasi ($Q$) di sistem darah sebanding dengan banyak obat yang digunakan\n",
    "* laju eliminasi ($\\frac{dQ}{dt}$) sebanding dengan konsentrasi di sistem darah\n",
    "\n",
    "$$\n",
    "\\frac{dQ}{dt} = - KQ\\\\\n",
    "Q = Q_0 e^{Kt}$$\n",
    "\n",
    "dengan $K = -\\frac{ln(0.5)}{t_{0.5}}$, karena perusahaan farmasi lazimnya memberikan nilai waktu paruh ($t_{0.5}$) obat.\n",
    "\n",
    "$$Q_t = Q_{t-\\Delta t} (1-K\\Delta t)$$"
   ]
  },
  {
   "cell_type": "code",
   "execution_count": null,
   "metadata": {},
   "outputs": [],
   "source": [
    "# inisialisasi variabel\n",
    "WaktuParuh      = 3.2      #dalam jam\n",
    "LamaSimulasi    = 8\n",
    "VolPlasma       =  3000    #dalam mL\n",
    "KonAspirinB     = [625000/VolPlasma]    #dalam mikrogram/mL\n",
    "\n",
    "K  = -log(0.5)/WaktuParuh #konstanta eliminasi\n",
    "dt = 1/3600\n",
    "\n",
    "waktu        = range(1,int(LamaSimulasi/dt)+1)\n",
    "\n",
    "for iterasi in waktu[:-1]:\n",
    "    KonAspirinB.append( KonAspirinB[iterasi-1]*(1-K*dt))\n",
    "    \n",
    "#plotting\n",
    "plt.plot(waktu,KonAspirinB)"
   ]
  },
  {
   "cell_type": "markdown",
   "metadata": {},
   "source": [
    "### Penggunaan Berulang"
   ]
  },
  {
   "cell_type": "code",
   "execution_count": null,
   "metadata": {},
   "outputs": [],
   "source": [
    "# inisialisasi variabel\n",
    "WaktuParuh      = 22      #dalam jam\n",
    "LamaSimulasi    = 168     #dalam jam\n",
    "KonAspirinB     = [12000] #dalam mikrogram/mL\n",
    "\n",
    "K  = -log(0.5)/WaktuParuh #konstanta eliminasi\n",
    "dt = 1/3600\n",
    "\n",
    "waktu    = range(1,int(LamaSimulasi/dt)+1)\n",
    "interval = int(8/dt)\n",
    "\n",
    "for iterasi in waktu[:-1]:\n",
    "    KonAspirinB.append( KonAspirinB[iterasi-1]*(1-K*dt))\n",
    "    \n",
    "    if iterasi%interval==0:\n",
    "        KonAspirinB[-1] += 12000 #penambahan\n",
    "    \n",
    "#plotting\n",
    "plt.rcParams['figure.figsize'] = [15, 6]\n",
    "plt.plot(waktu,KonAspirinB)"
   ]
  },
  {
   "cell_type": "markdown",
   "metadata": {},
   "source": [
    "## Model Dua Kompartemen"
   ]
  },
  {
   "cell_type": "code",
   "execution_count": null,
   "metadata": {},
   "outputs": [],
   "source": [
    "# inisialisasi variabel\n",
    "WaktuParuh      = 22      #dalam jam\n",
    "LamaSimulasi    = 168     #dalam jam\n",
    "KonAspirinUsus  = 12000\n",
    "KonAspirinPlasma= [0]     #dalam mikrogram/mL\n",
    "\n",
    "K  = -log(0.5)/WaktuParuh #konstanta eliminasi\n",
    "dt = 1/3600\n",
    "\n",
    "waktu    = range(1,int(LamaSimulasi/dt)+1)\n",
    "interval = int(8/dt)\n",
    "\n",
    "for iterasi in waktu[:-1]:\n",
    "    #konstanta * Vusus * (KonObatUsus - KonAspirinTubuh)\n",
    "    masuk = 0.3 * 5000 * (KonAspirinUsus - KonAspirinPlasma[iterasi-1]) * dt\n",
    "    \n",
    "    KonAspirinUsus -= masuk\n",
    "    \n",
    "    hilang = KonAspirinPlasma[iterasi-1]*K*dt\n",
    "    \n",
    "    KonAspirinPlasma.append( KonAspirinPlasma[iterasi-1] - hilang + masuk)\n",
    "        \n",
    "#plotting\n",
    "plt.rcParams['figure.figsize'] = [15, 6]\n",
    "plt.plot(waktu,KonAspirinPlasma)"
   ]
  },
  {
   "cell_type": "code",
   "execution_count": null,
   "metadata": {},
   "outputs": [],
   "source": [
    "# inisialisasi variabel\n",
    "WaktuParuh      = 22      #dalam jam\n",
    "LamaSimulasi    = 168     #dalam jam\n",
    "KonAspirinUsus  = 12000\n",
    "KonAspirinPlasma= [0]     #dalam mikrogram/mL\n",
    "\n",
    "K  = -log(0.5)/WaktuParuh #konstanta eliminasi\n",
    "dt = 1/3600\n",
    "\n",
    "waktu    = range(1,int(LamaSimulasi/dt)+1)\n",
    "interval = int(8/dt)\n",
    "\n",
    "for iterasi in waktu[:-1]:\n",
    "    #konstanta * Vusus * (KonObatUsus - KonAspirinTubuh)\n",
    "    masuk = 0.3 * 5000 * (KonAspirinUsus - KonAspirinPlasma[iterasi-1]) * dt\n",
    "    \n",
    "    KonAspirinUsus -= masuk\n",
    "    \n",
    "    hilang = KonAspirinPlasma[iterasi-1]*K*dt\n",
    "    \n",
    "    KonAspirinPlasma.append( KonAspirinPlasma[iterasi-1] - hilang + masuk)\n",
    "    \n",
    "    if iterasi%interval==0:\n",
    "        KonAspirinUsus += 12000 #penambahan\n",
    "#plotting\n",
    "plt.rcParams['figure.figsize'] = [15, 6]\n",
    "plt.plot(waktu,KonAspirinPlasma)"
   ]
  },
  {
   "cell_type": "code",
   "execution_count": null,
   "metadata": {},
   "outputs": [],
   "source": []
  },
  {
   "cell_type": "code",
   "execution_count": null,
   "metadata": {},
   "outputs": [],
   "source": []
  }
 ],
 "metadata": {
  "kernelspec": {
   "display_name": "Octave",
   "language": "octave",
   "name": "octave"
  },
  "language_info": {
   "file_extension": ".m",
   "help_links": [
    {
     "text": "GNU Octave",
     "url": "https://www.gnu.org/software/octave/support.html"
    },
    {
     "text": "Octave Kernel",
     "url": "https://github.com/Calysto/octave_kernel"
    },
    {
     "text": "MetaKernel Magics",
     "url": "https://github.com/calysto/metakernel/blob/master/metakernel/magics/README.md"
    }
   ],
   "mimetype": "text/x-octave",
   "name": "octave",
   "version": "4.2.2"
  }
 },
 "nbformat": 4,
 "nbformat_minor": 2
}
