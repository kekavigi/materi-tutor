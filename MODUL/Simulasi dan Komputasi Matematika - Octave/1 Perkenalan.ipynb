{
 "cells": [
  {
   "cell_type": "markdown",
   "metadata": {},
   "source": [
    "Feedback dari anda diperlukan! bantu kami dalam [meningkatkan modul ini](https://forms.gle/pWJd6y4hY4KWMcno6)."
   ]
  },
  {
   "cell_type": "markdown",
   "metadata": {},
   "source": [
    "# Intro\n",
    "\n",
    "**Permodelan** adalah aplikasi metode untuk menganalisis masalah dunia (sistem) yang kompleks guna membuat prediksi keadaan yang mungkin terjadi dalam suatu kondisi tertentu. Ada beberapa kategori model:\n",
    "* **stokastik** / **probabilistik**, jika elemen random (ketidakpastian) diperhatikan.\n",
    "* **deterministik**, jika tidak.\n",
    "\n",
    "selain itu, model dapat diklasifikasikan menjadi:\n",
    "* **statik**, jika variabel waktu tidak diperhatikan.\n",
    "* **dinamik**, jika variabel waktu ikut berperan. jika variabel waktu berubah dengan mulus [maksudnya?], model dikatakan **kontinu**, sedangkan jika berubah dengan beda $dt$ dikatakan **diskret**.\n",
    "\n",
    "## Proses Membuat Model\n",
    "1. **Analisis permasalahan**. Apa tujuannya? apa kategori dan klasifikasinya? setelah identifikasi dengan jelas, masalah dapat dinyatakan secara matematis dan model dapat dikembangkan\n",
    "2. **Buat Model**.\n",
    "    * Kumpulkan informasi tentang perilaku sistem\n",
    "    * buat asumsi sederhana dan dokumentasikan.\n",
    "    * tentukan variabel dan unit.\n",
    "    * buat hubungan matematis antar variabel (tentu, dalam bentuk persamaan).\n",
    "3. **Implementasikan** model, mungkin dengan aljabar, kalkulus, graf, program komputer, dst.\n",
    "4. **Verifikasi** apakah solusi model memang benar, dan **validasi** apakah model memang menyelesaikan soal yang benar. perbaikan solusi umumnya akan memperumit model, sedangkan model yang sederhana umumnya akan memperburuk solusi. ada *trade-off* disini, bung.\n",
    "5. **Publikasikan** dan ***Maintain*** model.\n",
    "\n",
    "## Ekuilibrium dan Stabilitas\n",
    "\n",
    "**Ekuilibrium** (kesetimbangan) adalah keadaan dimana sistem tidak berubah. Sebuah kesetimbangan dibedakan menjadi kesetimbangan **stabil** dan **tidak stabil**. Kesetimbangan dikatakan stabil (secara asimtotik) jika sistem kembali ke keadaan setimbang setelah terkena gangguan kecil. Tapi jika sistem melakukan hal sebaliknya, kesetimbangannya disebut tidak stabil.\n",
    "\n",
    "Jika sistem dapat dimodelkan secara diferensial, kesetimbangan dapat ditentukan dengan membuat turunan sama dengan nol dan kestabilannya ditentukan dari gradien garis singgung di titik kesetimbangan tersebut. gradien positif (*positif*) menandakan keadaan tidak stabil dan gradien negatif menandakan keadaan stabil. Namun memodelkan \n",
    "\n",
    "\n",
    "\n",
    "\n",
    "\n",
    "\n",
    "Stability of models with several variables\n",
    "Detection of stability in these models is not that simple as in one-variable models. Let's consider a predator-prey model with two variables: (1) density of prey and (2) density of predators. Dynamics of the model is described by the system of 2 differential equations:\n",
    "\n",
    "This is the 2-variable model in a general form. Here, H is the density of prey, and P is the density of predators. The first step is to find equilibrium densities of prey (H*) and predator (P*). We need to solve a system of equations:\n",
    "\n",
    "The second step is to linearize the model at the equilibrium point (H = H*, P = P*) by estimating the Jacobian matrix:\n",
    "\n",
    "Third, eigenvalues of matrix A should be estimated. The number of eigenvalues is equal to the number of state variables. In our case there will be 2 eigenvalues. Eigenvalues are generally complex numbers. If real parts of all eigenvalues are negative, then the equilibrium is stable. If at least one eigenvalue has a positive real part, then the equilibrium is unstable. Eigenvalues are used here to reduce a 2-dimensional problem to a couple of 1-dimensional problem problems. Eigenvalues have the same meaning as the slope of a line in phase plots. Negative real parts of eigenvalues indicate a negative feedback. It is important that ALL eigenvalues have negative real parts. If one eigenvalue has a positive real part then there is a direction in a 2-dimensional space in which the system will not tend to return back to the equilibrium point.\n",
    "\n",
    "There are 2 types of stable equilibria in a two-dimensional space: knot and focus\n",
    "\n",
    "There are 3 types of unstable equilibria in a two-dimensional space: knot, focus, and saddle\n",
    "\n",
    "Stability in discrete-time models\n",
    "Consider a discrete-time model (a difference equation) with one state variable:\n",
    "\n",
    "This model is stable if and only if :\n",
    "\n",
    "where is the slope of a thick line in graphs below:\n",
    "\n",
    "You can check this yourself using the following Excel spreadsheet:\n",
    "\n",
    "Excel spreadsheet \"ricker.xls\"\n",
    "\n",
    "If the slope is positive but less than 1, then the system approaches the equilibrium monotonically (left). If the slope is negative and greater than -1, then the system exhibits oscillations because of the \"overcompensation\" (center). Overcompensation means that the system jumps over the equilibrium point because the negative feedback is too strong. Then it returnes back and again jumps over the equilibrium.\n",
    "\n",
    "Continuous-time models with 1 variable never exhibit oscillations. In discrete-time models, oscillations are possible even with 1 variable. What causes oscillations is the delay between time steps. Overcompensation is a result of large time steps. If time steps were smaller, then the system would not jump over the equilibrium but will approach to it gradually.\n",
    "\n",
    "Now we will analyze stability in the Ricker's model. This model is a discrete-time analog of the logistic model:\n",
    "\n",
    "First, we need to find the equilibrium population density N* by solving the equation:\n",
    "\n",
    "This equation is obtained by substituting Nt+1 and Nt with the equilibrium population density N* in the initial equation. The roots are: N* = 0 and N* = K.. We are not interested in the first equilibrium (N* = 0) because there is no population. Let's estimate the slope df/dN at the second equilibrium point:\n",
    "\n",
    "Now we can apply the condition of stability:\n",
    "\n",
    "-1 < 1 - r < 1\n",
    "\n",
    "0 < r < 2\n",
    "\n",
    "Thus, the Ricker's model has a stable equilibrium N* = K if 0 < r < 2.\n",
    "\n",
    "If a discrete time model has more than one state variable, then the analysis is similar to that in continuous-time models. The first step is to find equilibria. The second step is to linearize the model at the equilibrium state, i.e., to estimate the Jacobian matrix. The third step is to estimate eigenvalues of this matrix. The only difference from continuous models is the condition of stability. Discrete-time models are stable (asymptotically stable) if and only if all eigenvalues lie in the circle with the radius = 1 in the complex plain"
   ]
  },
  {
   "cell_type": "code",
   "execution_count": null,
   "metadata": {},
   "outputs": [],
   "source": []
  }
 ],
 "metadata": {
  "kernelspec": {
   "display_name": "Octave",
   "language": "octave",
   "name": "octave"
  },
  "language_info": {
   "file_extension": ".m",
   "help_links": [
    {
     "text": "GNU Octave",
     "url": "https://www.gnu.org/software/octave/support.html"
    },
    {
     "text": "Octave Kernel",
     "url": "https://github.com/Calysto/octave_kernel"
    },
    {
     "text": "MetaKernel Magics",
     "url": "https://github.com/calysto/metakernel/blob/master/metakernel/magics/README.md"
    }
   ],
   "mimetype": "text/x-octave",
   "name": "octave",
   "version": "4.2.2"
  }
 },
 "nbformat": 4,
 "nbformat_minor": 2
}
