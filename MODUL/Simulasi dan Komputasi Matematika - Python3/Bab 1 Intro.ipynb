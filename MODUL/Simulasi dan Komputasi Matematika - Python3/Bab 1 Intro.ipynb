{
 "cells": [
  {
   "cell_type": "markdown",
   "metadata": {},
   "source": [
    "# Intro\n",
    "\n",
    "**Permodelan** adalah aplikasi metode untuk menganalisis masalah dunia (sistem) yang kompleks guna membuat prediksi keadaan yang mungkin terjadi dalam suatu kondisi tertentu. Ada beberapa kategori model:\n",
    "* **stokastik** / **probabilistik**, jika elemen random (ketidakpastian) diperhatikan.\n",
    "* **deterministik**, jika tidak.\n",
    "\n",
    "selain itu, model dapat diklasifikasikan menjadi:\n",
    "* **statik**, jika variabel waktu tidak diperhatikan.\n",
    "* **dinamik**, jika variabel waktu ikut berperan. jika variabel waktu berubah dengan mulus [maksudnya?], model dikatakan **kontinu**, sedangkan jika berubah dengan beda $dt$ dikatakan **diskret**.\n",
    "\n",
    "## Proses Membuat Model\n",
    "1. **Analisis permasalahan**. Apa tujuannya? apa kategori dan klasifikasinya? setelah identifikasi dengan jelas, masalah dapat dinyatakan secara matematis dan model dapat dikembangkan\n",
    "2. **Buat Model**.\n",
    "    * Kumpulkan informasi tentang perilaku sistem\n",
    "    * buat asumsi sederhana dan dokumentasikan.\n",
    "    * tentukan variabel dan unit.\n",
    "    * buat hubungan matematis antar variabel (tentu, dalam bentuk persamaan).\n",
    "3. **Implementasikan** model, mungkin dengan aljabar, kalkulus, graf, program komputer, dst.\n",
    "4. **Verifikasi** apakah solusi model memang benar, dan **validasi** apakah model memang menyelesaikan soal yang benar. perbaikan solusi umumnya akan memperumit model, sedangkan model yang sederhana umumnya akan memperburuk solusi. ada *trade-off* disini, bung.\n",
    "5. **Publikasikan** dan ***Maintain*** model."
   ]
  }
 ],
 "metadata": {
  "kernelspec": {
   "display_name": "Python 3",
   "language": "python",
   "name": "python3"
  },
  "language_info": {
   "codemirror_mode": {
    "name": "ipython",
    "version": 3
   },
   "file_extension": ".py",
   "mimetype": "text/x-python",
   "name": "python",
   "nbconvert_exporter": "python",
   "pygments_lexer": "ipython3",
   "version": "3.6.6"
  }
 },
 "nbformat": 4,
 "nbformat_minor": 2
}
