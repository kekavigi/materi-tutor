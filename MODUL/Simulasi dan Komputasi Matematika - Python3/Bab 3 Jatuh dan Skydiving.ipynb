{
 "cells": [
  {
   "cell_type": "markdown",
   "metadata": {},
   "source": [
    "# Fisika\n",
    "{cot intro}\n"
   ]
  },
  {
   "cell_type": "markdown",
   "metadata": {},
   "source": [
    "1. Using Table 3.1.2, which lists the velocities of a car at certain times, develop a model to estimate the total change in position of the car. Employ an input graph instead of an equation to record the tablems values for the change in position. Compare your estimate to an exact value of 203 1/3 m.\n",
    "\n",
    "2. Using Stokes's friction, develop a model for the motion of a dust particle loating down from a height of 50 m. Using comparative plots, determine its terminal speeds for various values of Stokes's constant of proportionality.\n",
    "\n",
    "3. A bathysphere is a pressurized metal vessel in the shape of a sphere that allows people to explore the ocean to much greater depths than are possible by skin diving. A ship lowers and raises the sphere using a steel cable and communicates with its two occupants by telephone. In the 1930s, explorers William Beebe and Otis Barton developed the irst bathysphere, which weighed 4500 lb and had a diameter of 4 ft 9 in. In a subsequent version, they descended to about 3000 ft in the ocean. Ignoring currents but not drag, model the sinking motion of a bathysphere. Assume that the boat reels out the steel cable fast enough so as not to affect the bathyspherems motion (Col 2010; Uscher 1999).\n",
    "4. Table 3.1.3 contains air densities at various altitudes. Using these values on an input graph, refine the model for the skydiving example (Aber and Aber 2005).\n",
    "5. Suppose an airplane is traveling in a straight line horizontally at 130 m/s at a height of 600 m when a parachutist jumps out of the plane at an angle of 30° with the horizon. Model the motion of the skydiver.\n",
    "6. Model the motion of a meteor falling to the earth. Assume an initial height of 100,000 m, initial velocity of 10,000 m/s, coeficient of drag of 2, mass of 500 kg, and density of 8000 kg/m 3 for iron or 3500 kg/m 3 for stone (Schecker1996). Give graphs for position, velocity, and acceleration versus time. Give comparison graphs for velocity versus height for meteors of various masses. Similarly, give comparison graphs for acceleration versus height. NASA Glenn Research Center gives the following model for air density using variables D for density (slugs/ft 3 ), P for pressure (lb/ft 2 ), T for temperature (°F), and h for altitude (ft): $$ WTF $$ If you wish to use metric instead of English units, you can use the following: 1 slug = 14.5939 —g and 1 ft = 0.3048 m (Benson).\n",
    "7. Using NASA;'s Glenn Research Center model for air density at heights less than 36,152 ft (see Pro–ect 6), refine the model in the skydiving example.\n",
    "\n",
    "8.  a. Model the change in mass of the raindrop that Exercise 6 describes.\n",
    "    b. Model the motion of this raindrop taking into account air resistance.\n",
    "    \n",
    "9. Develop a model to compare the terminal velocities of objects of different masses, such as a mouse, cat, human, horse, elephant, and so on. With the density of living protoplasm being almost constant across a wide variety of species, assume mass is proportional to the cube of a linear dimension, such as length or circumference; but surface area is proportional to the square of a linear dimension. How do the terminal velocities of more massive objects compare to those of less massive objects? Can a cat survive a fall from a tall building (Diamond 1989)?\n",
    "\n",
    "10. (This project was contributed by and used with permission from Dr. Stephen Davies, University of Mary Washington (Davies 2012).) For a dangerous mission, a team of paratroopers must land on a 200-ft by 200-ft square roof of a 250-ft-tall building. The soldiers will be dropped at an altitude of 6400 ft from a transport jet traveling at a cruising speed of 200 knots. Certain restrictions apply to the jump: For safety, the paratroopers must not be airborne for more than 2 min and must hit the ground at less than 20 mi/h. Each paratrooper will be carrying a load of 40 lb of equipment, in addition to an assumed body weight of 180 lb. Before opening achute, we can assume each soldier has a surface area of 0.4 m 2 , in both horizontal and vertical directions. After opening, we can assume a 20-m 2 surface area projected vertically, and a 1-m 2 surface area projected horizontally. Assume good weather and negligible wind. Develop a model for the jump. Plot altitude versus horizontal distance from the drop. Determine the following: The horizontal distance from the building the paratroopers should jump in order to land on the target area; the altitude at which they should pull their ripcords; the speed at which they will impact the rooftop; and the duration (in minutes and seconds) that they will be airborne. Use English units or metric units, but as with all models, be consistent throughout. An important aspect of this problem that differs from the preceding skydiver model is that we must track and plot both x- and y-positions. In other words, in addition to following the trooperms altitude over time, we must also monitor the horizontal distance from the drop point, so that we can plot the trajectory of the falling trooper. oTimep is still the key independent variable. However, we now need a stock (box variable) for the horizontal (x) position in addition to one for the vertical (y) position. Moreover, we should graph the y-position versus the x-position, or altitude versus the horizontal distance, not altitude versus time. The following physics facts are also useful: When the troopers make the jump, their initial horizontal (x) velocity will be the same as that of the plane (200 knots). The troopersm horizontal velocity can be considered separately from their vertical (y) velocity; in other words, neither one affects the other, so they can both be tracked independently. Air friction acts in the horizontal direction just as it does the vertical direction; that is, horizontal drag retards movement according to the formula, –0.65Av|v|, where v is the velocity in the horizontal direction."
   ]
  },
  {
   "cell_type": "code",
   "execution_count": null,
   "metadata": {},
   "outputs": [],
   "source": []
  }
 ],
 "metadata": {
  "kernelspec": {
   "display_name": "Python 3",
   "language": "python",
   "name": "python3"
  },
  "language_info": {
   "codemirror_mode": {
    "name": "ipython",
    "version": 3
   },
   "file_extension": ".py",
   "mimetype": "text/x-python",
   "name": "python",
   "nbconvert_exporter": "python",
   "pygments_lexer": "ipython3",
   "version": "3.6.6"
  }
 },
 "nbformat": 4,
 "nbformat_minor": 2
}
