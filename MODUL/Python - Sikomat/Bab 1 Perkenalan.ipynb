{
 "cells": [
  {
   "cell_type": "markdown",
   "metadata": {},
   "source": [
    "# Perkenalan\n",
    "\n",
    "**Permodelan** adalah penerapan metode-metode untuk menganalisis masalah dunia (sistem) yang kompleks, untuk membuat prediksi keadaan yang mungkin terjadi dalam suatu kondisi tertentu. Ada beberapa kategori model:\n",
    "* **stokastik** / **probabilistik**, jika elemen random (ketidakpastian) diperhatikan.\n",
    "* **deterministik**, jika tidak.\n",
    "\n",
    "selain itu, model dapat diklasifikasikan menjadi:\n",
    "* **statik**, jika variabel waktu tidak diperhatikan.\n",
    "* **dinamik**, jika variabel waktu ikut berperan. jika variabel waktu berubah dengan mulus [maksudnya?], model dikatakan **kontinu**, sedangkan jika berubah dengan beda $dt$ dikatakan **diskret**.\n",
    "\n",
    "## Proses Membuat Model\n",
    "1. **Analisis permasalahan**.\n",
    "    Pertama, tentukan \"apa\" dari permasalahan yang ingin diselesaikan. Selanjutnya perkirakan jenis kategori dan klasifikasi model yang cocok untuk menyelesaikan masalah tersebut. Setelah diidentifikasi dengan jelas, masalah dapat dinyatakan secara matematis dan model dapat dikembangkan\n",
    "    \n",
    "2. **Buat Model**\n",
    "    * Kumpulkan informasi tentang perilaku sistem.\n",
    "    * buat asumsi sederhana dan dokumentasikan.\n",
    "    * tentukan variabel dan unit.\n",
    "    * buat hubungan matematis antar variabel.\n",
    "    \n",
    "3. **Implementasikan**\n",
    "    nyatakan model dalam bentuk yang dapat ditemukan solusinya. Dalam bagian ini anda mungkin memerlukan teori di aljabar, menggunakan kalkulus, menerapkan teori graf, menulis sebuah program komputer, dsb.\n",
    "\n",
    "4. **Verifikasi**\n",
    "    apakah solusi model memang benar, dan **validasi** apakah model memang menyelesaikan soal yang benar. perbaikan solusi umumnya akan memperumit model, sedangkan model yang sederhana umumnya akan memperburuk solusi. ada *trade-off* disini, bung.\n",
    "\n",
    "5. **Publikasikan** dan ***Maintain*** model."
   ]
  }
 ],
 "metadata": {
  "kernelspec": {
   "display_name": "Python 3",
   "language": "python",
   "name": "python3"
  },
  "language_info": {
   "codemirror_mode": {
    "name": "ipython",
    "version": 3
   },
   "file_extension": ".py",
   "mimetype": "text/x-python",
   "name": "python",
   "nbconvert_exporter": "python",
   "pygments_lexer": "ipython3",
   "version": "3.8.5"
  }
 },
 "nbformat": 4,
 "nbformat_minor": 2
}
