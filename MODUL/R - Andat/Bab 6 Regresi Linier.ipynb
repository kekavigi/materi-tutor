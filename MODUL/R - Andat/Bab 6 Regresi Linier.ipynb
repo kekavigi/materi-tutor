{
 "cells": [
  {
   "cell_type": "markdown",
   "metadata": {},
   "source": [
    "Feedback dari anda diperlukan! bantu kami dalam [meningkatkan modul ini](https://forms.gle/pWJd6y4hY4KWMcno6)."
   ]
  },
  {
   "cell_type": "markdown",
   "metadata": {},
   "source": [
    "# Regresi Linier"
   ]
  },
  {
   "cell_type": "code",
   "execution_count": 1,
   "metadata": {},
   "outputs": [
    {
     "ename": "ERROR",
     "evalue": "Error in plot(dataX, dataY): object 'dataX' not found\n",
     "output_type": "error",
     "traceback": [
      "Error in plot(dataX, dataY): object 'dataX' not found\nTraceback:\n",
      "1. plot(dataX, dataY)"
     ]
    }
   ],
   "source": [
    "plot(dataX, dataY)"
   ]
  },
  {
   "cell_type": "code",
   "execution_count": 2,
   "metadata": {},
   "outputs": [
    {
     "ename": "ERROR",
     "evalue": "Error in eval(expr, envir, enclos): object 'dataY' not found\n",
     "output_type": "error",
     "traceback": [
      "Error in eval(expr, envir, enclos): object 'dataY' not found\nTraceback:\n",
      "1. lm(dataY ~ dataX)",
      "2. eval(mf, parent.frame())",
      "3. eval(expr, envir, enclos)",
      "4. stats::model.frame(formula = dataY ~ dataX, drop.unused.levels = TRUE)",
      "5. model.frame.default(formula = dataY ~ dataX, drop.unused.levels = TRUE)",
      "6. eval(predvars, data, env)",
      "7. eval(expr, envir, enclos)"
     ]
    }
   ],
   "source": [
    "model = lm(dataY ~ dataX)\n",
    "summary(model)\n",
    "plot(model)"
   ]
  },
  {
   "cell_type": "code",
   "execution_count": 3,
   "metadata": {},
   "outputs": [],
   "source": [
    "# ngeliat residu\n",
    "# plot(datX, resid(model))\n",
    "# ngecek apakah normal\n",
    "# plot(rstandard(model))"
   ]
  }
 ],
 "metadata": {
  "kernelspec": {
   "display_name": "R",
   "language": "R",
   "name": "ir"
  },
  "language_info": {
   "codemirror_mode": "r",
   "file_extension": ".r",
   "mimetype": "text/x-r-source",
   "name": "R",
   "pygments_lexer": "r",
   "version": "3.3.1"
  }
 },
 "nbformat": 4,
 "nbformat_minor": 2
}
