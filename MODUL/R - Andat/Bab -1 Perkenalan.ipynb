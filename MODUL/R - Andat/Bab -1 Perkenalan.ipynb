{
 "cells": [
  {
   "cell_type": "markdown",
   "metadata": {},
   "source": [
    "Feedback dari anda diperlukan! bantu kami dalam [meningkatkan modul ini](https://forms.gle/pWJd6y4hY4KWMcno6)."
   ]
  },
  {
   "cell_type": "markdown",
   "metadata": {},
   "source": [
    "# Mengapa Bahasa R?"
   ]
  },
  {
   "cell_type": "markdown",
   "metadata": {},
   "source": [
    "# Proses Instalasi"
   ]
  },
  {
   "cell_type": "markdown",
   "metadata": {},
   "source": [
    "## Menginstall RStudio di Windows"
   ]
  },
  {
   "cell_type": "markdown",
   "metadata": {},
   "source": [
    "## Menginstall RStudio di Ubuntu"
   ]
  },
  {
   "cell_type": "markdown",
   "metadata": {},
   "source": [
    "## Menginstall R Kernel di Jupyter Notebook\n",
    "di Lubuntu 18.04 (Bionic), yang perlu kamu lakukan adalah:\n",
    "* [menginstall R](https://cran.r-project.org/bin/linux/ubuntu/README.html)\n",
    "* [menginstall kernel R di Jupyter](https://irkernel.github.io/installation/#linux-panel)\n",
    "* [jika ada error dalam menginstall curl](https://stackoverflow.com/questions/31114991/installation-of-package-devtools-had-non-zero-exit-status-in-a-powerpc)\n",
    "\n",
    "sedangkan di Windows, sepertinya mengikuti [link ini](https://irkernel.github.io/installation/) dan (link nginstall kernel R di Windows) sudah cukup."
   ]
  }
 ],
 "metadata": {
  "kernelspec": {
   "display_name": "R",
   "language": "R",
   "name": "ir"
  },
  "language_info": {
   "codemirror_mode": "r",
   "file_extension": ".r",
   "mimetype": "text/x-r-source",
   "name": "R",
   "pygments_lexer": "r",
   "version": "3.3.1"
  }
 },
 "nbformat": 4,
 "nbformat_minor": 2
}
