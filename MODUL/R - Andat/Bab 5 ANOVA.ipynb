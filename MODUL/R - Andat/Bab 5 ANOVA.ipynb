{
 "cells": [
  {
   "cell_type": "markdown",
   "metadata": {},
   "source": [
    "Feedback dari anda diperlukan! bantu kami dalam [meningkatkan modul ini](https://forms.gle/pWJd6y4hY4KWMcno6)."
   ]
  },
  {
   "cell_type": "markdown",
   "metadata": {},
   "source": [
    "# ANOVA"
   ]
  },
  {
   "cell_type": "code",
   "execution_count": 1,
   "metadata": {},
   "outputs": [
    {
     "data": {
      "text/plain": [
       "             Df  Sum Sq Mean Sq F value Pr(>F)    \n",
       "tm           10 1865544  186554     102 <2e-16 ***\n",
       "Residuals   341  623387    1828                   \n",
       "---\n",
       "Signif. codes:  0 '***' 0.001 '**' 0.01 '*' 0.05 '.' 0.1 ' ' 1"
      ]
     },
     "metadata": {},
     "output_type": "display_data"
    },
    {
     "ename": "ERROR",
     "evalue": "Error in eval(expr, envir, enclos): object 'alpha' not found\n",
     "output_type": "error",
     "traceback": [
      "Error in eval(expr, envir, enclos): object 'alpha' not found\nTraceback:\n"
     ]
    }
   ],
   "source": [
    "# oke, ini pakai dataset mtcars yang sangat tidak cocok untuk ANOVA.\n",
    "#but let assume anyway sifat-sifat dataset terpenuhi\n",
    "\n",
    "# ubah dataset kita menjadi tipe vektor\n",
    "datavec = c(t(as.matrix(mtcars)))\n",
    "\n",
    "# buat tabel hasil perlakuan sesuai dengan dataset kita\n",
    "k = length(mtcars)     # banyak jenis perlakuan e.g. kolom\n",
    "n = length(mtcars$mpg) # untuk ngitung banyak data setiap kolom, cukup hitung banyak data satu kolom\n",
    "N = n*k                # total data kita\n",
    "tm = gl(k, 1, N)       # <-- black magic :v\n",
    "\n",
    "#lakukan analysis of variance dan tampilkan hasil\n",
    "av = aov(datavec ~ tm)\n",
    "summary(av)\n",
    "\n",
    "df1 = k-1\n",
    "df2 = N-k\n",
    "alpha\n",
    "Fcritical = qf(1-alpha, df1, df2)\n",
    "\n",
    "# pengakuan dosa, saya ngga ngerti yang diatas apa. tanya Vinson dah. atau\n",
    "# http://www.sthda.com/english/wiki/one-way-anova-test-in-r"
   ]
  }
 ],
 "metadata": {
  "kernelspec": {
   "display_name": "R",
   "language": "R",
   "name": "ir"
  },
  "language_info": {
   "codemirror_mode": "r",
   "file_extension": ".r",
   "mimetype": "text/x-r-source",
   "name": "R",
   "pygments_lexer": "r",
   "version": "3.3.1"
  }
 },
 "nbformat": 4,
 "nbformat_minor": 2
}
