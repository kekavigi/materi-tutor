{
 "cells": [
  {
   "cell_type": "markdown",
   "metadata": {},
   "source": [
    "Feedback dari anda diperlukan! bantu kami dalam [meningkatkan modul ini](https://forms.gle/pWJd6y4hY4KWMcno6)."
   ]
  },
  {
   "cell_type": "markdown",
   "metadata": {},
   "source": [
    "# Metode Penyelesaian Persamaan Non-Linear"
   ]
  },
  {
   "cell_type": "markdown",
   "metadata": {},
   "source": [
    "## Tinjauan\n",
    "Penyelesaian persamaan tak linear adalah penentuan akar-akar persamaan tak linear. Akar sebuah persamaan $f(x) = 0$ adalah nilai-nilai $x_0$ yang menyebabkan persamaan $f(x_0) = 0$ terpenuhi. Untuk kasus $f(x)$ berupa ekspresi linear biasa, yaitu $f(x) = mx + c$, dengan $m$ dan $c$ adalah konstanta, maka persamaan $mx + c = 0$ dapat diselesaikan secara analitik dengan mudah. Akar persamaan linear tersebut dapat ditentukan dengan $x = -c/m$. Untuk kasus persamaan kuadrat $ax^2 + bx + c = 0$, akar persamaan dapat ditentukan dengan menggunakan rumus ABC yang telah kita kenal. Sementara beberapa persamaan polinomial sederhana yang lain dapat diselesaikan dengan teorema sisa.\n",
    "\n",
    "Dalam kasus umum, di mana $f(x)$ merupakan ekspresi yang rumit, maka penyelesaian persamaan secara analitik akan sulit untuk dilakukan, seperti pada persamaan $f(x) = x - e^{-x}$. Oleh karena itu, dibutuhkan metode-metode numerik untuk dapat mencari akar dari persamaan tak linear $f(x) = 0$. Metode-metode numerik untuk penyelesaian persamaan tak linear pada umumnya merupakan metode iterasi (metode tak langsung). Metode ini dimulai dengan menentukan satu atau beberapa tebakan awal terhadap fungsi $f(x) = 0$. Kemudian kita terapkan suatu rumus iterasi tertentu yang akan membangkitkan barisan bilangan $x_0, x_1, x_2, \\dots$, yang diharapkan akan konvergen ke nilai akar dari $f(x) = 0$. Secara numerik, tentunya kita tidak mungkin menghitung suku barisan tersebut sampai tak hingga. Oleh karena itu, kita juga membutuhkan suatu kriteria untuk menghentikan proses iterasi yang kita jalankan. Ada dua metode umum yang digunakan dalam mencari akar, yaitu:\n",
    "* **Metode Pengurung.** Metode yang termasuk metode pengurung adalah metode Bagi Dua, metode Posisi Palsu (*false position*/*regula falsi*) dan modifikasinya.\n",
    "* **Metode Terbuka.**  Contoh untuk metode terbuka adalah me\n",
    "\n",
    "Teorema: Kekonvergenan Metode Iterasi Titik-Tetap\n",
    "\n",
    "Iterasi akan konvergen bila $0 < |\\frac{df}{dx}| < 1$ untuk semua $x$ di sekitar titik tetap eksaknya.\n",
    "\n",
    "### Laju Kekonvergenan\n",
    "\n",
    "Terdapat 2 jenis kekonvergenan: quotient-convergence (q-convergence) dan root-convergence (r-convergence).\n",
    "\n",
    "#### Quotient-convergence (q-convergence)\n",
    "Perhitungan menggunakan perbandingan antara galat dari dua hasil iterasi terakhir. Misal $x^*$ adalah solusi eksak dan $x^{(n)}$ adalah aproksimasi solusi dengan iterasi ke-n. Galat pada iterasi ke-n adalah  $$|x^∗ - x^{(n)}|$$\n",
    "\n",
    "Suatu metode disebut *q-konvergen* dengan orde-k apabila $$\\lim_{n\\to \\infty} \\frac{|x^∗ - x^{(n+1)}|}{|x^∗ - x^{(n)}|^k} = C$$ dimana $C$ bilangan berhingga positif.\n",
    "* Jika $k = 1, C < 1$, maka laju konvergennya linier.\n",
    "* Jika $1 < k < 2$, maka laju kekonvergenannya superlinier\n",
    "* Jika $k = 2$, laju kekonvergenannya kuadratik.\n",
    "\n",
    "#### Root-convergence (r-convergence).\n",
    "Digunakan bila kekonvergenannya tidak monoton. Suatu metode disebut r-convergence bila terdapat barisan $(v_n)$ yang q- convergence berorde k yang mendominasi runtutan galat-galat yang dihasilkan metode, atau $$|x^∗ - x^{(n)}| < v_n$$ untuk semua n."
   ]
  },
  {
   "cell_type": "markdown",
   "metadata": {},
   "source": [
    "## Metode Bagi Dua\n",
    "\n",
    "\n",
    "### Tinjauan\n",
    "Misalkan $f(x)$ adalah suatu fungsi kontinu dengan akar $r$. Untuk menerapkan Metode Bagi Dua, mula-mula tentukan dua buah titik misalkan $a_0$ dan $b_0$ sebagai tebakan awal, dengan $a_0 < b_0$ dan $f(a_0)f(b_0) < 0$. Berdasarkan teorema nilai antara, maka interval $[a_0, b_0]$ akan memuat akar $f(x)$. Akar yang termuat dalam interval tersebut ada\n",
    "kemungkinan lebih dari satu buah. Selanjutnya, tentukan titik tengah dari interval $[a_0, b_0]$, misalkan $c_0$. Dengan\n",
    "$c_0 = \\frac{a_0+b_0}{2}$, akan ada tiga kemungkinan yang terjadi:\n",
    "\n",
    "1. $f(c_0) = 0$, artinya titik $c_0$ adalah akar dari $f(x)$.\n",
    "2. $f(a_0)f(c_0) < 0$, artinya akar berada pada interval $[a_0, c_0]$.\n",
    "3. $f(b_0)f(c_0) < 0$, artinya akar berada pada interval $[c_0, b_0]$.\n",
    "\n",
    "Jika kasus (1) terjadi, maka proses selesai. Jika kasus (2) yang terjadi, titik $a_0$ dan $c_0$ akan menjadi titik-titik pengapit yang baru untuk proses iterasi selanjutnya. Sedangkan pada kasus (3), titik $b_0$ dan $c_0$ akan menjadi titik-\n",
    "titik pengapit yang baru untuk iterasi selanjutnya. Titik-titik pengapit yang baru tersebut kita namakan sebagai $a_1$ dan $b_1$. Proses yang sama akan diulangi, sehingga akan diperoleh titik tengah untuk interval yang baru yaitu\n",
    "$c_1 = \\frac{a_1+b_1}{2}$. Interval yang baru memiliki panjang setengah dari panjang interval semula, yaitu $b_1 - a_1 = \\frac{b_0-a_0}{2}$.\n",
    "\n",
    "Secara umum, pada iterasi ke $k$ akan diperoleh $$c_k = \\frac{a_k + b_k}{2}$$ dengan interval $[a_k, b_k]$. Maka panjang intervalnya dapat dituliskan sebagai $b_k-a_k = \\frac{b_0-a_0}{2^k}$. Karena akar $r$ dari fungsi $f(x)$ berada pada interval $[a_k, b_k]$, maka $$|c_k - r| \\leq \\frac{b_k - a_k}{2} \\leq \\frac{b_0 - a_0}{2^{k+1}}$$\n",
    "\n",
    "Proses iterasi tersebut nantinya akan menghasilkan barisan $c_0, c_1, c_2, \\dots$ yang akan konvergen ke akar $r$. Dalam implementasinya di komputer, diperlukan kriteria untuk menghentikan proses iterasi tersebut. Pada Metode Bagi Dua\n",
    "ini, kriteria penghentian iterasi yang digunakan adalah $b_k − a_k ≤ \\epsilon$ dengan $\\epsilon$ adalah batas galat yang ditentukan.\n",
    "\n",
    "### Kekonvergenan\n",
    "\n",
    "Metode Bagi Dua pada iterasi ke-n mempunyai galat yang berada dalam interval $|b^{(n)} − {a(n)}|$ sehingga\n",
    "$$|c^{(n)} - r| \\leq \\frac{|b^{(n)} - a^{(n)}|}{2} = \\frac{|b - a|}{2^n}$$\n",
    "\n",
    "dengan r adalah akar eksaknya. Dengan demikian\n",
    "\n",
    "$$\\frac{|c^{(n+1)} − r|}{|c^{(n)} - r|^k} \\leq \\frac{\\frac{|b − a|}{2^{n+1}}}{\\frac{|b - a|}{2^{n}}} = \\frac{1}{2}$$\n",
    "\n",
    "Jadi Metode Bagi Dua memiliki q-convergence dengan $C=\\frac{1}{2}$ orde $k=1$.\n",
    "\n",
    "### Algoritma"
   ]
  },
  {
   "cell_type": "code",
   "execution_count": 1,
   "metadata": {},
   "outputs": [
    {
     "name": "stdout",
     "output_type": "stream",
     "text": [
      "r    = 0.567143\n",
      "f(r) = -7.46391e-09\n",
      "iter = 29"
     ]
    }
   ],
   "source": [
    "clear all;\n",
    "\n",
    "% Masukan\n",
    "f   = @(x) x - e.^(-x);  % fungsi\n",
    "a   = -1;                % tebakan awal\n",
    "b   =  5;\n",
    "eps = 10^(-8);           % batas galat\n",
    "\n",
    "% Algoritma\n",
    "fa = f(a);\n",
    "fb = f(b);\n",
    "\n",
    "if fa*fb > 0\n",
    "    % pengecekan interval\n",
    "    disp('Interval tidak memuat akar.')\n",
    "else\n",
    "    iteration = 0;\n",
    "\n",
    "    while true\n",
    "        c  = (a+b)/2;\n",
    "        fc = f(c);\n",
    "    \n",
    "        if abs(fc) < 10^(-10)\n",
    "            % f(c) cukup dekat dengan nol\n",
    "            akar = c;\n",
    "            break\n",
    "        else\n",
    "            % persempit interval\n",
    "            if fa*fc < 0\n",
    "                b  = c;\n",
    "                fb = fc;\n",
    "            else\n",
    "                a  = c;\n",
    "                fa = fc;\n",
    "            end\n",
    "        end\n",
    "        \n",
    "        if b-a < eps\n",
    "            akar = c;\n",
    "            break\n",
    "        end\n",
    "        \n",
    "        iteration = iteration + 1;\n",
    "    end\n",
    "end\n",
    "\n",
    "% Keluaran\n",
    "printf(\"r    = %d\\n\", akar)\n",
    "printf(\"f(r) = %d\\n\", f(akar))\n",
    "printf(\"iter = %d\", iteration)"
   ]
  },
  {
   "cell_type": "code",
   "execution_count": 2,
   "metadata": {},
   "outputs": [
    {
     "data": {
      "image/png": "[encoded data removed]",
      "text/plain": [
       "<IPython.core.display.Image object>"
      ]
     },
     "metadata": {},
     "output_type": "display_data"
    }
   ],
   "source": [
    "% Plot dari f(x)\n",
    "x = -2:0.001:5;\n",
    "plot(x, f(x))"
   ]
  },
  {
   "cell_type": "markdown",
   "metadata": {},
   "source": [
    "## Metode Posisi Palsu\n",
    "\n",
    "### Tinjauan\n",
    "Sama seperti pada Metode Bagi Dua, kita berangkat dari fungsi kontinu $f(x)$ dan tebakan awal $a_0$ dan $b_0$ dengan\n",
    "$f(a_0)f(b_0) < 0$. Pada Metode Posisi Palsu, kita buat garis lurus yang mengubungkan titik $(a_0, f(a_0))$ dan $(b_0, f(b_0))$. Garis ini akan memotong sumbu-x dengan titik potongnya kita misalkan sebagai $c_0$ yang terletak di\n",
    "antara titik $a_0$ dan $b_0$. Titik $c_0$ dapat ditentukan dengan $$c_0 = (b_0 - f(b_0))\\frac{b_0 - a_0}{f(b_0) - f(a_0)}$$\n",
    "\n",
    "Selanjutnya, akar fungsi akan terapit oleh salah satu dari interval $[a_0, c_0]$ atau $[c_0, b_0]$. Untuk iterasi selanjutnya, titik-titik yang mengapit akar akan kita namakan sebagai $a_1$ dan $b_1$ yang baru. Kemudian proses yang sama akan diulangi lagi sehingga diperoleh titik $c_1$. Untuk iterasi ke $k$, akan diperoleh rumus iterasi sebagai berikut. $$c_k = (b_k - f(b_k))\\frac{b_k - a_k}{f(b_k) - f(a_k)} \\,\\, k = 0, 1, 2, \\dots $$\n",
    "\n",
    "Kriteria penghentian iterasi yang digunakan adalah $$\\frac{|c_{k+1} - c_k|}{|c_{k+1}|} \\leq \\epsilon$$ dengan $\\epsilon$ adalah batas galat.\n",
    "\n",
    "### Kekonvergenan\n",
    "\n",
    "\n",
    "### Algoritma"
   ]
  },
  {
   "cell_type": "code",
   "execution_count": 3,
   "metadata": {},
   "outputs": [
    {
     "name": "stdout",
     "output_type": "stream",
     "text": [
      "r    = 0.567143\n",
      "f(r) = 4.9859e-09\n",
      "iter = 18"
     ]
    }
   ],
   "source": [
    "clear;\n",
    "\n",
    "% Masukan\n",
    "f   = @(x) x - e.^(-x);  % fungsi\n",
    "a   = -1;                % tebakan awal\n",
    "b   =  5;\n",
    "eps = 10^(-8);           % batas galat\n",
    "\n",
    "% Algoritma\n",
    "fa = f(a);\n",
    "fb = f(b);\n",
    "\n",
    "if fa*fb > 0\n",
    "    % pengecekan interval\n",
    "    disp('Interval tidak memuat akar.')\n",
    "else\n",
    "    c_old = 2*b - a;\n",
    "    iteration = 0;\n",
    "    \n",
    "    while true\n",
    "        c  = a - fa*(b-a)/(fb-fa);\n",
    "        fc = f(c);\n",
    "    \n",
    "        if abs(fc) < 10^(-10)\n",
    "            % f(c) cukup dekat dengan nol\n",
    "            akar = c;\n",
    "            break\n",
    "        else\n",
    "            % persempit interval\n",
    "            if fa*fc < 0\n",
    "                b  = c;\n",
    "                fb = fc;\n",
    "            else\n",
    "                a  = c;\n",
    "                fa = fc;\n",
    "            end\n",
    "        end\n",
    "        \n",
    "        if abs(c-c_old) < eps\n",
    "            akar = c;\n",
    "            break\n",
    "        end\n",
    "        \n",
    "        c_old = c;\n",
    "        iteration = iteration + 1;\n",
    "    end\n",
    "end\n",
    "\n",
    "% Keluaran\n",
    "printf(\"r    = %d\\n\", akar)\n",
    "printf(\"f(r) = %d\\n\", f(akar))\n",
    "printf(\"iter = %d\", iteration)"
   ]
  },
  {
   "cell_type": "markdown",
   "metadata": {},
   "source": [
    "## Metode Modifikasi Posisi Palsu\n",
    "\n",
    "### Tinjauan\n",
    "Metode ini muncul untuk mempercepat kekonvergenan dari Metode Posisi Palsu. Modifikasi yang dilakukan yaitu: Jika selama dua atau lebih iterasi yang berurutan salah satu ujung interval pengapit akar tidak berubah, maka nilai fungsi pada titik tersebut dibuat menjadi setengah dari nilai pada iterasi sebelumnya. Pada iterasi ke 1 dan 2 titik ujung kiri tidak mengalami perubahan, maka pada iterasi ketiga, nilai fungsi di titik ujung kiri dibuat menjadi setengah kali sebelumnya. Pada iterasi ketiga, titik ujung kiri tetap tidak berubah, maka pada iterasi keempat, nilai fungsinya dibuat menjadi setengah kali sebelumnya. Jika dilanjutkan, maka pada iterasi keenam ujung kiri akan mengalami perubahan.\n",
    "\n",
    "### Kekonvergenan\n",
    "\n",
    "### Algoritma"
   ]
  },
  {
   "cell_type": "code",
   "execution_count": 4,
   "metadata": {},
   "outputs": [
    {
     "name": "stdout",
     "output_type": "stream",
     "text": [
      "r    = 0.567143\n",
      "f(r) = 1.11022e-16\n",
      "iter = 8"
     ]
    }
   ],
   "source": [
    "clear;\n",
    "\n",
    "% Masukan\n",
    "f   = @(x) x - e.^(-x);  % fungsi\n",
    "a   = -1;                % tebakan awal\n",
    "b   =  5;\n",
    "eps = 10^(-8);           % batas galat\n",
    "\n",
    "% Algoritma\n",
    "fa = f(a);\n",
    "fb = f(b);\n",
    "\n",
    "if fa*fb > 0\n",
    "    % pengecekan interval\n",
    "    disp('Interval tidak memuat akar.')\n",
    "else\n",
    "    c_old = 2*b - a;\n",
    "    count_kiri  = 0;\n",
    "    count_kanan = 0;\n",
    "    iteration = 0;\n",
    "    \n",
    "    while true\n",
    "        c  = a - fa*(b-a)/(fb-fa);\n",
    "        fc = f(c);\n",
    "    \n",
    "        if abs(fc) < 10^(-10)\n",
    "            % f(c) cukup dekat dengan nol\n",
    "            akar = c;\n",
    "            break\n",
    "        else\n",
    "            % persempit interval\n",
    "            if fa*fc < 0\n",
    "                b  = c;\n",
    "                fb = fc;\n",
    "                count_kanan = 0;\n",
    "                count_kiri  = count_kiri + 1;\n",
    "                if count_kiri > 2\n",
    "                    fa = fa/2;\n",
    "                end\n",
    "\n",
    "            else\n",
    "                a  = c;\n",
    "                fa = fc;\n",
    "                count_kiri  = 0;\n",
    "                count_kanan = count_kanan + 1;\n",
    "                if count_kanan > 2\n",
    "                    fb = fb/2;\n",
    "                end\n",
    "            end\n",
    "        end\n",
    "        \n",
    "        if abs(c-c_old) < eps\n",
    "            akar = c;\n",
    "            break\n",
    "        end\n",
    "        \n",
    "        c_old = c;\n",
    "        iteration = iteration + 1;\n",
    "    end\n",
    "end\n",
    "\n",
    "% Keluaran\n",
    "printf(\"r    = %d\\n\", akar)\n",
    "printf(\"f(r) = %d\\n\", f(akar))\n",
    "printf(\"iter = %d\", iteration)"
   ]
  },
  {
   "cell_type": "markdown",
   "metadata": {},
   "source": [
    "## Metode Tali Busur/Sekan\n",
    "\n",
    "### Tinjauan\n",
    "Metode Tali Busur dimulai dengan dua tebakan awal yaitu $x_0$ dan $x_1$ terhadap akar dari fungsi kontinu $f(x)$. Tidak\n",
    "seperti pada Metode Bagi Dua dan Metode Posisi Palsu, tebakan awal untuk Metode Tali Busur tidak perlu mengapit akar. Selanjutnya kita melakukan proses iterasi dengan menerapkan rumus yang sama dengan yang digunakan pada Metode Newton-Raphson, hanya saja nilai $f'(x_1)$ dihitung dengan $\\frac{f(x_1)-f(x_0)}{x_1-x_0}$. Jadi yang akan kita hitung adalah nilai dari $x_2$ dengan $$x_2 = x_1 - f(x_1) \\frac{x_1 - x_0}{f(x_1) - f(x_0)}$$.\n",
    "\n",
    "Setelah diperoleh titik $x_2$, iterasi selanjutnya dilakukan dengan tebakan akaryang baru yaitu $x_1 dan $x_2$. Rumus yang sama diterapkan untuk memperolehtitik x3. Secara umum, rumus iterasi untuk Metode Tali Busur adalah\n",
    "\n",
    "$$x_{k+1} = x_k - f(x_k)\\frac{x_k - x_{k-1}}{f(x_k) - f(x_{k-1})} \\,\\, k = 0, 1, 2, \\dots $$\n",
    "\n",
    "\n",
    "Kriteria penghentian untuk Metode Tali Busur adalah $$\\frac{|x_k+1 - x_k|}{|x_k+1|} \\leq \\epsilon$$ dengan $\\epsilon$ adalah batas galat yang diizinkan. Selain itu, sama seperti Metode Newton-Raphson, kita perlu menentukan maksimum jumlah iterasi karena ada kemungkinan barisan nilai $x_0, x_1, \\dots$ divergen.\n",
    "\n",
    "### Kekonvergenan\n",
    "\n",
    "### Algoritma"
   ]
  },
  {
   "cell_type": "code",
   "execution_count": 6,
   "metadata": {},
   "outputs": [
    {
     "name": "stdout",
     "output_type": "stream",
     "text": [
      "r    = 0.567143\n",
      "f(r) = -1.11022e-16\n",
      "iter = 8"
     ]
    }
   ],
   "source": [
    "clear;\n",
    "\n",
    "% Masukan\n",
    "f   = @(x) x - e.^(-x);  % fungsi\n",
    "a   = -1;                % tebakan awal\n",
    "b   =  5;\n",
    "eps = 10^(-8);           % batas galat\n",
    "N   = 10^4;              % batas iterasi\n",
    "\n",
    "% Algoritma\n",
    "fa = f(a);\n",
    "fb = f(b);\n",
    "\n",
    "for iteration = 1:(N+1)\n",
    "    fa = f(a);\n",
    "    fb = f(b);\n",
    "    c  = b - fb*(b-a)/(fb-fa);\n",
    "    fc = f(c);\n",
    "    \n",
    "    delta = abs((c-b)/c);\n",
    "    if delta < eps\n",
    "        akar = c;\n",
    "        break\n",
    "    end\n",
    "    \n",
    "    % update nilai\n",
    "    a  = b;\n",
    "    fa = fb;\n",
    "    b  = c;\n",
    "    fb = fc;\n",
    "end\n",
    "\n",
    "% Keluaran\n",
    "if iteration < (N+1)\n",
    "    printf(\"r    = %d\\n\", akar)\n",
    "    printf(\"f(r) = %d\\n\", f(akar))\n",
    "    printf(\"iter = %d\", iteration)\n",
    "else\n",
    "    printf(\"proses tidak konvergen.\")\n",
    "end"
   ]
  },
  {
   "cell_type": "code",
   "execution_count": 7,
   "metadata": {},
   "outputs": [
    {
     "data": {
      "image/png": "[encoded data removed]",
      "text/plain": [
       "<IPython.core.display.Image object>"
      ]
     },
     "metadata": {},
     "output_type": "display_data"
    }
   ],
   "source": [
    "f   = @(x) 2 + 7*x + 1*x.^2 - 1*x.^3 + 1*x.^4 - 3*x.^5;\n",
    "x = -1:0.1:1.5;\n",
    "plot(x, f(x))"
   ]
  },
  {
   "cell_type": "markdown",
   "metadata": {},
   "source": [
    "## Metode Newton-Raphson\n",
    "\n",
    "### Tinjauan\n",
    "Metode Newton-Raphson ini hanya memerlukan satu buah tebakan awal. Misalkan $f(x)$ adalah fungsi yang kontinu dan $x_0$ adalah tebakan awal terhadap akar dari fungsi tersebut. Prinsip dari Metode Newton-Raphson adalah dengan membuat garis singgung terhadap fungsi $f(x)$ di titik $(x0, f(x0))$. Bila $f'(x) \\neq 0$ maka garis singgung tersebut akan memotong sumbu-x. Kita namakan titik potong tersebut sebagai $x_1$. Maka $x_1$ dapat ditentukan melalui $$x_1 = x_0 - \\frac{f(x_0)}{f'(x_0)}$$\n",
    "\n",
    "Selanjutnya proses yang sama dilakukan kembali dengan tebakan awal yang baru yaitu $x_1$, sehingga akan diperoleh titik potong garis singgung yang baru yaitu $x_2$. Jika proses dilanjutkan, maka akan diperoleh barisan $x_0, x_1, x_2, \\dots, x_k, \\dots$ dengan $$x_{k+1} = x_k - \\frac{f(x_k)}{f'(x_k)}$$\n",
    "\n",
    "Kriteria penghentian iterasi untuk Metode Newton-Raphson adalah $$\\frac{|x_{k+1} - x_k|}{|x_k+1|} \\leq \\epsilon$$ dengan $\\epsilon$ adalah batas galat. Perlu diperhatikan bahwa Mettode Newton-Raphson tidak menjamin proses akan konvergen. Untuk mengatasi terjadinya looping karena proses yang tidak konvergen, maka kita perlu menetapkan batas maksimum jumlah iterasinya.\n",
    "\n",
    "### Kekonvergenan\n",
    "\n",
    "Dalam Metode Newton-Raphson, galat pada iterasi ke-n adalah $$\\epsilon_{(n)} = x^{(n)} - x^∗$$ oleh karena itu\n",
    "$$\n",
    "\\begin{align}\n",
    "\\epsilon^{(n+1)} &= x^{(n+1)} - x^∗ \\\\\n",
    "&= x^n - \\frac{f(x^n)}{f'(x^n)} - x^∗ \\\\\n",
    "&= \\epsilon^{(n)} - \\frac{f(x^n)}{f'(x^n)}\n",
    "\\end{align}\n",
    "$$\n",
    "\n",
    "Dari persamaan Taylor,\n",
    "$$\n",
    "\\begin{align}\n",
    "f(x^n) &\\approx f(x^∗) + f'(x^∗)\\epsilon^{(n)} + \\frac{1}{2} f''(x^∗)\\epsilon^{(n)^2} \\\\\n",
    "\\end{align}\n",
    "$$\n",
    "\n",
    "Kita dapat melakukan hampiran $ f(x^n) \\approx f(x^*) $ dan $f'(x^n) \\approx f'(x^*)$. Selanjutnya, mengingat $f(x^∗) = 0$ karena $x^∗$ adalah akar, bentuk persamaan diatas dapat disederhakan menjadi\n",
    "\n",
    "\n",
    "$$\n",
    "\\begin{align}\n",
    "0 &\\approx 0 + \\epsilon^{(n)} + f^{-1}(x^{n})\\frac{1}{2} f''(x^∗)\\epsilon^{(n)^2} \\\\\n",
    "\\frac{\\epsilon^{(n)}}{\\epsilon^{(n)^2}} &\\approx -f^{-1}(x^{n})\\frac{1}{2} f''(x^∗) \\\\\n",
    "\\Big|\\frac{\\epsilon^{(n)}}{\\epsilon^{(n)^2}} \\Big| &\\approx |f^{-1}(x^{n})\\frac{1}{2} f''(x^∗)| \\\\\n",
    "\\end{align}\n",
    "$$\n",
    "\n",
    "Jadi metode NR memiliki q-kuadratik.\n",
    "\n",
    "### Algoritma"
   ]
  },
  {
   "cell_type": "code",
   "execution_count": 5,
   "metadata": {},
   "outputs": [],
   "source": [
    "% 404 not found"
   ]
  },
  {
   "cell_type": "markdown",
   "metadata": {},
   "source": [
    "## Metode Newton-Raphson untuk Polinom\n",
    "\n",
    "### Tinjauan\n",
    "Jika fungsi kontinu yang akan dicari akarnya merupakan suatu polinom, maka kita dapat menyelesaikan persamaannya menggunakan Metode Newton-Raphson yang telah dimodifikasi, sehingga perhitungan akan lebih singkat dan akurat.\n",
    "Polinom berderajat $n$, $p(x) = a_0 + a_1x + a_2x^2 + \\dots + a_nx^n \\, a_n \\neq 0$ dapat dituliskan ke dalam bentuk $$ p(z) = a_0 + a_1 + (a_2 + (\\dots (a_{n−2} + (a_{n−1} + a_nz)z)\\dots)z)z$$\n",
    "\n",
    "Dengan cara seperti di atas,maka operasi kali yang diperlukan hanya sebanyak n buah, suatu penurunan yang sangat drastis dari operasi perhitungan langsung. Cara seperti ini dinamakan perkalian bersarang yang ekivalen dengan metode Horner.\n",
    "\n",
    "### Kekonvergenan\n",
    "\n",
    "### Algoritma"
   ]
  },
  {
   "cell_type": "code",
   "execution_count": 8,
   "metadata": {},
   "outputs": [
    {
     "name": "stdout",
     "output_type": "stream",
     "text": [
      "r    = -0.305506\n",
      "f(r) = 2.22045e-16\n",
      "iter = 5"
     ]
    }
   ],
   "source": [
    "clear;\n",
    "\n",
    "% Masukan\n",
    "a   = [2 7 1 -1 1 -3];   % koefisien polinom p(x), 1 -2x +3x^2 -4x^3 +5x^4 -6x^5\n",
    "z   = 0;                 % tebakan awal\n",
    "eps = 10^(-8);           % batas galat\n",
    "N   = 10^4;              % batas iterasi\n",
    "\n",
    "% Algoritma\n",
    "n   = numel(a) - 1;      % derajat polinom\n",
    "\n",
    "for iteration = 1:(N+1)\n",
    "    b = zeros(1, n+1);   % untuk menghitung p(z)\n",
    "    c = zeros(1, n+1);   % untuk menghitung p'(z)\n",
    "    b(n+1) = a(n+1);     \n",
    "    c(n+1) = a(n+1);     \n",
    "    \n",
    "    for i = n:-1:2\n",
    "        b(i) = a(i) + b(i+1)*z;\n",
    "        c(i) = b(i) + c(i+1)*z;\n",
    "    end\n",
    "    b(1) = a(1) + b(2)*z;\n",
    "    \n",
    "    if abs(c(2)) < 10^(-10)\n",
    "        printf(\"proses gagal.\")\n",
    "        break\n",
    "    end\n",
    "    \n",
    "    z_new = z - b(1)/c(2);\n",
    "    delta = abs((z_new - z)/z_new);\n",
    "    \n",
    "    if delta < eps\n",
    "        akar = z_new;\n",
    "        for i = n:-1:1\n",
    "            b(i) = a(i) + b(i+1)*akar;\n",
    "        end\n",
    "        break\n",
    "    end\n",
    "\n",
    "    z = z_new;\n",
    "end\n",
    "\n",
    "% Keluaran\n",
    "if iteration < (N+1)\n",
    "    printf(\"r    = %d\\n\", akar)\n",
    "    printf(\"f(r) = %d\\n\", b(1))\n",
    "    printf(\"iter = %d\", iteration)\n",
    "else\n",
    "    printf(\"proses tidak konvergen.\")\n",
    "end"
   ]
  }
 ],
 "metadata": {
  "kernelspec": {
   "display_name": "Octave",
   "language": "octave",
   "name": "octave"
  },
  "language_info": {
   "file_extension": ".m",
   "help_links": [
    {
     "text": "GNU Octave",
     "url": "https://www.gnu.org/software/octave/support.html"
    },
    {
     "text": "Octave Kernel",
     "url": "https://github.com/Calysto/octave_kernel"
    },
    {
     "text": "MetaKernel Magics",
     "url": "https://metakernel.readthedocs.io/en/latest/source/README.html"
    }
   ],
   "mimetype": "text/x-octave",
   "name": "octave",
   "version": "5.2.0"
  },
  "toc": {
   "base_numbering": 1,
   "nav_menu": {},
   "number_sections": true,
   "sideBar": true,
   "skip_h1_title": true,
   "title_cell": "Daftar Isi",
   "title_sidebar": "Contents",
   "toc_cell": false,
   "toc_position": {},
   "toc_section_display": true,
   "toc_window_display": true
  }
 },
 "nbformat": 4,
 "nbformat_minor": 4
}
