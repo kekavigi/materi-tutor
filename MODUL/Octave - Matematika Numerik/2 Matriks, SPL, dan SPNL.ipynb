{
 "cells": [
  {
   "cell_type": "markdown",
   "metadata": {},
   "source": [
    "Feedback dari anda diperlukan! bantu kami dalam [meningkatkan modul ini](https://forms.gle/pWJd6y4hY4KWMcno6)."
   ]
  },
  {
   "cell_type": "markdown",
   "metadata": {},
   "source": [
    "# Matriks, Sistem Persamaan Linear, dan Sistem Persamaan Non-Linear"
   ]
  },
  {
   "cell_type": "markdown",
   "metadata": {},
   "source": [
    "## Daftar Isi\n",
    "\n",
    "* Metode Penyelesaian Persamaan Linear\n",
    "    * Penyulihan Maju/Mundur\n",
    "    * Eliminasi Gauss\n",
    "    * Modifikasi Eliminasi Gauss dengan Penumpuan\n",
    "    * Modifikasi Eliminasi Gauss untuk Matriks Tridiagonal\n",
    "* Perhitungan Determinan Matriks\n",
    "* Perhitungan Invers Matriks\n",
    "* Dekomposisi Matriks (LU)\n",
    "* Metode Iterasi Menyelesaikan SPL\n",
    "    * Gauss\n",
    "    * Gauss-Seidel\n",
    "* Metode Iterasi Menyelesai SPNL"
   ]
  },
  {
   "cell_type": "markdown",
   "metadata": {},
   "source": [
    "## Metode Penyelesaian Persamaan Linear\n",
    "\n",
    "Bentuk umum dari Sistem Persamaan Linear (SPL) yang terdiri dari $n$ persamaan dengan $n$ variabel bebas adalah:\n",
    "\n",
    "$$\n",
    "a_{11}x_1 + a_{12}x_2 + a_{13}x_3 + \\dots + a_{1n}x_n = b_1 \\\\\n",
    "a_{21}x_1 + a_{22}x_2 + a_{23}x_3 + \\dots + a_{2n}x_n = b_2 \\\\\n",
    "\\vdots \\\\\n",
    "a_{n1}x_1 + a_{n2}x_2 + a_{n3}x_3 + \\dots + a_{3n}x_n = b_n \\\\\n",
    "$$\n",
    "\n",
    "SPL tersebut dapat dituliskan dalam bentuk matriks, dengan matriks koefisien dan matriks lengkapnya dituliskan secara berturut-turut sebagai berikut.\n",
    "\n",
    "$$\n",
    "\\begin{bmatrix}\n",
    "a_{11} && a_{12} && a_{13} && \\dots && a_{1n} && b_1 \\\\\n",
    "a_{21} && a_{22} && a_{23} && \\dots && a_{2n} && b_2 \\\\\n",
    "\\vdots && && && && && \\vdots\\\\\n",
    "a_{n1} && a_{n2} && a_{n3} && \\dots && a_{nn} && b_n \\\\\n",
    "\\end{bmatrix}\n",
    "$$\n",
    "\n",
    "\n",
    "\n",
    "Untuk menentukan solusi dari suatu SPL secara analitik, dapat dilakukan dengan metode Operasi Baris Elementer (OBE). OBE dilakukan dengan menyelesaikan matriks lengkap dari SPL dengan cara:\n",
    "1. Menukarkan dua buah baris\n",
    "2. Mengalikan suatu baris dengan suatu konstanta tak nol\n",
    "3. Menambahkan k kali baris ke-i pada baris ke-j.\n",
    "\n",
    "OBE tidak akan mengubah penyelesaian SPL. Namun, secara analitik OBE hanya dapat dilakukan untuk SPL yang sederhana, yaitu SPL yang memiliki matriks lengkap berukuran relatif kecil. Untuk SPL yang lebih rumit dengan matriks lengkap berukuran relatif besar, diperlukan metode penyelesaian secara numerik."
   ]
  },
  {
   "cell_type": "markdown",
   "metadata": {},
   "source": [
    "### Metode Penyulihan Maju/Mundur\n",
    "Metode Penyulihan Maju dan Mundur. Suatu SPL yang matriks koefisiennya berbentuk matriks segitiga atas atau bawah dapat diselesaikan dengan metode penyulihan mundur atau maju. Matriks segitiga atas diselesaikan dengan metode penyulihan mundur, sedangkan matriks segitiga bawah diselesaikan dengan metode penyulihan maju.\n",
    "$$\n",
    "\\begin{bmatrix}\n",
    "3 && 2 &&   5 &&   7 \\\\\n",
    "  && 7 &&  10 &&   2 \\\\\n",
    "  &&   && -22 && -24 \\\\\n",
    "  &&   &&     &&  45 \\\\\n",
    "\\end{bmatrix}\n",
    "\\begin{bmatrix}\n",
    "x_1 \\\\ x_2 \\\\ x_3 \\\\ x_4\n",
    "\\end{bmatrix}\n",
    "\\begin{bmatrix}\n",
    "41 \\\\ 37 \\\\ -136 \\\\ 90\n",
    "\\end{bmatrix}\n",
    "$$\n",
    "\n",
    "$$\n",
    "\\begin{bmatrix}\n",
    " 45 &&     &&   &&   \\\\\n",
    "-22 && -24 &&   &&   \\\\\n",
    "  7 &&  10 && 2 &&   \\\\\n",
    "  3 &&   2 && 5 && 7 \\\\\n",
    "\\end{bmatrix}\n",
    "\\begin{bmatrix}\n",
    "x_1 \\\\ x_2 \\\\ x_3 \\\\ x_4\n",
    "\\end{bmatrix}\n",
    "\\begin{bmatrix}\n",
    "90 \\\\ -136 \\\\ 37 \\\\ 41 \\\\  \n",
    "\\end{bmatrix}\n",
    "$$\n",
    "\n",
    "untuk mendapatkan solusi dari matriks segitiga atas, secara berurutan kita menyelesaikan:\n",
    "\n",
    "$$\n",
    "\\begin{align}\n",
    "x_n     & = \\frac{1}{a_{n,n}} b_n \\\\\n",
    "x_{n-1} & = \\frac{1}{a_{n-1, n-1}} (b_{n-1} - a_{n-1, n} x_n) \\\\\n",
    "x_{n-2} & = \\frac{1}{a_{n-2, n-2}} (b_{n-2} - a_{n-2, n-1}x_{n-1} - a_{n-2, n}x_n) \\\\\n",
    "\\vdots\\\\\n",
    "x_k     & = \\frac{1}{a_{k,k}} (b_k - \\sum_{i=k+1}^n a_{k,i} x_i) \\\\\n",
    "\\vdots\\\\\n",
    "x_1     & = \\frac{1}{a_{1,1}} (b_1 - \\sum_{i=2}^n a_{k,i} x_i) \\\\\n",
    "\\end{align}\n",
    "$$\n",
    "\n",
    "metode ini disebut **penyulihan mundur (*back substitution*)** karena kita mencari solusi $x_i$ dari indeks $x_n$ dan secara iteratif 'mundur' ke $x_1$"
   ]
  },
  {
   "cell_type": "code",
   "execution_count": 1,
   "metadata": {},
   "outputs": [
    {
     "name": "stdout",
     "output_type": "stream",
     "text": [
      "A =\n",
      "\n",
      "  -7  -9  -1  -7  -2  -3\n",
      "   0  -2  -4   5   6   2\n",
      "   0   0   8  -3   6   2\n",
      "   0   0   0   2   2   9\n",
      "   0   0   0   0  -8   4\n",
      "\n",
      "x =\n",
      "\n",
      "  -11.21429    5.00000    2.50000    5.00000   -0.50000\n",
      "\n"
     ]
    }
   ],
   "source": [
    "% Penyulihan Mundur\n",
    "\n",
    "% Masukan\n",
    "n = 5;                             % ukuran SPL segitiga atas \n",
    "A = triu(randi([-10, 10], n, n+1)) % matriks SPL ekspansi dari Ax=b\n",
    "\n",
    "K = A;   % untuk pengecekan solusi \n",
    "\n",
    "% Keluaran\n",
    "x = zeros(1, n);                   % solusi SPL\n",
    "\n",
    "% Algoritma\n",
    "\n",
    "% pengecekan elemen diagonal matriks\n",
    "start_process = true;\n",
    "for k=n:-1:1\n",
    "    if abs(A(k,k)) < 10^(-15)\n",
    "        printf('proses gagal: pembagian oleh nol\\n')\n",
    "        start_process = false; \n",
    "        break\n",
    "    end\n",
    "end\n",
    "\n",
    "% mulai penyulihan\n",
    "if start_process\n",
    "    x(n) = A(n, n+1) / A(n, n);\n",
    "    \n",
    "    for k=n-1:-1:1\n",
    "        s = dot(A(k, (k+1):n), x(k+1:n));\n",
    "        x(k) = (A(k, n+1) - s)/ A(k,k);\n",
    "    end\n",
    "end\n",
    "\n",
    "x"
   ]
  },
  {
   "cell_type": "markdown",
   "metadata": {},
   "source": [
    "kita dapat membandingkan solusi dengan bentuk eselon reduksi (*reduced row echelon form*) dari matriks A,"
   ]
  },
  {
   "cell_type": "code",
   "execution_count": 2,
   "metadata": {},
   "outputs": [
    {
     "name": "stdout",
     "output_type": "stream",
     "text": [
      "K =\n",
      "\n",
      "  -7  -9  -1  -7  -2  -3\n",
      "   0  -2  -4   5   6   2\n",
      "   0   0   8  -3   6   2\n",
      "   0   0   0   2   2   9\n",
      "   0   0   0   0  -8   4\n",
      "\n",
      "ans =\n",
      "\n",
      "    1.00000    0.00000    0.00000    0.00000    0.00000  -11.21429\n",
      "    0.00000    1.00000    0.00000    0.00000    0.00000    5.00000\n",
      "    0.00000    0.00000    1.00000    0.00000    0.00000    2.50000\n",
      "    0.00000    0.00000    0.00000    1.00000    0.00000    5.00000\n",
      "    0.00000    0.00000    0.00000    0.00000    1.00000   -0.50000\n",
      "\n"
     ]
    }
   ],
   "source": [
    "% ingat K = A\n",
    "K\n",
    "rref(K)"
   ]
  },
  {
   "cell_type": "markdown",
   "metadata": {},
   "source": [
    "### Metode Eliminasi Gauss\n",
    "Metode ini terdiri dari dua langkah besar, yaitu:\n",
    "1. Mengubah SPL semula menjadi SPL segitiga atas melalui serangkaian operasi baris elementer (OBE).\n",
    "2. Menyelesaikan SPL segitiga atas yang terbentuk dengan menggunakan penyulihan mundur."
   ]
  },
  {
   "cell_type": "code",
   "execution_count": 19,
   "metadata": {},
   "outputs": [
    {
     "name": "stdout",
     "output_type": "stream",
     "text": [
      "A =\n",
      "\n",
      "    9    8    3   -9   -6   -1\n",
      "   -2    5    9   -4   -6    3\n",
      "   -5   -1   -5    1   -4  -10\n",
      "    9   -5    2    7   -1  -10\n",
      "  -10    3    4   -9    4   10\n",
      "\n",
      "x =\n",
      "\n",
      "  -0.34201   3.06881   0.44686   1.35262   1.93989\n",
      "\n"
     ]
    }
   ],
   "source": [
    "% Eliminasi Gauss\n",
    "\n",
    "% Masukan\n",
    "n = 5;                             % ukuran matriks \n",
    "A = randi([-10, 10], n, n+1)       % matriks ekspansi Ax=b, yakni [A b]\n",
    "\n",
    "K = A;   % untuk pengecekan solusi \n",
    "\n",
    "% Keluaran\n",
    "x = zeros(1, n);                   % solusi SPL\n",
    "\n",
    "% Algoritma\n",
    "\n",
    "% pengecekan elemen diagonal matriks\n",
    "start_process = true;\n",
    "for i=n:-1:1\n",
    "    if abs(A(i,i)) < 10^(-15)\n",
    "        printf('proses gagal: pembagian oleh nol\\n')\n",
    "        start_process = false; \n",
    "        break\n",
    "    end\n",
    "end\n",
    "\n",
    "if start_process\n",
    "    \n",
    "    % mulai eliminasi\n",
    "    for k=1:n-1\n",
    "        for i=(k+1):n\n",
    "            p = A(i, k)/A(k, k);\n",
    "            A(i, :) = A(i, :) - p * A(k, :);\n",
    "        end\n",
    "        \n",
    "    end\n",
    "\n",
    "    % mulai penyulihan\n",
    "    x(n) = A(n, n+1) / A(n, n);\n",
    "    for k=n-1:-1:1\n",
    "        s = dot(A(k, (k+1):n), x(k+1:n));\n",
    "        x(k) = (A(k, n+1) - s)/ A(k,k);\n",
    "    end\n",
    "end\n",
    "\n",
    "x"
   ]
  },
  {
   "cell_type": "code",
   "execution_count": 20,
   "metadata": {},
   "outputs": [
    {
     "name": "stdout",
     "output_type": "stream",
     "text": [
      "ans =\r\n",
      "\r\n",
      "   1.00000   0.00000   0.00000   0.00000   0.00000  -0.34201\r\n",
      "   0.00000   1.00000   0.00000   0.00000   0.00000   3.06881\r\n",
      "   0.00000   0.00000   1.00000   0.00000   0.00000   0.44686\r\n",
      "   0.00000   0.00000   0.00000   1.00000   0.00000   1.35262\r\n",
      "   0.00000   0.00000   0.00000   0.00000   1.00000   1.93989\r\n",
      "\r\n"
     ]
    }
   ],
   "source": [
    "% membandingkan dengan bentuk RREF dari ekspansi Ax = b\n",
    "rref(K)"
   ]
  },
  {
   "cell_type": "markdown",
   "metadata": {},
   "source": [
    "### Metode Penumpuan pada Eliminasi Gauss\n",
    "Teknik penumpuan dilakukan dengan melakukan pertukaran baris pada matriks lengkap SPL. Hal ini dilakukan karena pertimbangan:\n",
    "* Proses eliminasi Gauss gagal karena elemen penumpu bernilai nol.\n",
    "* Adanya perambatan galat pembulatan yang besar.\n",
    "* Hasil sensitif terhadap perubahan kecil pada konstanta pada sistem persamaan.\n",
    "\n",
    "Untuk teknik penumpuan parsial, elemen penumpunya diambil dari $$\\max_{k\\leq i\\leq n} |a_{i,k}|$$ Sedangkan, untuk teknik penumpuan total, elemen penumpunya diambil dari $$\\max_{k\\leq i, j\\leq n} |a_{i,j}|$$\n",
    "\n",
    "Setelah elemen penumpu dipilih, kita harus menempatkannya pada posisi $(k,k)$ dari matriks lengkap SPL."
   ]
  },
  {
   "cell_type": "code",
   "execution_count": 5,
   "metadata": {},
   "outputs": [
    {
     "name": "stdout",
     "output_type": "stream",
     "text": [
      "A =\n",
      "\n",
      "   -5    0    3   -2   -7   -6\n",
      "   -6    1    9    2   -2   10\n",
      "   -1   -8   -4  -10  -10   -6\n",
      "  -10   -4    1    8    9   -4\n",
      "   -8    0    6    4   10  -10\n",
      "\n",
      "x =\n",
      "\n",
      "   3.3324  -3.3147   2.7661   3.0097  -1.1976\n",
      "\n"
     ]
    }
   ],
   "source": [
    "% Eliminasi Gauss dengan Penumpuan Parsial\n",
    "\n",
    "% Masukan\n",
    "n = 5;                             % ukuran matriks \n",
    "A = randi([-10, 10], n, n+1)       % matriks ekspansi Ax=b, yakni [A b]\n",
    "\n",
    "K = A;   % untuk pengecekan solusi \n",
    "\n",
    "% Keluaran\n",
    "x = zeros(1, n);                   % solusi SPL\n",
    "\n",
    "% Algoritma\n",
    "start_process = true;\n",
    "\n",
    "for k=1:(n-1)\n",
    "    % cari baris untuk pivot\n",
    "    [val, pivot] = max(abs(A(k:n, k)));\n",
    "\n",
    "    if abs(val) < 10^(-15)\n",
    "        printf('proses gagal: tidak ada elemen pivot yang tak nol\\n')\n",
    "        start_process = false;\n",
    "        break\n",
    "    end\n",
    "    \n",
    "    % tukar posisi\n",
    "    temp            = A(k, :);\n",
    "    A(k, :)         = A(k-1+pivot, :);\n",
    "    A(k-1+pivot, :) = temp;\n",
    "    \n",
    "    % mulai eliminasi\n",
    "    for i=(k+1):n\n",
    "        p = A(i, k)/A(k, k);\n",
    "        A(i, :) = A(i, :) - p * A(k, :);\n",
    "    end\n",
    "end\n",
    "\n",
    "if start_process\n",
    "    % mulai penyulihan\n",
    "    x(n) = A(n, n+1) / A(n, n);\n",
    "    for k=n-1:-1:1\n",
    "        s = dot(A(k, (k+1):n), x(k+1:n));\n",
    "        x(k) = (A(k, n+1) - s)/ A(k,k);\n",
    "    end\n",
    "end\n",
    "x"
   ]
  },
  {
   "cell_type": "markdown",
   "metadata": {},
   "source": [
    "### Modifikasi Eliminasi Gauss untuk SPL Tridiagonal\n",
    "\n",
    "Bila kita memiliki SPL tridiagonal seperti matriks A di bawah, metode penyimpanan dalam bentuk matriks lengkap tidak akan efektif. Hal ini karena akan banyak memori yang terbuang hanya untuk menyimpan nilai nol. "
   ]
  },
  {
   "cell_type": "code",
   "execution_count": 6,
   "metadata": {
    "scrolled": true
   },
   "outputs": [
    {
     "name": "stdout",
     "output_type": "stream",
     "text": [
      "ans =\r\n",
      "\r\n",
      "  -91  -72    0    0    0    0    0    0    0    0    7\r\n",
      "    7   -5   29    0    0    0    0    0    0    0   -6\r\n",
      "    0  -17  -59   53    0    0    0    0    0    0   -7\r\n",
      "    0    0   26  -14  -61    0    0    0    0    0   -6\r\n",
      "    0    0    0  -71   58   35    0    0    0    0   -5\r\n",
      "    0    0    0    0  -70   78   96    0    0    0    2\r\n",
      "    0    0    0    0    0    1  -95   15    0    0   10\r\n",
      "    0    0    0    0    0    0  -35  -83    6    0    4\r\n",
      "    0    0    0    0    0    0    0   53  -13   48   10\r\n",
      "    0    0    0    0    0    0    0    0   61   37    4\r\n",
      "\r\n"
     ]
    }
   ],
   "source": [
    "n = 10;\n",
    "A = randi([-100 100], n, n);\n",
    "A = triu(triu(A, -1)', -1);    % buat menjadi matriks tridiagonal\n",
    "b = randi([-10 10], n, 1);\n",
    "\n",
    "[A b]"
   ]
  },
  {
   "cell_type": "markdown",
   "metadata": {},
   "source": [
    "Karena itu, umumnya matriks A disimpan dalam bentuk tiga vektor"
   ]
  },
  {
   "cell_type": "code",
   "execution_count": 7,
   "metadata": {},
   "outputs": [
    {
     "name": "stdout",
     "output_type": "stream",
     "text": [
      "ans =\r\n",
      "\r\n",
      "    0  -91  -72    7\r\n",
      "    7   -5   29   -6\r\n",
      "  -17  -59   53   -7\r\n",
      "   26  -14  -61   -6\r\n",
      "  -71   58   35   -5\r\n",
      "  -70   78   96    2\r\n",
      "    1  -95   15   10\r\n",
      "  -35  -83    6    4\r\n",
      "   53  -13   48   10\r\n",
      "   61   37    0    4\r\n",
      "\r\n"
     ]
    }
   ],
   "source": [
    "a = zeros(1, n);\n",
    "d = zeros(1, n);\n",
    "c = zeros(1, n);\n",
    "\n",
    "d(n) = A(n, n);\n",
    "for k = 1:n-1\n",
    "    a(k+1) = A(k+1, k);\n",
    "    d(k)   = A(k,   k);\n",
    "    c(k)   = A(k, k+1);\n",
    "end\n",
    "\n",
    "[a' d' c' b]"
   ]
  },
  {
   "cell_type": "code",
   "execution_count": 8,
   "metadata": {},
   "outputs": [
    {
     "name": "stdout",
     "output_type": "stream",
     "text": [
      "ans =\r\n",
      "\r\n",
      "  -0.7287473\r\n",
      "   0.8238334\r\n",
      "   0.1110482\r\n",
      "   0.2557927\r\n",
      "   0.0869862\r\n",
      "   0.2318881\r\n",
      "  -0.1041483\r\n",
      "  -0.0083986\r\n",
      "  -0.0570460\r\n",
      "   0.2021568\r\n",
      "\r\n"
     ]
    }
   ],
   "source": [
    "% Eliminasi Gauss untuk SPL Tridiagonal\n",
    "\n",
    "% Masukan\n",
    "n;               % ukuran matriks\n",
    "a; d; c;         % vektor dari tridiagonal SPL\n",
    "v = b;           % untuk pengecekan\n",
    "\n",
    "% Keluaran\n",
    "x = zeros(1, n);  % solusi SPL\n",
    "\n",
    "% Algoritma\n",
    "\n",
    "% cek penumpu\n",
    "if min(abs(d)) < 10^(-15)\n",
    "    printf('proses gagal: penumpu bernilai nol')\n",
    "else\n",
    "    % Gauss\n",
    "    for k=1:n-1\n",
    "        p = a(k+1)/d(k);\n",
    "        d(k+1) = d(k+1) - p*c(k);\n",
    "        b(k+1) = b(k+1) - p*b(k);\n",
    "        a(k+1) = 0;\n",
    "    end\n",
    "\n",
    "    % Penyulihan mundur\n",
    "    x(n) = b(n)/d(n);\n",
    "    for k=(n-1):-1:1\n",
    "        x(k) = (b(k) - c(k)*x(k+1))/d(k);\n",
    "    end\n",
    "\n",
    "end\n",
    "\n",
    "x'"
   ]
  },
  {
   "cell_type": "code",
   "execution_count": 9,
   "metadata": {},
   "outputs": [
    {
     "name": "stdout",
     "output_type": "stream",
     "text": [
      "ans =\r\n",
      "\r\n",
      "  -0.7287473\r\n",
      "   0.8238334\r\n",
      "   0.1110482\r\n",
      "   0.2557927\r\n",
      "   0.0869862\r\n",
      "   0.2318881\r\n",
      "  -0.1041483\r\n",
      "  -0.0083986\r\n",
      "  -0.0570460\r\n",
      "   0.2021568\r\n",
      "\r\n"
     ]
    }
   ],
   "source": [
    "rref([A v])(:,n+1)"
   ]
  },
  {
   "cell_type": "markdown",
   "metadata": {},
   "source": [
    "## Perhitungan Determinan\n",
    "Untuk melakukan perhitungan determinan terhadap matriks $A$, kita cukup mengubahnya menjadi matriks segitiga atas $B$. Beberapa hal perlu diperhatikan pada saat melakukan proses OBE, yaitu:\n",
    "1. Penukaran dua buah baris akan membuat nilai determinan matriks yang baru merupakan negatif dari determinan matriks semula.\n",
    "2. Bila suatu baris dikali dengan konstanta $k$ maka nilai determinannya menjadi $k$ kali nilai determinan matriks semula.\n",
    "3. Bila suatu baris ditambah dengan $k$ kali baris yang lain, nilai determinannya tidak berubah.\n",
    "\n",
    "Selanjutnya, $$\\det(B) = \\prod_{i=1}^n a_{ii}$$"
   ]
  },
  {
   "cell_type": "markdown",
   "metadata": {},
   "source": [
    "## Perhitungan Invers Matriks\n",
    "Invers dari sebuah matriks $A$ dapat dicari dengan mengubah bentuk matriks ekspansi $$[A\\,I]$$ menjadi bentuk $$[I\\,B]$$Dengan demikian, matriks $B$ adalah invers dari matriks $A$. Proses pengubahan matriks $A$ menjadi $I$ dapat dilakukan lewat metode Gauss-Jordan"
   ]
  },
  {
   "cell_type": "code",
   "execution_count": 10,
   "metadata": {},
   "outputs": [
    {
     "name": "stdout",
     "output_type": "stream",
     "text": [
      "B =\r\n",
      "\r\n",
      "   0.0207443  -0.1356266  -0.0077855  -0.0081247   0.0231020\r\n",
      "   0.0124104  -0.0560644   0.0493080  -0.0727266   0.0105502\r\n",
      "   0.0138917   0.1577448  -0.0354671   0.0174537  -0.1039080\r\n",
      "  -0.0608137   0.0391931  -0.0311419   0.0916842  -0.0644548\r\n",
      "  -0.0452484   0.0262795  -0.0631488  -0.0027195  -0.0152317\r\n",
      "\r\n"
     ]
    }
   ],
   "source": [
    "% Eliminasi Gauss-Jordan\n",
    "\n",
    "% Masukan\n",
    "n = 5;                             % ukuran matriks \n",
    "A = randi([-10, 10], n, n);        % matriks A\n",
    "M = [A eye(n, n)];                 % matriks ekspansi [A I]\n",
    "\n",
    "% Keluaran\n",
    "B = zeros(n, n);                   % invers matriks A\n",
    "\n",
    "% Algoritma\n",
    "\n",
    "% pengecekan elemen diagonal matriks\n",
    "start_process = true;\n",
    "for i=n:-1:1\n",
    "    if abs(M(i,i)) < 10^(-15)\n",
    "        printf('proses gagal: pembagian oleh nol\\n')\n",
    "        start_process = false; \n",
    "        break\n",
    "    end\n",
    "end\n",
    "\n",
    "if start_process\n",
    "    % Gauss\n",
    "    for k=1:n-1\n",
    "        for i=(k+1):n\n",
    "            p = M(i, k)/M(k, k);\n",
    "            M(i, :) = M(i, :) - p * M(k, :);\n",
    "        end       \n",
    "    end\n",
    "    \n",
    "    % Jordan\n",
    "    for k=n:-1:1\n",
    "        for i=(k-1):-1:1\n",
    "            p = M(i, k)/M(k, k);\n",
    "            M(i, :) = M(i, :) - p * M(k, :);\n",
    "        end\n",
    "        \n",
    "        M(k, :) = M(k, :)/ M(k,k);\n",
    "    end\n",
    "    \n",
    "    B = M(:, n+1:2*n)\n",
    "end"
   ]
  },
  {
   "cell_type": "code",
   "execution_count": 11,
   "metadata": {},
   "outputs": [
    {
     "name": "stdout",
     "output_type": "stream",
     "text": [
      "ans =    6.5234e-16\r\n"
     ]
    }
   ],
   "source": [
    "%mengecek selisih A*B dengan matriks identitas \n",
    "I = eye(n, n);\n",
    "norm(A*B - I)"
   ]
  },
  {
   "cell_type": "markdown",
   "metadata": {},
   "source": [
    "## Dekomposisi Matriks\n",
    "Metode dekomposisi matriks digunakan untuk memfaktorkan suatu matriks atas faktor matriks segitiga atas dan matriks segitiga bawah. Tidak semua matriks dapat didekomposisi menjadi bentuk ini (kecuali dalam kita diperbolehkan menukar urutan kolom dari matriks terlebih dahulu). Pada kasus matriks yang dapat didekomposisi, solusi matriks segitiga atas dan matriks segitiga bawah yang didapat umumnya tidak tunggal. Jika dekomposisi dari matriks ditemukan, langkah untuk mencari penyelesaian SPL dengan metode dekomposisi adalah sebagai berikut:\n",
    "$$A\\overline{x} = \\overline{b} \\\\\n",
    "(LU)\\overline{x} =\\overline{b} \\\\\n",
    "L(U\\overline{x}) = \\overline{b} \\\\\n",
    "$$\n",
    "\n",
    "Misalkan $\\overline{y} = U\\overline{x}$. Kita selesaikan SPL segitiga bawah $L\\overline{y} = \\overline{b}$ dengan penyulihan maju. Setelah vektor $\\overline{y}$ diperoleh selanjutnya vektor $\\overline{x}$ dapat dicari dari persamaan $U\\overline{x} = \\overline{y}$ dengan memakai penyulihan mundur. "
   ]
  },
  {
   "cell_type": "markdown",
   "metadata": {},
   "source": [
    "### Dekomposisi Doolitle\n",
    "Pada dekomposisi Doolitle, elemen diagonal dari matriks segitiga bawah dipilih bernilai 1"
   ]
  },
  {
   "cell_type": "code",
   "execution_count": 12,
   "metadata": {},
   "outputs": [
    {
     "name": "stdout",
     "output_type": "stream",
     "text": [
      "A =\n",
      "\n",
      "   -4    9   -5   -2\n",
      "   -3   -4   -9  -10\n",
      "    0   10    2   -5\n",
      "   -4    4    4  -10\n",
      "\n",
      "U =\n",
      "\n",
      "  -4   9  -5  -2\n",
      "   0   0   0   0\n",
      "   0   0   0   0\n",
      "   0   0   0   0\n",
      "\n",
      "L =\n",
      "\n",
      "   1.00000   0.00000   0.00000   0.00000\n",
      "   0.75000   1.00000   0.00000   0.00000\n",
      "  -0.00000   0.00000   1.00000   0.00000\n",
      "   1.00000   0.00000   0.00000   1.00000\n",
      "\n",
      "U =\n",
      "\n",
      "   -4.00000    9.00000   -5.00000   -2.00000\n",
      "    0.00000  -10.75000   -5.25000   -8.50000\n",
      "    0.00000    0.00000    0.00000    0.00000\n",
      "    0.00000    0.00000    0.00000    0.00000\n",
      "\n",
      "L =\n",
      "\n",
      "   1.00000   0.00000   0.00000   0.00000\n",
      "   0.75000   1.00000   0.00000   0.00000\n",
      "  -0.00000  -0.93023   1.00000   0.00000\n",
      "   1.00000   0.46512   0.00000   1.00000\n",
      "\n",
      "U =\n",
      "\n",
      "   -4.00000    9.00000   -5.00000   -2.00000\n",
      "    0.00000  -10.75000   -5.25000   -8.50000\n",
      "    0.00000    0.00000   -2.88372  -12.90698\n",
      "    0.00000    0.00000    0.00000    0.00000\n",
      "\n",
      "L =\n",
      "\n",
      "   1.00000   0.00000   0.00000   0.00000\n",
      "   0.75000   1.00000   0.00000   0.00000\n",
      "  -0.00000  -0.93023   1.00000   0.00000\n",
      "   1.00000   0.46512  -3.96774   1.00000\n",
      "\n",
      "U =\n",
      "\n",
      "   -4.00000    9.00000   -5.00000   -2.00000\n",
      "    0.00000  -10.75000   -5.25000   -8.50000\n",
      "    0.00000    0.00000   -2.88372  -12.90698\n",
      "    0.00000    0.00000    0.00000  -55.25806\n",
      "\n",
      "L =\n",
      "\n",
      "   1.00000   0.00000   0.00000   0.00000\n",
      "   0.75000   1.00000   0.00000   0.00000\n",
      "  -0.00000  -0.93023   1.00000   0.00000\n",
      "   1.00000   0.46512  -3.96774   1.00000\n",
      "\n"
     ]
    }
   ],
   "source": [
    "n = 4;\n",
    "A = randi([-10, 10], n, n)\n",
    "L = eye(n, n);\n",
    "U = zeros(n, n);\n",
    "\n",
    "for i=1:n\n",
    "    for k=i:n\n",
    "        U(i, k) = A(i, k) - dot(L(i, 1:i), U(1:i, k));\n",
    "    end\n",
    "    U % untuk melihat proses\n",
    "    \n",
    "    for k=(i+1):n\n",
    "        L(k, i) = (A(k, i) - dot(L(k, 1:i), U(1:i, i)))/ U(i, i);\n",
    "    end\n",
    "    L % untuk melihat proses\n",
    "end"
   ]
  },
  {
   "cell_type": "code",
   "execution_count": 13,
   "metadata": {},
   "outputs": [
    {
     "name": "stdout",
     "output_type": "stream",
     "text": [
      "ans =    8.8818e-16\r\n"
     ]
    }
   ],
   "source": [
    "% mengecek error sebagai selisih matriks L*U dan matriks A\n",
    "norm(L*U-A)"
   ]
  },
  {
   "cell_type": "markdown",
   "metadata": {},
   "source": [
    "## Metode Iterasi Untuk Menyelesaikan SPL"
   ]
  },
  {
   "cell_type": "markdown",
   "metadata": {},
   "source": [
    "### Metode Jacobi\n",
    "\n",
    "Metode iterasi Jacobi umumnya dipakai dalam pertimbangan:\n",
    "* **Dapat ditebak nilai dari solusi eksaknya**, sehingga kita membutuhkan cara 'menggeser' tebakan awal ke solusi eksak.\n",
    "* **Dimensi dari sistem persamaan besar**. Walau liminasi Gauss memastikan solusi tepat dari sistem persamaan, cara ini kurang/tidak feasible untuk matriks yang berukuran besar, misal 1000x1000. Sayangnya, permasalahan dalam kehidupan nyata biasanya menghasilkan bentuk matriks yang besar.\n",
    "* **sistem persamaan *sparse* dan *diagonally dominated*.**\n",
    "\n",
    "\n",
    "Matriks koefisien $A$ pada persamaan $$Ax = b$$ dapat didekomposisi menjadi matriks diagonal $D$, matriks segitiga atas *strict* $U$, dan matriks segitiga bawah *strict* $L$. [Strict dalam arti, diagonal dari matriks segitiga bernilai nol]. Dengan kata lain,\n",
    "\n",
    "$$A = D+U+L = \n",
    "\\begin{bmatrix}\n",
    "a_{11} & 0 & \\cdots & 0 \\\\\n",
    "0 & a_{22} & \\cdots & 0 \\\\\n",
    "\\vdots & \\vdots & \\ddots & \\vdots \\\\\n",
    "0 & 0 & \\cdots & a_{nn} \n",
    "\\end{bmatrix} + \n",
    "\\begin{bmatrix}\n",
    "0 & a_{12} & \\cdots & a_{1n} \\\\\n",
    "0 & 0 & \\cdots & a_{2n} \\\\\n",
    "\\vdots & \\vdots & \\ddots & \\vdots \\\\\n",
    "0 & 0 & \\cdots & 0\n",
    "\\end{bmatrix} +\n",
    "\\begin{bmatrix}\n",
    "0 & 0 & \\cdots & 0 \\\\\n",
    "a_{21} & 0 & \\cdots & 0 \\\\\n",
    "\\vdots & \\vdots & \\ddots & \\vdots \\\\\n",
    "a_{n1} & a_{n2} & \\cdots & 0\n",
    "\\end{bmatrix}.\n",
    "$$\n",
    "\n",
    "Sehingga\n",
    "$$\n",
    "\\begin{align}\n",
    "Ax &= b \\\\\n",
    "(D+U+L)x &= b\\\\\n",
    "Dx &= b - (U+L)x \\\\\n",
    "x &= D^{-1} (b - (U+L)x) \\\\\n",
    "\\end{align}\n",
    "$$\n",
    "\n",
    "Misalkan $R=U+L$. Solusi dari sistem persamaan $Ax = b$ dapat ditentukan secara iteratif dengan\n",
    "$$ x^{(k+1)} = D^{-1} (b - R x^{(k)}) $$\n",
    "\n",
    "dimana $x^{(k)}$ adalah aproksimasi ke-*k* dari $x$. Rumus iterasi Metode Jacobi versi elemen matriks adalah\n",
    "$$x^{(k+1)}_i := \\frac{1}{a_{ii}}\\Big(b_i - \\sum_{j=1, j\\neq i}^n a_{ij}x^{(k)}_j \\Big)$$\n",
    "\n",
    "dengan kriteria penghentian iterasi yaitu:\n",
    "$$\\max_{1\\leq i\\leq n} \\frac{|x^{k+1}_i − x^k_i|}{|x^{k+1}_i|} < \\epsilon $$"
   ]
  },
  {
   "cell_type": "code",
   "execution_count": 14,
   "metadata": {},
   "outputs": [
    {
     "name": "stdout",
     "output_type": "stream",
     "text": [
      "x =\r\n",
      "\r\n",
      "   1.00000\r\n",
      "   2.00000\r\n",
      "  -1.00000\r\n",
      "   1.00000\r\n",
      "\r\n"
     ]
    }
   ],
   "source": [
    "% Algoritma\n",
    "\n",
    "% Masukan\n",
    "n = 4;                   % ukuran matriks\n",
    "A = [10 -1  2  0;\n",
    "     -1 11 -1  3;\n",
    "      2 -1 10 -1;\n",
    "      0  3 -1  8];\n",
    "b = [6 25 -11 15]';\n",
    "eps = 10^-8;\n",
    "\n",
    "% Keluaran\n",
    "x = zeros(n, 1);\n",
    "\n",
    "% Algoritma\n",
    "x_old = zeros(n, 1);\n",
    "D = diag(diag(A));\n",
    "R = A-D;\n",
    "\n",
    "for iteration = 1:1000\n",
    "    x = D\\(b - R*x);\n",
    "    if norm(x_old - x) < eps\n",
    "        break\n",
    "    else\n",
    "        x_old = x;\n",
    "    end\n",
    "end\n",
    "\n",
    "% Keluaran\n",
    "x"
   ]
  },
  {
   "cell_type": "code",
   "execution_count": 15,
   "metadata": {},
   "outputs": [
    {
     "name": "stdout",
     "output_type": "stream",
     "text": [
      "ans =\r\n",
      "\r\n",
      "   1.1958e-08\r\n",
      "  -2.2090e-08\r\n",
      "   1.5531e-08\r\n",
      "  -1.7699e-08\r\n",
      "\r\n"
     ]
    }
   ],
   "source": [
    "A*x - b"
   ]
  },
  {
   "cell_type": "markdown",
   "metadata": {},
   "source": [
    "### Metode Gauss-Seidel\n",
    "\n",
    "Perhatikan pada metode Gauss, jika kita telah menghitung nilai $x^{(k+1)}_1$ sampai dengan $x^{(k+1)}_i$, kita tetap harus menghitung nilai $x^{(k+1)}_{i+1}$ berdasarkan nilai $x^{k}_{j\\neq i+1}$. Padahal nilai $x_1$ sampai dengan $x_i$ sudah 'dalam keadaan yang mengkilat'. Metode Gauss-Seidel mencoba mempercepat laju kekonvergenan metode Gauss atas pertimbangan ini. Menggunakan dekomposisi pada metode Gauss sebelumnya, secara analitik metode Gauss-Seidel sebagai berikut:\n",
    "\n",
    "$$\n",
    "\\begin{align}\n",
    "Ax &= b \\\\\n",
    "(D+U+L)x &= b\\\\\n",
    "(D+L)x &= b - (U)x \\\\\n",
    "x &= (D+L)^{-1} (b - Ux) \\\\\n",
    "\\end{align}\n",
    "$$\n",
    "\n",
    "Secara umum, rumus iterasi metode Gauss Seidel adalah\n",
    "$$x^{k+1}_i := \\frac{1}{a_{ii}} \\Big(b_i - \\sum^{i−1}_{j=1} a_{ij}x^{k+1}_j + \\sum^n_{j=i+1} a_{ij}x^k_j \\Big) $$\n",
    "\n",
    "dengan kriteria penghentian iterasi:\n",
    "$$ \\max_{1\\leq i \\leq n} \\frac{|x^{k+1}_i − x^k_i|}{|x^{k+1}_i|} < \\epsilon $$"
   ]
  },
  {
   "cell_type": "code",
   "execution_count": 16,
   "metadata": {},
   "outputs": [
    {
     "name": "stdout",
     "output_type": "stream",
     "text": [
      "x =\r\n",
      "\r\n",
      "   1.00000\r\n",
      "   2.00000\r\n",
      "  -1.00000\r\n",
      "   1.00000\r\n",
      "\r\n"
     ]
    }
   ],
   "source": [
    "% Algoritma\n",
    "\n",
    "% Masukan\n",
    "n = 4;                   % ukuran matriks\n",
    "A = [10 -1  2  0;\n",
    "     -1 11 -1  3;\n",
    "      2 -1 10 -1;\n",
    "      0  3 -1  8];\n",
    "b = [6 25 -11 15]';\n",
    "eps = 10^-8;\n",
    "\n",
    "% Keluaran\n",
    "x = zeros(n, 1);\n",
    "\n",
    "% Algoritma\n",
    "x_old = zeros(n, 1);\n",
    "L = tril(A);              % matriks segitiga bawah\n",
    "U = triu(A, 1);           % matriks segitiga atas strict\n",
    "\n",
    "for iteration = 1:1000\n",
    "    x = L\\(b - U*x);\n",
    "    if norm(x_old - x) < eps\n",
    "        break\n",
    "    else\n",
    "        x_old = x;\n",
    "    end\n",
    "end\n",
    "\n",
    "% Keluaran\n",
    "x"
   ]
  },
  {
   "cell_type": "code",
   "execution_count": 17,
   "metadata": {},
   "outputs": [
    {
     "name": "stdout",
     "output_type": "stream",
     "text": [
      "ans =\r\n",
      "\r\n",
      "   5.5764e-11\r\n",
      "  -1.3883e-09\r\n",
      "   2.9453e-10\r\n",
      "   0.0000e+00\r\n",
      "\r\n"
     ]
    }
   ],
   "source": [
    "A*x-b"
   ]
  }
 ],
 "metadata": {
  "kernelspec": {
   "display_name": "Octave",
   "language": "octave",
   "name": "octave"
  },
  "language_info": {
   "file_extension": ".m",
   "help_links": [
    {
     "text": "GNU Octave",
     "url": "https://www.gnu.org/software/octave/support.html"
    },
    {
     "text": "Octave Kernel",
     "url": "https://github.com/Calysto/octave_kernel"
    },
    {
     "text": "MetaKernel Magics",
     "url": "https://metakernel.readthedocs.io/en/latest/source/README.html"
    }
   ],
   "mimetype": "text/x-octave",
   "name": "octave",
   "version": "4.2.2"
  }
 },
 "nbformat": 4,
 "nbformat_minor": 2
}
