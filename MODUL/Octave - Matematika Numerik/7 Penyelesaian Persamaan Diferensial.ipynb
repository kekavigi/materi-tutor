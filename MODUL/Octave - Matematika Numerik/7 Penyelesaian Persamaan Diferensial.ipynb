{
 "cells": [
  {
   "cell_type": "markdown",
   "metadata": {},
   "source": [
    "Feedback dari anda diperlukan! bantu kami dalam [meningkatkan modul ini](https://forms.gle/pWJd6y4hY4KWMcno6)."
   ]
  },
  {
   "cell_type": "code",
   "execution_count": 1,
   "metadata": {},
   "outputs": [],
   "source": [
    "warning('off','all');\n",
    "pkg load symbolic"
   ]
  },
  {
   "cell_type": "code",
   "execution_count": 2,
   "metadata": {},
   "outputs": [
    {
     "name": "stdout",
     "output_type": "stream",
     "text": [
      "Symbolic pkg v2.8.0: Python communication link active, SymPy v1.4.\n"
     ]
    }
   ],
   "source": [
    "syms y(t);"
   ]
  },
  {
   "cell_type": "markdown",
   "metadata": {},
   "source": [
    "# Penyelesaian Persamaan Diferensial"
   ]
  },
  {
   "cell_type": "markdown",
   "metadata": {},
   "source": [
    "MATLAB PDE Solver dan ODE Solver dapat digunakan untuk menyelesaikan (sistem) persamaan diferensial baik dalam bentuk PDE maupun ODE. Tentu, tidak semuanya dapat diselesaikan secara simbolik, karena itu ada baiknya untuk mengecek dokumentasi pada MATLAB tentang jenis solver yang bagus untuk menyelesaikan problem yang anda hadapi. Kali ini, kita akan menggunakan `dsolve` untuk menyelesaikan secara simbolik ODE $$y'(t) = \\frac{1}{2} (y(t)-t)$$\n",
    "\n",
    "pada interval $0 \\leq t \\leq 4$ dan nilai awal $y(0)=1$."
   ]
  },
  {
   "cell_type": "code",
   "execution_count": 3,
   "metadata": {},
   "outputs": [
    {
     "name": "stdout",
     "output_type": "stream",
     "text": [
      "ode = (sym)\r\n",
      "\r\n",
      "  d            t   y(t)\r\n",
      "  ──(y(t)) = - ─ + ────\r\n",
      "  dt           2    2  \r\n",
      "\r\n"
     ]
    }
   ],
   "source": [
    "% Definisikan fungsi simbolik\n",
    "syms y(t);\n",
    "\n",
    "% IVP\n",
    "cond = y(0) == 1;\n",
    "ode = diff(y, t) == (y-t)/2"
   ]
  },
  {
   "cell_type": "markdown",
   "metadata": {},
   "source": [
    "Selanjutnya, untuk mencari solusi analitik dan plot fungsi pada interval $[0, 4]$ kita lakukan"
   ]
  },
  {
   "cell_type": "code",
   "execution_count": 4,
   "metadata": {},
   "outputs": [
    {
     "name": "stdout",
     "output_type": "stream",
     "text": [
      "ySol(t) = (symfun)\n",
      "\n",
      "         ⎛         -t     ⎞  t\n",
      "         ⎜         ───    ⎟  ─\n",
      "         ⎜          2     ⎟  2\n",
      "  y(t) = ⎝(t + 2)⋅ℯ    - 1⎠⋅ℯ \n",
      "\n",
      "Waiting.....\n"
     ]
    },
    {
     "data": {
      "image/png": "[encoded data removed]",
      "text/plain": [
       "<IPython.core.display.Image object>"
      ]
     },
     "metadata": {},
     "output_type": "display_data"
    }
   ],
   "source": [
    "ySol(t) = dsolve(ode, cond)\n",
    "\n",
    "x = linspace(0, 4);\n",
    "ysol = ySol(x);\n",
    "ysol = double(rhs(ysol));   % mungkin tidak diperlukan di MATLAB\n",
    "plot(x, ysol)"
   ]
  },
  {
   "cell_type": "markdown",
   "metadata": {},
   "source": [
    "## Masalah Nilai Awal (Initial Value Problem)"
   ]
  },
  {
   "cell_type": "markdown",
   "metadata": {},
   "source": [
    "Tidak semua permasalahan dapat diselesaikan secara analitik, atau setidaknya secara simbolik menggunakan program komputer. Kali ini, kita akan menggunakan beberapa metode numerik untuk menyelesaikan IVP di awal. Untuk itu, kita akan menggunakan beberapa variabel dibawah ini dalam kode-kode kita selanjutnya."
   ]
  },
  {
   "cell_type": "code",
   "execution_count": 5,
   "metadata": {},
   "outputs": [],
   "source": [
    "% Inisialisasi\n",
    "a = 0;\n",
    "b = 4;\n",
    "h = 0.2;\n",
    "interval = ceil((b-a)/h);\n",
    "\n",
    "f = @(t, y) (y-t)/2;   % y' = f(t, y) = (t-y)/2"
   ]
  },
  {
   "cell_type": "markdown",
   "metadata": {},
   "source": [
    "### Single-Step Method"
   ]
  },
  {
   "cell_type": "markdown",
   "metadata": {},
   "source": [
    "#### Euler"
   ]
  },
  {
   "cell_type": "code",
   "execution_count": 6,
   "metadata": {},
   "outputs": [],
   "source": [
    "% IVP\n",
    "t = a;\n",
    "y = zeros(1, interval+1);\n",
    "y(1) = 1;\n",
    "\n",
    "% Algoritma\n",
    "for i = 1:interval\n",
    "    t = t + h;\n",
    "    y(i+1) = y(i) + h * f(t, y(i));\n",
    "end"
   ]
  },
  {
   "cell_type": "code",
   "execution_count": 7,
   "metadata": {},
   "outputs": [
    {
     "data": {
      "image/png": "[encoded data removed]",
      "text/plain": [
       "<IPython.core.display.Image object>"
      ]
     },
     "metadata": {},
     "output_type": "display_data"
    }
   ],
   "source": [
    "plot(x, ysol)\n",
    "hold on\n",
    "plot(a:h:b, y)\n",
    "legend('Analitik', 'Euler')"
   ]
  },
  {
   "cell_type": "markdown",
   "metadata": {},
   "source": [
    "#### Heun"
   ]
  },
  {
   "cell_type": "code",
   "execution_count": 8,
   "metadata": {},
   "outputs": [],
   "source": [
    "% IVP\n",
    "t = a;\n",
    "y = zeros(1, interval+1);\n",
    "y(1) = 1;\n",
    "\n",
    "% Algoritma\n",
    "for i = 1:interval\n",
    "    P = y(i) + h * f(t, y(i));\n",
    "    t = t+h;\n",
    "    y(i+1) = y(i) + h/2 * (f(t-h, y(i)) + f(t, P));\n",
    "end"
   ]
  },
  {
   "cell_type": "code",
   "execution_count": 9,
   "metadata": {},
   "outputs": [
    {
     "data": {
      "image/png": "[encoded data removed]",
      "text/plain": [
       "<IPython.core.display.Image object>"
      ]
     },
     "metadata": {},
     "output_type": "display_data"
    }
   ],
   "source": [
    "plot(x, ysol)\n",
    "hold on\n",
    "plot(a:h:b, y)\n",
    "legend('Analitik', 'Heun')"
   ]
  },
  {
   "cell_type": "markdown",
   "metadata": {},
   "source": [
    "#### Taylor"
   ]
  },
  {
   "cell_type": "markdown",
   "metadata": {},
   "source": [
    "#### Runge-Kutta Orde 2"
   ]
  },
  {
   "cell_type": "code",
   "execution_count": 10,
   "metadata": {},
   "outputs": [],
   "source": [
    "% IVP\n",
    "t = a;\n",
    "y = zeros(1, interval+1);\n",
    "y(1) = 1;\n",
    "\n",
    "% Algoritma\n",
    "for i = 1:interval\n",
    "    K1 = h * f(t  , y(i));\n",
    "    K2 = h * f(t+h, y(i) + K1);\n",
    "\n",
    "    y(i+1) = y(i) + (K1 + K2)/2;\n",
    "    t = t + h;\n",
    "end"
   ]
  },
  {
   "cell_type": "code",
   "execution_count": 11,
   "metadata": {},
   "outputs": [
    {
     "data": {
      "image/png": "[encoded data removed]",
      "text/plain": [
       "<IPython.core.display.Image object>"
      ]
     },
     "metadata": {},
     "output_type": "display_data"
    }
   ],
   "source": [
    "plot(x, ysol)\n",
    "hold on\n",
    "plot(a:h:b, y)\n",
    "legend('Analitik', 'RK2')"
   ]
  },
  {
   "cell_type": "markdown",
   "metadata": {},
   "source": [
    "#### Runge-Kutta Orde 4"
   ]
  },
  {
   "cell_type": "code",
   "execution_count": 12,
   "metadata": {},
   "outputs": [],
   "source": [
    "% IVP\n",
    "t = a;\n",
    "y = zeros(1, interval+1);\n",
    "y(1) = 1;\n",
    "\n",
    "% Algoritma\n",
    "for i = 1:interval\n",
    "    K1 = h * f(t    , y(i)       );\n",
    "    K2 = h * f(t+h/2, y(i) + K1/2);\n",
    "    K3 = h * f(t+h/2, y(i) + K2/2);\n",
    "    K4 = h * f(t+h  , y(i) + K3  );    \n",
    "\n",
    "    y(i+1) = y(i) + (K1 + 2*K2 + 2*K3 + K4)/6;\n",
    "    t = t + h;\n",
    "end"
   ]
  },
  {
   "cell_type": "code",
   "execution_count": 13,
   "metadata": {},
   "outputs": [
    {
     "data": {
      "image/png": "[encoded data removed]",
      "text/plain": [
       "<IPython.core.display.Image object>"
      ]
     },
     "metadata": {},
     "output_type": "display_data"
    }
   ],
   "source": [
    "plot(x, ysol)\n",
    "hold on\n",
    "plot(a:h:b, y)\n",
    "legend('Analitik', 'RK4')"
   ]
  },
  {
   "cell_type": "markdown",
   "metadata": {},
   "source": [
    "### Predictor-Corrector Method"
   ]
  },
  {
   "cell_type": "markdown",
   "metadata": {},
   "source": [
    "#### Adam-Bashfort-Moulton"
   ]
  },
  {
   "cell_type": "code",
   "execution_count": 14,
   "metadata": {},
   "outputs": [],
   "source": [
    "% IVP\n",
    "t = a;\n",
    "y = zeros(1, interval+1);\n",
    "y(1) = 1;\n",
    "\n",
    "% Teknik untuk inisialisasi: Heun\n",
    "for i = 1:3\n",
    "    Z = y(i) + h * f(t, y(i));\n",
    "    t = t+h;\n",
    "    y(i+1) = y(i) + h/2 * (f(t-h, y(i)) + f(t, Z));\n",
    "end\n",
    "\n",
    "% Algoritma\n",
    "for i = 4:interval\n",
    "    P = y(i) + h/24 * (-  9*f(t-3*h, y(i-3)) ...\n",
    "                       + 37*f(t-2*h, y(i-2)) ...\n",
    "                       - 59*f(t  -h, y(i-1)) ...\n",
    "                       + 55*f(t    , y(i  ))  );\n",
    "\n",
    "    y(i+1) = y(i) + h/24 * (     f(t-2*h, y(i-2)) ...\n",
    "                            -  5*f(t-  h, y(i-1)) ...\n",
    "                            + 19*f(t    , y(i  )) ...\n",
    "                            +  9*f(t+  h, P     )  );\n",
    "\n",
    "\n",
    "    t = t+h;\n",
    "end"
   ]
  },
  {
   "cell_type": "code",
   "execution_count": 15,
   "metadata": {},
   "outputs": [
    {
     "data": {
      "image/png": "[encoded data removed]",
      "text/plain": [
       "<IPython.core.display.Image object>"
      ]
     },
     "metadata": {},
     "output_type": "display_data"
    }
   ],
   "source": [
    "plot(x, ysol)\n",
    "hold on\n",
    "plot(a:h:b, y)\n",
    "legend('Analitik', 'ABM')"
   ]
  },
  {
   "cell_type": "markdown",
   "metadata": {},
   "source": [
    "#### Milne-Simpson"
   ]
  },
  {
   "cell_type": "code",
   "execution_count": 16,
   "metadata": {},
   "outputs": [],
   "source": [
    "% IVP\n",
    "t = a;\n",
    "y = zeros(1, interval+1);\n",
    "y(1) = 1;\n",
    "\n",
    "% Teknik untuk inisialisasi: Heun\n",
    "for i = 1:3\n",
    "    Z = y(i) + h * f(t, y(i));\n",
    "    t = t+h;\n",
    "    y(i+1) = y(i) + h/2 * (f(t-h, y(i)) + f(t, Z));\n",
    "end\n",
    "\n",
    "\n",
    "% Algoritma\n",
    "for i = 4:interval\n",
    "    P = y(i-3) + 4*h/3 * (  2*f(t-2*h, y(i-2)) ...\n",
    "                          -   f(t-  h, y(i-1)) ...\n",
    "                          + 2*f(t    , y(i  ))  );\n",
    "\n",
    "    y(i+1) = y(i-1) + h/3 * (    f(t-  h, y(i-1)) ...\n",
    "                             + 4*f(t    , y(i  )) ...\n",
    "                             +   f(t+  h, P     )  );\n",
    "\n",
    "    t = t+h;\n",
    "end"
   ]
  },
  {
   "cell_type": "code",
   "execution_count": 17,
   "metadata": {},
   "outputs": [
    {
     "data": {
      "image/png": "[encoded data removed]",
      "text/plain": [
       "<IPython.core.display.Image object>"
      ]
     },
     "metadata": {},
     "output_type": "display_data"
    }
   ],
   "source": [
    "plot(x, ysol)\n",
    "hold on\n",
    "plot(a:h:b, y)\n",
    "legend('Analitik', 'MS')"
   ]
  },
  {
   "cell_type": "markdown",
   "metadata": {},
   "source": [
    "#### Hamming"
   ]
  },
  {
   "cell_type": "code",
   "execution_count": 18,
   "metadata": {},
   "outputs": [],
   "source": [
    "% IVP\n",
    "t = a;\n",
    "y = zeros(1, interval+1);\n",
    "y(1) = 1;\n",
    "\n",
    "% Teknik untuk inisialisasi: Heun\n",
    "for i = 1:3\n",
    "    Z = y(i) + h * f(t, y(i));\n",
    "    t = t+h;\n",
    "    y(i+1) = y(i) + h/2 * (f(t-h, y(i)) + f(t, Z));\n",
    "end\n",
    "\n",
    "\n",
    "% Algoritma\n",
    "for i = 4:interval\n",
    "    P = y(i-3) + 4*h/3 * (  2*f(t-2*h, y(i-2)) ...\n",
    "                          -   f(t-  h, y(i-1)) ...\n",
    "                          + 2*f(t    , y(i  ))  );\n",
    "\n",
    "    y(i+1) = (-y(i-2) + 9*y(i))/8 + 3*h/8 * (-   f(t-  h, y(i-1)) ...\n",
    "                                             + 2*f(t    , y(i  )) ...\n",
    "                                             +   f(t+  h, P     )  );\n",
    "\n",
    "    t = t+h;\n",
    "end"
   ]
  },
  {
   "cell_type": "code",
   "execution_count": 19,
   "metadata": {},
   "outputs": [
    {
     "data": {
      "image/png": "[encoded data removed]",
      "text/plain": [
       "<IPython.core.display.Image object>"
      ]
     },
     "metadata": {},
     "output_type": "display_data"
    }
   ],
   "source": [
    "plot(x, ysol)\n",
    "hold on\n",
    "plot(a:h:b, y)\n",
    "legend('Analitik', 'Hamming')"
   ]
  },
  {
   "cell_type": "markdown",
   "metadata": {},
   "source": [
    "### Sistem Persamaan Diferensial\n",
    "\n",
    "fungsi `dsolve` pada MATLAB juga dapat digunakan untuk menyelesaikan sistem ODE dalam beberapa variabel. Namun, jika hal ini tidak dapat dilakukan, MATLAB menyediakan [dokumentasi cara menyelesaikan sistem secara numerik](https://www.mathworks.com/help/symbolic/solve-differential-equation-numerically-1.html).\n",
    "\n",
    "Sekarang kita akan menyelesaikan sistem persamaan diferensial\n",
    "$$\n",
    "\\begin{align}\n",
    "\\frac{dx}{dt} &= x + 2y + 1 \\\\\n",
    "\\frac{dy}{dt} &= -x + y + t \\\\\n",
    "\\end{align}\n",
    "$$\n",
    "di selang $[0, 4]$, dengan kondisi awal $x(0)=2$ dan $y(0)=-1$.\n",
    "\n",
    "*fungsi* `dsolve` *juga dapat digunakan untuk menyelesaikan sistem dalam bentuk matriks, namun saya tidak membahas hal itu disini. (caranya mirip kok)*"
   ]
  },
  {
   "cell_type": "code",
   "execution_count": 20,
   "metadata": {
    "scrolled": false
   },
   "outputs": [],
   "source": [
    "% Definisikan fungsi simbolik\n",
    "syms x(t) y(t);\n",
    "\n",
    "% IVP\n",
    "ode1 = diff(x, t) ==  x + 2*y + 1;\n",
    "ode2 = diff(y, t) == -x +   y + t;\n",
    "odes = [ode1; ode2];\n",
    "\n",
    "cond1 = x(0) ==  2;\n",
    "cond2 = y(0) == -1;\n",
    "conds = [cond1; cond2];\n",
    "\n",
    "% simpan solusi sistem ke fungsi xsol(t) dan ysol(t)\n",
    "%% [xSol(t), ySol(t)] = dsolve(odes, conds);\n",
    "\n",
    "% plot solusi\n",
    "%% fplot(xSol, ySol, [0, 4])\n",
    "%% grid on\n",
    "\n",
    "% sayang, Octave di laptop saya ngga\n",
    "% support secara penuh kode MATLAB ini. :/\n",
    "% kalau mau coba di MATLAB, tinggal hilangkan '%%' aja kok :)"
   ]
  },
  {
   "cell_type": "markdown",
   "metadata": {},
   "source": [
    "Banyak metode yang kita bahas untuk solusi IVP dapat diperluas untuk menyelesaikan IVP dalam bentuk sistem persamaan. Kali ini kita akan membahas perluasan dari dua metode: Euler, dan Runge-Kutta. Untuk itu, kita akan menggunakan beberapa variabel dibawah ini dalam pembahasan kita selanjutnya."
   ]
  },
  {
   "cell_type": "code",
   "execution_count": 21,
   "metadata": {},
   "outputs": [],
   "source": [
    "% Inisialisasi\n",
    "a = 0;\n",
    "b = 4;\n",
    "h = 0.05;\n",
    "interval = ceil((b-a)/h);\n",
    "\n",
    "f = @(t, x, y)   x + 2*y + 1;\n",
    "g = @(t, x, y)  -x +   y + t;"
   ]
  },
  {
   "cell_type": "markdown",
   "metadata": {},
   "source": [
    "#### Euler"
   ]
  },
  {
   "cell_type": "code",
   "execution_count": 22,
   "metadata": {},
   "outputs": [],
   "source": [
    "x = zeros(1, interval+1);\n",
    "y = zeros(1, interval+1);\n",
    "\n",
    "% IVP\n",
    "t = a;\n",
    "x(1) = 1;\n",
    "y(1) = 1;\n",
    "\n",
    "% Algoritma\n",
    "for i = 1:interval\n",
    "    t = t + h;\n",
    "    x(i+1) = x(i) + h * f(t, x(i), y(i));\n",
    "    y(i+1) = y(i) + h * g(t, x(i), y(i));\n",
    "end"
   ]
  },
  {
   "cell_type": "code",
   "execution_count": 23,
   "metadata": {},
   "outputs": [
    {
     "data": {
      "image/png": "[encoded data removed]",
      "text/plain": [
       "<IPython.core.display.Image object>"
      ]
     },
     "metadata": {},
     "output_type": "display_data"
    }
   ],
   "source": [
    "plot(x, y)\n",
    "grid on"
   ]
  },
  {
   "cell_type": "markdown",
   "metadata": {},
   "source": [
    "#### Runge Kutta Orde 4"
   ]
  },
  {
   "cell_type": "code",
   "execution_count": 24,
   "metadata": {},
   "outputs": [],
   "source": [
    "x = zeros(1, interval+1);\n",
    "y = zeros(1, interval+1);\n",
    "\n",
    "% IVP\n",
    "t = a;\n",
    "x(1) = 1;\n",
    "y(1) = 1;\n",
    "\n",
    "% Program\n",
    "for i = 1:interval\n",
    "    K1 = h * f(t      , x(i)       , y(i)       );\n",
    "    L1 = h * g(t      , x(i)       , y(i)       );\n",
    "    \n",
    "    K2 = h * f(t + h/2, x(i) + K1/2, y(i) + L1/2);\n",
    "    L2 = h * g(t + h/2, x(i) + K1/2, y(i) + L1/2);\n",
    "    \n",
    "    K3 = h * f(t + h/2, x(i) + K2/2, y(i) + L2/2);\n",
    "    L3 = h * g(t + h/2, x(i) + K2/2, y(i) + L2/2);\n",
    "    \n",
    "    K4 = h * f(t + h  , x(i) + K3  , y(i) + L3  );\n",
    "    L4 = h * g(t + h  , x(i) + K3  , y(i) + L3  );\n",
    "  \n",
    "    x(i+1) = x(i) + (K1 + 2*K2 + 2*K3 + K4)/6;\n",
    "    y(i+1) = y(i) + (L1 + 2*L2 + 2*L3 + L4)/6;\n",
    "    t = t + h;\n",
    "end"
   ]
  },
  {
   "cell_type": "code",
   "execution_count": 25,
   "metadata": {},
   "outputs": [
    {
     "data": {
      "image/png": "[encoded data removed]",
      "text/plain": [
       "<IPython.core.display.Image object>"
      ]
     },
     "metadata": {},
     "output_type": "display_data"
    }
   ],
   "source": [
    "plot(x, y)\n",
    "grid on"
   ]
  },
  {
   "cell_type": "markdown",
   "metadata": {},
   "source": [
    "## Masalah Nilai Batas (Boundary Value Problem)"
   ]
  },
  {
   "cell_type": "markdown",
   "metadata": {},
   "source": [
    "Selesaikan\n",
    "$$y'' = -y + t$$\n",
    "pada selang $[0, 30]$, dengan $y(0)=0$ dan $y(10)=5$. Baca dokumentasinya MATLAB, tidak mengerti benar :/. Solusi analitik dari BVP diatas adalah"
   ]
  },
  {
   "cell_type": "code",
   "execution_count": 26,
   "metadata": {},
   "outputs": [
    {
     "data": {
      "image/png": "[encoded data removed]",
      "text/plain": [
       "<IPython.core.display.Image object>"
      ]
     },
     "metadata": {},
     "output_type": "display_data"
    }
   ],
   "source": [
    "xSol = @(t) t - (5*sin(t))/sin(10);\n",
    "\n",
    "time = linspace(0, 10);\n",
    "plot(time, xSol(time))"
   ]
  },
  {
   "cell_type": "markdown",
   "metadata": {},
   "source": [
    "#### Tebakan Linear"
   ]
  },
  {
   "cell_type": "code",
   "execution_count": null,
   "metadata": {},
   "outputs": [],
   "source": []
  },
  {
   "cell_type": "markdown",
   "metadata": {},
   "source": [
    "#### Beda Hingga"
   ]
  },
  {
   "cell_type": "markdown",
   "metadata": {},
   "source": [
    "Misalkan kita memiliki BVP $$x'' = p(t)x' + q(t)x + r(t)$$ di $a\\leq t \\leq b$ dengan fungsi $x$ bergantung pada $t$ dan memenuhi nilai batas $x(a) = \\alpha$ dan $x(b) = \\beta$\n",
    "\n",
    "Dengan menggunakan rumus beda pusat, kita dapat menghampiri diferensial dari fungsi $x(t)$, yakni\n",
    "$$x'(t) = \\frac{1}{2h} \\Big( x(t_{j+1} - x(t_{j-1}) \\Big) + O(h^2)$$\n",
    "dan\n",
    "$$x''(t) = \\frac{1}{h^2} \\Big( x(t_{j+1} - 2x(t_{j}) + x(t_{j-1}) \\Big) + O(h^2)$$\n",
    "\n",
    "Menyubstitusi hampiran ini ke solusi diferensial awal, menggunakan $p_j = p(t_j)$, $q_j = q(t_j)$, $r_j = r(t_j)$, dan menyusunnya ke dalam bentuk matriks (tridiagonal), kita dapatkan"
   ]
  },
  {
   "cell_type": "markdown",
   "metadata": {},
   "source": [
    "$$\n",
    "\\begin{bmatrix}\n",
    "2 + h^2q_1 && \\frac{h}{2}p_1 − 1 \\\\\n",
    "-\\frac{h}{2}p_2 − 1 && 2 + h^2q_2 && \\frac{h}{2}p_2 − 1\\\\\n",
    "&& \\ddots && \\ddots && \\ddots &&\\\\\n",
    "&& && -\\frac{h}{2}p_{n-2} − 1 && 2 + h^2q_{n-2} && \\frac{h}{2}p_{n-2} − 1\\\\\n",
    "&& && && -\\frac{h}{2}p_{n-1} − 1 && 2 + h^2q_{n-1}\\\\\n",
    "\\end{bmatrix}\n",
    "\\begin{bmatrix}\n",
    "x_1 \\\\\n",
    "x_2 \\\\\n",
    "\\vdots \\\\\n",
    "x_{n-2} \\\\\n",
    "x_{n-1} \\\\\n",
    "\\end{bmatrix}\n",
    "= -h^2 \n",
    "\\begin{bmatrix}\n",
    "r_1 \\\\\n",
    "r_2 \\\\\n",
    "\\vdots \\\\\n",
    "r_{n-2} \\\\\n",
    "r_{n-1} \\\\\n",
    "\\end{bmatrix}\n",
    "-\n",
    "\\begin{bmatrix}\n",
    "\\alpha \\Big( \\frac{h}{2}p_1 + 1 \\Big) \\\\\n",
    "0 \\\\\n",
    "\\vdots \\\\\n",
    "0 \\\\\n",
    "\\beta \\Big( \\frac{h}{2}p_{n-1} - 1 \\Big) \\\\\n",
    "\\end{bmatrix}\n",
    "$$\n"
   ]
  },
  {
   "cell_type": "markdown",
   "metadata": {},
   "source": [
    "atau secara lebih ringkas,"
   ]
  },
  {
   "cell_type": "markdown",
   "metadata": {},
   "source": [
    "$$\n",
    "\\begin{bmatrix}\n",
    "d_1 && e_1 \\\\\n",
    "c_2 && d_2 && e_2\\\\\n",
    "&& \\ddots && \\ddots && \\ddots &&\\\\\n",
    "&& && c_{n-2} && d_{n-2} && e_{n-2}\\\\\n",
    "&& && && c_{n-1} && d_{n-1}\\\\\n",
    "\\end{bmatrix}\n",
    "\\begin{bmatrix}\n",
    "x_1 \\\\\n",
    "x_2 \\\\\n",
    "\\vdots \\\\\n",
    "x_{n-2} \\\\\n",
    "x_{n-1} \\\\\n",
    "\\end{bmatrix}\n",
    "= \n",
    "\\begin{bmatrix}\n",
    "f_1 \\\\\n",
    "f_2 \\\\\n",
    "\\vdots \\\\\n",
    "f_{n-2} \\\\\n",
    "f_{n-1} \\\\\n",
    "\\end{bmatrix}\n",
    "-\n",
    "\\begin{bmatrix}\n",
    "\\alpha c_1 \\\\\n",
    "0 \\\\\n",
    "\\vdots \\\\\n",
    "0 \\\\\n",
    "\\beta c_{n-1} \\\\\n",
    "\\end{bmatrix}\n",
    "$$\n"
   ]
  },
  {
   "cell_type": "markdown",
   "metadata": {},
   "source": [
    "dengan\n",
    "$$\n",
    "\\begin{align}\n",
    "c_j &= -1 - \\frac{1}{2}hp_j\\\\\n",
    "d_j &= 2 + h^2q_j\\\\\n",
    "e_j &= -1 + \\frac{1}{2}hp_j\\\\\n",
    "f_j &= - h^2r_j\\\\\n",
    "\\end{align}\n",
    "$$\n",
    "\n",
    "Hal ini dapat diselesaikan dengan menggunakan teknik penyelesaian matriks. Pada kasus kita, permasalahan BVP dapat kita inisialisasikan ke dalam bentuk berikut"
   ]
  },
  {
   "cell_type": "code",
   "execution_count": 27,
   "metadata": {},
   "outputs": [],
   "source": [
    "% Inisialisasi interval\n",
    "interval = 50;\n",
    "\n",
    "a = 0;\n",
    "b = 10;\n",
    "h = (b-a)/interval;\n",
    "\n",
    "% persamaan differensial setara dengan y'' = -y + t\n",
    "% bentuk fungsi p(t), q(t), dan r(t)\n",
    "p = @(t) 0;\n",
    "q = @(t) -1;\n",
    "r = @(t) t;\n",
    "\n",
    "% kondisi batas\n",
    "alpha = 0;\n",
    "beta  = 5;\n",
    "\n",
    "% untuk mengurangi clutter rumus\n",
    "c = @(idx) -(1 + 0.5*h*p(a + h*idx));\n",
    "d = @(idx)   2 + h^2  *q(a + h*idx);\n",
    "e = @(idx) - 1 + 0.5*h*p(a + h*idx);\n",
    "f = @(idx)     - h^2  *r(a + h*idx);"
   ]
  },
  {
   "cell_type": "code",
   "execution_count": 28,
   "metadata": {},
   "outputs": [],
   "source": [
    "% Matriks.\n",
    "% Solusi dari permasalahan ini dapat dilakukan oleh metode\n",
    "% numerik yang diperkenalkan di Bab 2. Namun, kali ini kita\n",
    "% hanya akan berfokus pada metode BVP ini saja.\n",
    "\n",
    "A = zeros(interval-1);\n",
    "B = zeros(interval-1, 1);\n",
    "\n",
    "for idx = 1:(interval-2)\n",
    "    A(idx, idx)   = d(idx);\n",
    "    A(idx, idx+1) = e(idx);    \n",
    "    A(idx+1, idx) = c(idx+1);\n",
    "    B(idx)        = f(idx);\n",
    "end\n",
    "\n",
    "idx = idx+1;\n",
    "A(idx, idx) =  d(idx);\n",
    "B(idx)      =  f(idx);\n",
    "\n",
    "% Boundary condition\n",
    "B(1)   = B(1)   - alpha * c(1);\n",
    "B(idx) = B(idx) - beta  * c(idx);\n",
    "\n",
    "% Mencari solusi dari AX = B\n",
    "X = A\\B;\n",
    "X = [alpha; X; beta];"
   ]
  },
  {
   "cell_type": "code",
   "execution_count": 29,
   "metadata": {},
   "outputs": [
    {
     "data": {
      "image/png": "[encoded data removed]",
      "text/plain": [
       "<IPython.core.display.Image object>"
      ]
     },
     "metadata": {},
     "output_type": "display_data"
    }
   ],
   "source": [
    "time = a:h:b;\n",
    "\n",
    "plot(time, X)\n",
    "hold on\n",
    "plot(time, xSol(time))\n",
    "grid on\n",
    "legend ('X', 'Analitik')"
   ]
  },
  {
   "cell_type": "markdown",
   "metadata": {},
   "source": [
    "## Bacaan Lain"
   ]
  },
  {
   "cell_type": "markdown",
   "metadata": {},
   "source": [
    "* [Numerical Methods for Differential](http://faculty.olin.edu/bstorey/Notes/DiffEq.pdf)\n",
    "* [Numerical Methods for Two–Point Boundary Value\n",
    "Problems](https://pdfs.semanticscholar.org/74dd/cf24180279a6a78d8ffa95bcbb23567af51a.pdf)\n",
    "* [Modules for Numerical Analysis](http://mathfaculty.fullerton.edu/mathews/n2003/NumericalUndergradMod.html)"
   ]
  }
 ],
 "metadata": {
  "kernelspec": {
   "display_name": "Octave",
   "language": "octave",
   "name": "octave"
  },
  "language_info": {
   "file_extension": ".m",
   "help_links": [
    {
     "text": "GNU Octave",
     "url": "https://www.gnu.org/software/octave/support.html"
    },
    {
     "text": "Octave Kernel",
     "url": "https://github.com/Calysto/octave_kernel"
    },
    {
     "text": "MetaKernel Magics",
     "url": "https://metakernel.readthedocs.io/en/latest/source/README.html"
    }
   ],
   "mimetype": "text/x-octave",
   "name": "octave",
   "version": "4.2.2"
  }
 },
 "nbformat": 4,
 "nbformat_minor": 2
}
