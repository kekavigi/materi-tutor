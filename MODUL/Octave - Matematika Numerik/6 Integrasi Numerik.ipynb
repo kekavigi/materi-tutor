{
 "cells": [
  {
   "cell_type": "markdown",
   "metadata": {},
   "source": [
    "Feedback dari anda diperlukan! bantu kami dalam [meningkatkan modul ini](https://forms.gle/pWJd6y4hY4KWMcno6)."
   ]
  },
  {
   "cell_type": "markdown",
   "metadata": {},
   "source": [
    "# Integrasi Numerik"
   ]
  },
  {
   "cell_type": "markdown",
   "metadata": {},
   "source": [
    "Sebelumnya, metode diferensiasi numerik digunakan untuk memperkirakan turunan suatu fungsi dari titik-titik nilai fungsi yang diketahui. Pada bagian ini, integrasi numerik menggunakan informasi yang sama untuk menghitung perkiraan numerik ke integral fungsi. Penggunaan penting dari kedua jenis metode ini adalah estimasi derivatif dan integral untuk fungsi yang hanya diketahui pada titik-titik yang terisolasi, seperti halnya dengan misalnya data pengukuran. Perbedaan penting antara diferensiasi dan integrasi adalah sebagian besar fungsi sukar (malahan seringkali tidak mungkin) untuk menentukan integral tak tentu melalui metode simbolik, tetapi kita masih dapat menghitung perkiraan numerik untuk hampir semua integral tentu.\n",
    "\n",
    "Metode integrasi numerik karenanya lebih berguna daripada metode diferensiasi numerik, dan sangat penting dalam banyak situasi praktis. Kita akan menggunakan strategi umum yang sama untuk memperoleh metode integrasi numerik seperti yang dilakukan untuk metode diferensiasi numerik: pertama kita mencari polinom yang menginterpolasi fungsi pada beberapa titik yang sesuai, dan menggunakan integral dari polinomial tersebut sebagai perkiraan untuk fungsi. Ini berarti bahwa galat pemotongan pada dasarnya dapat dianalisa dengan cara yang sama seperti untuk diferensiasi numerik. Namun, ketika datang ke kesalahan pembulatan, metode integrasi berperilaku berbeda dari diferensiasi: Integrasi numerik tidak sensitif terhadap kesalahan pembulatan, yang selanjutnya dapat diabaikan dalam analisis. [[1]](https://www.uio.no/studier/emner/matnat/math/MAT-INF1100/h10/kompendiet/kap12.pdf)"
   ]
  },
  {
   "cell_type": "markdown",
   "metadata": {},
   "source": [
    "## Alasan integrasi numerik\n",
    "\n",
    "Ada beberapa alasan untuk melakukan integrasi numerik.\n",
    "\n",
    "* Integrand $f(x)$ hanya dapat diketahui pada titik-titik tertentu, seperti yang diperoleh dengan sampling. Beberapa sistem tertanam dan aplikasi komputer lainnya mungkin memerlukan integrasi numerik untuk alasan ini.\n",
    "* Rumus untuk integrand mungkin diketahui, tetapi mungkin sulit atau tidak mungkin untuk menemukan antiderivatif yang merupakan fungsi elementer. Contoh dari integand tersebut adalah $f(x) = exp(−x^2)$, yang antiderivatifnya tidak dapat ditulis dalam bentuk elementer.\n",
    "* Dimungkinkan untuk menemukan antiderivatif secara simbolis, tetapi mungkin lebih mudah untuk menghitung perkiraan numerik daripada menghitung antiderivatif. Itu mungkin terjadi jika antiderivatif diberikan sebagai rangkaian atau produk tanpa batas, atau jika evaluasinya memerlukan fungsi khusus yang tidak tersedia."
   ]
  },
  {
   "cell_type": "code",
   "execution_count": 3,
   "metadata": {},
   "outputs": [
    {
     "data": {
      "image/png": "[encoded data removed]",
      "text/plain": [
       "<IPython.core.display.Image object>"
      ]
     },
     "metadata": {},
     "output_type": "display_data"
    }
   ],
   "source": [
    "format long\n",
    "\n",
    "f = @(x) sin(x).*x.^(1.45) - x.^(1.5) + x;\n",
    "ezplot(f, [1,10])\n",
    "title('Fungsi')"
   ]
  },
  {
   "cell_type": "markdown",
   "metadata": {},
   "source": [
    "## Metode Newton Cotes"
   ]
  },
  {
   "cell_type": "markdown",
   "metadata": {},
   "source": [
    "### Metode Trapesium"
   ]
  },
  {
   "cell_type": "code",
   "execution_count": 4,
   "metadata": {},
   "outputs": [],
   "source": [
    "function I = integral_trapesium(f, a, b, n)\n",
    "    h = (b-a)/n;\n",
    "    I = 0;\n",
    "    for j = 0:n-1\n",
    "        I = I + f(a + j*h) + f(a + (j+1)*h);\n",
    "    end\n",
    "    I = I*h/2;\n",
    "end"
   ]
  },
  {
   "cell_type": "code",
   "execution_count": 5,
   "metadata": {},
   "outputs": [],
   "source": [
    "N = 15;\n",
    "result = zeros(N);\n",
    "for i = 1:N\n",
    "    result(i) = integral_trapesium(f, 1, 10, 2^i);\n",
    "end"
   ]
  },
  {
   "cell_type": "code",
   "execution_count": 6,
   "metadata": {},
   "outputs": [
    {
     "data": {
      "image/png": "[encoded data removed]",
      "text/plain": [
       "<IPython.core.display.Image object>"
      ]
     },
     "metadata": {},
     "output_type": "display_data"
    }
   ],
   "source": [
    "err = abs((result(2:N) - result(1:N-1))./result(2:N));\n",
    "plot(2:N, err)"
   ]
  },
  {
   "cell_type": "code",
   "execution_count": 7,
   "metadata": {},
   "outputs": [
    {
     "name": "stdout",
     "output_type": "stream",
     "text": [
      "   1.03207657446856e-08\r\n",
      "  -5.64188830985935e+01\r\n"
     ]
    }
   ],
   "source": [
    "disp([err(N-1); result(N-1)])"
   ]
  },
  {
   "cell_type": "markdown",
   "metadata": {},
   "source": [
    "### Metode Trapesium Rekursif"
   ]
  },
  {
   "cell_type": "code",
   "execution_count": 8,
   "metadata": {},
   "outputs": [],
   "source": [
    "function I = integral_trapesium_rekursif(f, a, b, eps)\n",
    "    maxiter = 50;\n",
    "    h = b-a;\n",
    "    I = (f(a)+f(b))*h/2;\n",
    "    n = 1;\n",
    "    \n",
    "    for iteration = 1:maxiter\n",
    "        n = n*2;\n",
    "        h = h/2;\n",
    "        \n",
    "        tot = 0;\n",
    "        for i=1:n/2\n",
    "            tot = tot + f(a + (2*i-1)*h);\n",
    "        end\n",
    "        \n",
    "        T = I/2 + h*tot;\n",
    "        if abs((T-I)/T) < eps\n",
    "            I = T;\n",
    "            break\n",
    "        end\n",
    "        I = T;\n",
    "    end\n",
    "    \n",
    "    iteration\n",
    "end"
   ]
  },
  {
   "cell_type": "code",
   "execution_count": 9,
   "metadata": {},
   "outputs": [
    {
     "name": "stdout",
     "output_type": "stream",
     "text": [
      "iteration =  7\r\n",
      "ans = -56.4316036835012\r\n"
     ]
    }
   ],
   "source": [
    "integral_trapesium_rekursif(f, 1, 10, 10^-3)"
   ]
  },
  {
   "cell_type": "markdown",
   "metadata": {},
   "source": [
    "### Metode Simpson"
   ]
  },
  {
   "cell_type": "code",
   "execution_count": 10,
   "metadata": {},
   "outputs": [],
   "source": [
    "function I = integral_simpson13(f, a, b, n)\n",
    "    % n : kelipatan tiga\n",
    "    h = (b-a)/n;\n",
    "    I = 0;\n",
    "    for j = 0:2:n-2\n",
    "        I = I + f(a + j*h) + 4*f(a + (j+1)*h) + f(a + (j+2)*h);\n",
    "    end\n",
    "    I = I*h/3;\n",
    "end"
   ]
  },
  {
   "cell_type": "code",
   "execution_count": 11,
   "metadata": {},
   "outputs": [],
   "source": [
    "N = 15;\n",
    "result = zeros(N);\n",
    "for i = 1:N\n",
    "    result(i) = integral_simpson13(f, 1, 10, 2^i + mod(i+1, 2) + 1);\n",
    "end"
   ]
  },
  {
   "cell_type": "code",
   "execution_count": 12,
   "metadata": {
    "scrolled": false
   },
   "outputs": [
    {
     "data": {
      "image/png": "[encoded data removed]",
      "text/plain": [
       "<IPython.core.display.Image object>"
      ]
     },
     "metadata": {},
     "output_type": "display_data"
    }
   ],
   "source": [
    "err = abs((result(2:N) - result(1:N-1))./result(1:N-1));\n",
    "plot(2:N, err)"
   ]
  },
  {
   "cell_type": "code",
   "execution_count": 13,
   "metadata": {
    "scrolled": true
   },
   "outputs": [
    {
     "name": "stdout",
     "output_type": "stream",
     "text": [
      "   1.79880736100276e-04\r\n",
      "  -5.64188823222119e+01\r\n"
     ]
    }
   ],
   "source": [
    "disp([err(N-1); result(N-1)])"
   ]
  },
  {
   "cell_type": "code",
   "execution_count": 14,
   "metadata": {},
   "outputs": [],
   "source": [
    "function I = integral_simpson38(f, a, b, n)\n",
    "    % n : kelipatan empat\n",
    "    h = (b-a)/n;\n",
    "    I = 0;\n",
    "    for j = 0:3:n-3\n",
    "        I = I + f(a + j*h) + 3*(f(a + (j+1)*h) + f(a + (j+2)*h)) + f(a + (j+3)*h);\n",
    "    end\n",
    "    I = I*3*h/8;\n",
    "end"
   ]
  },
  {
   "cell_type": "code",
   "execution_count": 15,
   "metadata": {
    "scrolled": true
   },
   "outputs": [],
   "source": [
    "N = 15;\n",
    "result = zeros(N);\n",
    "for i = 2:N\n",
    "    result(i) = integral_simpson38(f, 1, 10, 2^i);\n",
    "end"
   ]
  },
  {
   "cell_type": "code",
   "execution_count": 16,
   "metadata": {},
   "outputs": [
    {
     "data": {
      "image/png": "[encoded data removed]",
      "text/plain": [
       "<IPython.core.display.Image object>"
      ]
     },
     "metadata": {},
     "output_type": "display_data"
    }
   ],
   "source": [
    "err = abs((result(2:N) - result(1:N-1))./result(1:N-1));\n",
    "plot(2:N, err)"
   ]
  },
  {
   "cell_type": "code",
   "execution_count": 17,
   "metadata": {},
   "outputs": [
    {
     "name": "stdout",
     "output_type": "stream",
     "text": [
      "   2.26774641270533e-15\r\n",
      "  -5.63985865969208e+01\r\n"
     ]
    }
   ],
   "source": [
    "disp([err(N-1); result(N-1)])"
   ]
  },
  {
   "cell_type": "markdown",
   "metadata": {},
   "source": [
    "### Metode Simpson Rekursif"
   ]
  },
  {
   "cell_type": "code",
   "execution_count": 18,
   "metadata": {},
   "outputs": [],
   "source": [
    "function I = integral_simpson_rekursif(f, a, b, eps)\n",
    "    maxiter = 50;\n",
    "    n = 2;\n",
    "    h = (b-a)/2;\n",
    "    \n",
    "    T0 = (f(a) + f(b))*h;            % Trapesium pertama\n",
    "    T1 = T0/2 + f( (a+b)/2 )*h;      % Trapesium kedua\n",
    "    I  = (4*T1 - T0)/3;              % Simpson pertama\n",
    "    \n",
    "    for iteration = 1:maxiter\n",
    "        % Trapesium selanjutnya\n",
    "        n = n*2;\n",
    "        h = h/2;\n",
    "        \n",
    "        tot = 0;\n",
    "        for i=1:n/2\n",
    "            tot = tot + f(a + (2*i-1)*h);\n",
    "        end\n",
    "        \n",
    "        T0 = T1;\n",
    "        T1 = T0/2 + h*tot;\n",
    "        \n",
    "        % Simpson kedua\n",
    "        S = (4*T1 - T0)/3;\n",
    "        \n",
    "        % Update nilai integral\n",
    "        if abs((S-I)/S) < eps\n",
    "            I = S;\n",
    "            break\n",
    "        end\n",
    "        I = S;\n",
    "    end\n",
    "    \n",
    "    iteration\n",
    "end"
   ]
  },
  {
   "cell_type": "code",
   "execution_count": 19,
   "metadata": {},
   "outputs": [
    {
     "name": "stdout",
     "output_type": "stream",
     "text": [
      "iteration =  4\r\n",
      "ans = -56.4177236817051\r\n"
     ]
    }
   ],
   "source": [
    "integral_simpson_rekursif(f, 1, 10, 10^-3)"
   ]
  },
  {
   "cell_type": "markdown",
   "metadata": {},
   "source": [
    "### Metode Boole"
   ]
  },
  {
   "cell_type": "code",
   "execution_count": null,
   "metadata": {},
   "outputs": [],
   "source": [
    "% O.K."
   ]
  },
  {
   "cell_type": "markdown",
   "metadata": {},
   "source": [
    "### Metode Romberg"
   ]
  },
  {
   "cell_type": "code",
   "execution_count": 20,
   "metadata": {},
   "outputs": [],
   "source": [
    "function I = integral_romberg(f, a, b, eps, maxiter)\n",
    "    h = b-a;\n",
    "    n = 1;\n",
    "    \n",
    "    R = zeros(maxiter, maxiter);    \n",
    "    R(1, 1) = (f(a) + f(b))*h/2;\n",
    "    \n",
    "    for j = 2:maxiter\n",
    "    \n",
    "        % Trapesium selanjutnya\n",
    "        n = n*2;\n",
    "        h = h/2;\n",
    "        \n",
    "        tot = 0;\n",
    "        for i = 1:n/2\n",
    "            tot = tot + f(a + (2*i-1)*h);\n",
    "        end\n",
    "        \n",
    "        R(j,1) = R(j-1, 1)/2 + h*tot;\n",
    "        \n",
    "        % Romberg\n",
    "        for k = 2:j\n",
    "            R(j, k) = (4^k * R(j, k-1) - R(j-1, k-1))/(4^k-1);\n",
    "        end\n",
    "        \n",
    "        err = abs((R(j, j) - R(j-1, j-1))/R(j, j));\n",
    "        if err < eps\n",
    "            break\n",
    "        end\n",
    "        \n",
    "    end\n",
    "    \n",
    "    I = R(j, j);\n",
    "    iteration = j\n",
    "end"
   ]
  },
  {
   "cell_type": "code",
   "execution_count": 21,
   "metadata": {},
   "outputs": [
    {
     "name": "stdout",
     "output_type": "stream",
     "text": [
      "iteration =  10\r\n",
      "ans = -56.4194785841634\r\n"
     ]
    }
   ],
   "source": [
    "integral_romberg(f, 1, 10, 10^-4, 15)"
   ]
  },
  {
   "cell_type": "markdown",
   "metadata": {},
   "source": [
    "### Metode Gauss-Legendre"
   ]
  },
  {
   "cell_type": "markdown",
   "metadata": {},
   "source": [
    "https://rosettacode.org/wiki/Numerical_integration/Gauss-Legendre_Quadrature#Python"
   ]
  },
  {
   "cell_type": "markdown",
   "metadata": {},
   "source": [
    "## Metode Adaptif"
   ]
  },
  {
   "cell_type": "markdown",
   "metadata": {},
   "source": [
    "https://en.wikipedia.org/wiki/Adaptive_quadrature"
   ]
  },
  {
   "cell_type": "markdown",
   "metadata": {},
   "source": [
    "# Tambahan"
   ]
  },
  {
   "cell_type": "markdown",
   "metadata": {},
   "source": [
    "* https://www.mathworks.com/matlabcentral/answers/439985-shade-area-under-curve-between-two-x-values\n",
    "* https://www.mathworks.com/help/matlab/ref/area.html"
   ]
  }
 ],
 "metadata": {
  "kernelspec": {
   "display_name": "Octave",
   "language": "octave",
   "name": "octave"
  },
  "language_info": {
   "file_extension": ".m",
   "help_links": [
    {
     "text": "GNU Octave",
     "url": "https://www.gnu.org/software/octave/support.html"
    },
    {
     "text": "Octave Kernel",
     "url": "https://github.com/Calysto/octave_kernel"
    },
    {
     "text": "MetaKernel Magics",
     "url": "https://metakernel.readthedocs.io/en/latest/source/README.html"
    }
   ],
   "mimetype": "text/x-octave",
   "name": "octave",
   "version": "4.2.2"
  }
 },
 "nbformat": 4,
 "nbformat_minor": 2
}
