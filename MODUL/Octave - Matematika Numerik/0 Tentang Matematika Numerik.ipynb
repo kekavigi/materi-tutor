{
 "cells": [
  {
   "cell_type": "markdown",
   "metadata": {},
   "source": [
    "# Tentang Matematika Numerik"
   ]
  },
  {
   "cell_type": "markdown",
   "metadata": {},
   "source": [
    "## Tinjauan"
   ]
  },
  {
   "cell_type": "markdown",
   "metadata": {},
   "source": [
    "### Pembuka\n",
    "\n",
    "Modul ini bertujuan untuk membantu anda memahami metode-metode yang dipakai untuk menyelesaikan permasalahan-permasalahan dengan menggunakan bantuan komputer. Sejenak dipikir, materi ini sebenarnya mencakup banyak sekali hal. Saat ini, modul ini dikhususkan untuk mempelajari permasalahan yang sering muncul dalam sains, teknik, dan teknologi. *Dengan kata lain, kita tidak berfokus untuk membahas tentang machine learning, social science, dan sebagainya, di modul ini.*\n",
    "\n",
    "Hal lain yang perlu disampaikan, penjelasan tentang metode-metode dalam modul ini, tidak diawali dengan asal-usul permasalahan yang mendasarinya. Permasalahan yang muncul pada bab-bab selanjutnya, sudah disederhanakan dan dinyatakan secara matematis.\n",
    "\n",
    "Di satu sisi hal ini merugikan, karena tidak ada contoh \"permasalahan nyata\" yang memotivasi untuk mempelajari \"mengapa metode ini penting?\". Anda \"seperti diminta\" untuk percaya bahwa metode-metode yang muncul dalam modul ini, memang penting dalam komputasi numerik.\n",
    "\n",
    "Namun di sisi lain, hal ini ada untungnya. Ketika menemui suatu permasalahan, anda bisa mendapatkan gambaran umum [dengan cepat] tentang metode apa saja yang *feasible* untuk menyelesaikannya. Anda dapat membandingkan mana metode yang lebih baik untuk situasi anda: apakah saya perlu metode yang cepat? metode yang akurat? metode yang memerlukan sedikit memori? atau metode yang mudah dan cepat saya ketik?\n",
    "Diharapkan pula, dengan penyampaian materi seperti ini bisa menjadi fondasi dalam melanjutkan studi *kalau anda mau ke arah sana sih*.\n",
    "\n",
    "Perlu diingat dalam permasalahan nyata (yang benar-benar nyata), anda perlu pemikiran yang lebih dalam tentang metode yang akan diterapkan. Walau metode-metode di modul ini bagus dan berguna, mungkin saja tidak memberikan hasil optimum untuk permasalahan nyata yang anda hadapi. Harap konsultasi ke paper-paper atau orang pintar."
   ]
  },
  {
   "cell_type": "markdown",
   "metadata": {},
   "source": [
    "### Waspada\n",
    "\n",
    "Hasil komputasi oleh metode numerik [hampir pasti] mengandung galat. Karena kita tidak mau hasil yang salah dalam menerapkan metode numerik, penting untuk mengetahui hal-hal seperti: dari mana galat itu berasal? bagaimana galat itu menjalar? seberapa besar galat itu? seberapa cepat dia tumbuh? Karena hal itu pula, metode numerik yang juga memberikan informasi tentang galat (selain tentu saja hasil komputasi) lebih disenangi daripada metode yang tidak. Diharapkan setelah menamatkan modul ini, anda memiliki sense waspada seperti ini, dalam menerapkan metode numerik ;)"
   ]
  },
  {
   "cell_type": "markdown",
   "metadata": {},
   "source": [
    "### Prasyarat dan Lain-lain\n",
    "\n",
    "Pengetahuan dasar tentang pemrograman sudah cukup untuk memahami modul ini. Karena modul ini mengimplementasikan metode-metode numerik dalam bahasa pemrograman MATLAB/Octave, memiliki pengetahuan dasar tentang bahasa ini menguntungkan ;)"
   ]
  },
  {
   "cell_type": "code",
   "execution_count": null,
   "metadata": {},
   "outputs": [],
   "source": []
  }
 ],
 "metadata": {
  "kernelspec": {
   "display_name": "Octave",
   "language": "octave",
   "name": "octave"
  },
  "language_info": {
   "file_extension": ".m",
   "help_links": [
    {
     "text": "GNU Octave",
     "url": "https://www.gnu.org/software/octave/support.html"
    },
    {
     "text": "Octave Kernel",
     "url": "https://github.com/Calysto/octave_kernel"
    },
    {
     "text": "MetaKernel Magics",
     "url": "https://metakernel.readthedocs.io/en/latest/source/README.html"
    }
   ],
   "mimetype": "text/x-octave",
   "name": "octave",
   "version": "5.2.0"
  },
  "toc": {
   "base_numbering": 1,
   "nav_menu": {},
   "number_sections": true,
   "sideBar": true,
   "skip_h1_title": true,
   "title_cell": "Daftar Isi",
   "title_sidebar": "Contents",
   "toc_cell": false,
   "toc_position": {},
   "toc_section_display": true,
   "toc_window_display": true
  }
 },
 "nbformat": 4,
 "nbformat_minor": 4
}
