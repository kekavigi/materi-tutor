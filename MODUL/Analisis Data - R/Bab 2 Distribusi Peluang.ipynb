{
 "cells": [
  {
   "cell_type": "markdown",
   "metadata": {},
   "source": [
    "Feedback dari anda diperlukan! bantu kami dalam [meningkatkan modul ini](https://forms.gle/pWJd6y4hY4KWMcno6)."
   ]
  },
  {
   "cell_type": "code",
   "execution_count": 4,
   "metadata": {},
   "outputs": [],
   "source": [
    "# untuk keperluan notebook ini\n",
    "# agar plotnya ngga kegedean\n",
    "library(repr)\n",
    "options(repr.plot.width=4, repr.plot.height=4)"
   ]
  },
  {
   "cell_type": "markdown",
   "metadata": {},
   "source": [
    "# Distribusi Peluang\n",
    "\n",
    "Well, dalam ngelakukan suatu **percobaan statistika**, sebisa mungkin kita melakukannya sebaik mungkin agar tidak menimbulkan bias (which is very bad, jika kamu ingin mengambil kesimpulan dari data percobaan tersebut). Percobaan statistika yang baik punya sifat acak, yakni jika:\n",
    "* percobaan tersebut dapat diamati/diukur\n",
    "* hasil percobaan yang terjadi tidak dapat diperkiraan sebelumnya, akibat *error*\n",
    "* namun proporsi hasil percobaan dapat diketahui dari hasil-hasil sebelumnya\n",
    "* semua hasil yang mungkin dapat tulis dalam suatu ruang sampel\n",
    "* dan percobaan tersebut dapat direplikasi oleh pengamat lain\n",
    "\n",
    "**ruang sampel** adalah himpuana seluruh hasil yang mungkin muncul dalam suatu percobaan statistika, dan dibagi menjadi **diskrit** dan **kontinu**. {someone tolong jelaskan, malas ngetik}\n",
    "\n",
    "{ruang sampel... shit, kalau niat ngetik ini bisa jadi buku bagus euy!}\n",
    "{peubah acak... tapi malas.}\n",
    "\n",
    "{distribusi-distribusi}\n",
    "\n",
    "tapi, bagaimana jika kita lagi mager ngelakukan percobaan (terlalu memakan waktu, makan biaya, dkk), tapi kita memerlukan data percobaan statistik untuk diuji (atau dibandingkan dengan sesuatu)? cara termudahnya, adalah dengan membangkitkan (whoa) data yang menirukan distribusi percobaan statistik kita."
   ]
  },
  {
   "cell_type": "markdown",
   "metadata": {},
   "source": [
    "anggap X adalah pengganti kata 'binom', 'pois', 'norm', 'exp'... maka\n",
    "* pX : probability X, dist kumulatif X\n",
    "* dX : density X, kepadatan peluang\n",
    "* qX : quantile X, fungsi invers\n",
    "* rX : random X, pembangkit random berdist X"
   ]
  },
  {
   "cell_type": "code",
   "execution_count": 5,
   "metadata": {},
   "outputs": [
    {
     "data": {
      "text/plain": [
       "   Min. 1st Qu.  Median    Mean 3rd Qu.    Max. \n",
       "   84.0   113.0   120.0   120.3   127.0   159.0 "
      ]
     },
     "metadata": {},
     "output_type": "display_data"
    },
    {
     "data": {
      "image/png": "[encoded data removed]",
      "text/plain": [
       "Plot with title \"Scatterplot Data\""
      ]
     },
     "metadata": {},
     "output_type": "display_data"
    },
    {
     "data": {
      "image/png": "[encoded data removed]",
      "text/plain": [
       "Plot with title \"Plot Densitas Data\""
      ]
     },
     "metadata": {},
     "output_type": "display_data"
    }
   ],
   "source": [
    "# dot plot 10000 data yang dibangkitkan sesuai dist binom dengan n=1000 dan p=0.12\n",
    "randomdata = rbinom(10000, 1000, 0.12)\n",
    "summary(randomdata)\n",
    "\n",
    "plot(randomdata, main = \"Scatterplot Data\")\n",
    "plot(density(randomdata), main = \"Plot Densitas Data\")"
   ]
  },
  {
   "cell_type": "markdown",
   "metadata": {},
   "source": [
    "seharusnya bahas aproksimasi juga...\n",
    "but oh f*** besok ujian euy :("
   ]
  }
 ],
 "metadata": {
  "kernelspec": {
   "display_name": "R",
   "language": "R",
   "name": "ir"
  },
  "language_info": {
   "codemirror_mode": "r",
   "file_extension": ".r",
   "mimetype": "text/x-r-source",
   "name": "R",
   "pygments_lexer": "r",
   "version": "3.3.1"
  }
 },
 "nbformat": 4,
 "nbformat_minor": 2
}
