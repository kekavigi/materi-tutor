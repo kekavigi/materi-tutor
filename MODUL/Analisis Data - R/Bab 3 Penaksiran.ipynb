{
 "cells": [
  {
   "cell_type": "markdown",
   "metadata": {},
   "source": [
    "Feedback dari anda diperlukan! bantu kami dalam [meningkatkan modul ini](https://forms.gle/pWJd6y4hY4KWMcno6)."
   ]
  },
  {
   "cell_type": "markdown",
   "metadata": {},
   "source": [
    "# Penaksiran\n",
    "Sekarang, kamu punya data percobaan statistika, dan kamu ingin memperkiraan parameter di populasi lewat parameter di sampel... how can?\n",
    "\n",
    "{enter slide bu Utri}"
   ]
  },
  {
   "cell_type": "code",
   "execution_count": 1,
   "metadata": {},
   "outputs": [
    {
     "ename": "ERROR",
     "evalue": "Error in mean(dataX): object 'dataX' not found\n",
     "output_type": "error",
     "traceback": [
      "Error in mean(dataX): object 'dataX' not found\nTraceback:\n",
      "1. mean(dataX)"
     ]
    }
   ],
   "source": [
    "## Penaksiran selang secara manual. ingat mpg dan wt-nya dataset mtcars?\n",
    "xbar = mean(dataX)\n",
    "n = length(dataX)\n",
    "sigma = sd(dataX)\n",
    "alpha = 0.05\n",
    "\n",
    "z.alpha = qnorm(1-alpha/2)  # hitung Z tabel\n",
    "sem = sigma/sqrt(n)         # Standard Error of the Mean\n",
    "E = z.alpha * sem           # error?\n",
    "\n",
    "# buat interval\n",
    "lower = xbar - E\n",
    "upper = xbar + E\n",
    "\n",
    "#okay, untuk kepercayaan 100(1-a)% kita yakin mean populasi berada diantara\n",
    "lower\n",
    "upper"
   ]
  },
  {
   "cell_type": "markdown",
   "metadata": {},
   "source": [
    "but oh well, saya pun ngga bisa cara dasar tanpa tabel..., enter library TeachingDemos, yang meringankan penderitaan kita"
   ]
  },
  {
   "cell_type": "code",
   "execution_count": 3,
   "metadata": {},
   "outputs": [
    {
     "name": "stderr",
     "output_type": "stream",
     "text": [
      "Warning message:\n",
      "\"package 'TeachingDemos' was built under R version 3.3.3\""
     ]
    },
    {
     "ename": "ERROR",
     "evalue": "Error in mean(x): object 'dataX' not found\n",
     "output_type": "error",
     "traceback": [
      "Error in mean(x): object 'dataX' not found\nTraceback:\n",
      "1. z.test(dataX, sd = sigma)",
      "2. mean(x)   # at line 10 of file D:/temp/RtmpOwm9ja/R.INSTALL26d47eab2b12/TeachingDemos/R/z.test.R"
     ]
    }
   ],
   "source": [
    "library(TeachingDemos)\n",
    "\n",
    "# contoh untuk masalah yang sama, namun sekarang kita menaksir\n",
    "# mean populasi dengan fungsi z.test\n",
    "z.test(dataX, sd=sigma)\n",
    "\n",
    "# jika kita ngga tau standar deviasi populasi, which is hampir selalu\n",
    "t.test(dataX)\n",
    "\n",
    "# untuk dua populasi, gunakan t.test\n",
    "#t.test(dataX, dataY, alt = 'two.sided', var.equal = TRUE)\n",
    "#t.test(dataX, dataY, alt = 'two.sided')\n",
    "#t.test(dataX, dataY, paired=TRUE)\n",
    "\n",
    "#untuk variansi\n",
    "#sigma.test(dataX, sigma=var(datX))\n",
    "#var.test(dataX, dataY)"
   ]
  },
  {
   "cell_type": "markdown",
   "metadata": {},
   "source": [
    "sebaiknya kujuga ngejelasin maksud hasil, but malas."
   ]
  }
 ],
 "metadata": {
  "kernelspec": {
   "display_name": "R",
   "language": "R",
   "name": "ir"
  },
  "language_info": {
   "codemirror_mode": "r",
   "file_extension": ".r",
   "mimetype": "text/x-r-source",
   "name": "R",
   "pygments_lexer": "r",
   "version": "3.3.1"
  }
 },
 "nbformat": 4,
 "nbformat_minor": 2
}
