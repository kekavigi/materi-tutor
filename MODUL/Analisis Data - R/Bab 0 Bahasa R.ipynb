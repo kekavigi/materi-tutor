{
 "cells": [
  {
   "cell_type": "markdown",
   "metadata": {},
   "source": [
    "Feedback dari anda diperlukan! bantu kami dalam [meningkatkan modul ini](https://forms.gle/pWJd6y4hY4KWMcno6)."
   ]
  },
  {
   "cell_type": "markdown",
   "metadata": {},
   "source": [
    "# Merangkum Bahasa R Secara Singkat"
   ]
  },
  {
   "cell_type": "markdown",
   "metadata": {},
   "source": [
    "Di bahasa R, kita dapat menyimpan sebuah objek ke dalam suatu variabel untuk mempermudah ketika perlu 'memanggil'nya. Variabel dianggap valid oleh R jika hanya menggunakan kombinasi huruf, angka, titik, dan underscore; dan selalu dimulai dengan sebuah huruf. Selanjutnya, ada beberapa cara -- baik yang umum maupun kurang umum -- untuk menyimpan sebuah objek  ke variabel, yakni: "
   ]
  },
  {
   "cell_type": "code",
   "execution_count": 1,
   "metadata": {},
   "outputs": [],
   "source": [
    "Var1 =   'tipe1'\n",
    "Var2 <-  'tipe2'\n",
    "Var3 <<- 'tipe3'\n",
    "\"tipe4\" -> Var4\n",
    "\"tipe5\" ->> Var5\n",
    "\n",
    "Var6 <<- \"testing\" ->> Var7"
   ]
  },
  {
   "cell_type": "markdown",
   "metadata": {},
   "source": [
    "Untuk mencetak hasil perhitungan, kita dapat menggunakan fungsi **print()**, dan **cat()**. Perbedaannya antara keduanya, fungsi **cat()** dapat mencetak banyak hal sekaligus sedangkan fungsi **print()** tidak."
   ]
  },
  {
   "cell_type": "code",
   "execution_count": 2,
   "metadata": {},
   "outputs": [
    {
     "name": "stdout",
     "output_type": "stream",
     "text": [
      "[1] \"tipe1\"\n",
      "[1] \"\\n\"\n",
      "nilai dari Var1 adalah tipe1 \n",
      "sedangkan variabel yang lain: tipe2 tipe3 tipe4 tipe5 \n",
      "dan hasil testing... adalah : testing testing"
     ]
    }
   ],
   "source": [
    "# untuk mencetak Var1\n",
    "print(Var1)\n",
    "print(\"\\n\")\n",
    "\n",
    "# untuk \"pretty printing\"\n",
    "cat(\"nilai dari Var1 adalah\", Var1, '\\n')\n",
    "cat(\"sedangkan variabel yang lain:\", Var2, Var3, Var4, Var5, '\\n')\n",
    "cat(\"dan hasil testing... adalah :\", Var6, Var7)"
   ]
  },
  {
   "cell_type": "markdown",
   "metadata": {},
   "source": [
    "Fungsi **ls()** digunakan untuk melihat variabel-variabel yang pernah digunakan. Fungsi **ls()** juga bisa memproses *regular expression*, namun hal tersebut tidak dijelaskan di sini. Di sisi lain, kita dapat menghapus variabel menggunakan **rm()**."
   ]
  },
  {
   "cell_type": "code",
   "execution_count": 3,
   "metadata": {},
   "outputs": [
    {
     "name": "stdout",
     "output_type": "stream",
     "text": [
      "[1] \"Var1\" \"Var2\" \"Var3\" \"Var4\" \"Var5\" \"Var6\" \"Var7\"\n",
      "character(0)\n"
     ]
    }
   ],
   "source": [
    "# cetak semua variabel yang ada\n",
    "print(ls())\n",
    "\n",
    "# untuk menghapus semua variabel\n",
    "rm(list=ls())\n",
    "\n",
    "# bukti bahwa semua variabel sudah terhapus\n",
    "print(ls())"
   ]
  },
  {
   "cell_type": "markdown",
   "metadata": {},
   "source": [
    "## Objek di R (TOLONG KOREKSI)\n",
    "di R terdapat beberapa objek (disebut **R-Objects**) yang sering digunakan, antara lain\n",
    "* Vectors\n",
    "* Lists\n",
    "* Matrices\n",
    "* Arrays\n",
    "* Factors\n",
    "* Data Frame\n",
    "\n",
    "Sebenarnya, ada enam jenis tipe data di R, namun ke-enam tipe data ini diklasifikasikan sebagai Vectors. Gabungan enam tipe data ini menyusun R-Objects lainnya . Kita dapat mengecek jenis suatu objek (juga tipe data) dengan menggunakan fungsi **class()**. Berikut tipe-tipe data di R:"
   ]
  },
  {
   "cell_type": "code",
   "execution_count": 5,
   "metadata": {},
   "outputs": [
    {
     "name": "stdout",
     "output_type": "stream",
     "text": [
      "[1] \"logical\"\n"
     ]
    }
   ],
   "source": [
    "# TRUE (atau T), FALSE (atau F)\n",
    "print(class(TRUE))"
   ]
  },
  {
   "cell_type": "code",
   "execution_count": 6,
   "metadata": {},
   "outputs": [
    {
     "name": "stdout",
     "output_type": "stream",
     "text": [
      "[1] \"numeric\"\n",
      "[1] \"numeric\"\n"
     ]
    }
   ],
   "source": [
    "# 12, 13.5,\n",
    "print(class(12))\n",
    "print(class(13.5))"
   ]
  },
  {
   "cell_type": "code",
   "execution_count": 6,
   "metadata": {},
   "outputs": [
    {
     "name": "stdout",
     "output_type": "stream",
     "text": [
      "[1] \"integer\"\n",
      "[1] \"integer\"\n"
     ]
    }
   ],
   "source": [
    "# 1L, 3L, \n",
    "print(class(1L))\n",
    "print(class(3L))"
   ]
  },
  {
   "cell_type": "code",
   "execution_count": 7,
   "metadata": {},
   "outputs": [
    {
     "name": "stdout",
     "output_type": "stream",
     "text": [
      "[1] \"complex\"\n"
     ]
    }
   ],
   "source": [
    "# 10+6i\n",
    "print(class(10+6i))"
   ]
  },
  {
   "cell_type": "code",
   "execution_count": 8,
   "metadata": {},
   "outputs": [
    {
     "name": "stdout",
     "output_type": "stream",
     "text": [
      "[1] \"character\"\n",
      "[1] \"character\"\n"
     ]
    }
   ],
   "source": [
    "# 'a', \"b\", 'hello', \"hello\", \n",
    "print(class('a'))\n",
    "print(class(\"hello\"))"
   ]
  },
  {
   "cell_type": "code",
   "execution_count": 9,
   "metadata": {},
   "outputs": [
    {
     "name": "stdout",
     "output_type": "stream",
     "text": [
      "[1] 68 65 6c 6c 6f\n",
      "[1] \"raw\"\n"
     ]
    }
   ],
   "source": [
    "# Gordon Ramsay\n",
    "Var1 = charToRaw('hello')\n",
    "print(Var1)\n",
    "print(class(Var1))"
   ]
  },
  {
   "cell_type": "markdown",
   "metadata": {},
   "source": [
    "Untuk mengubah suatu tipe data ke tipe data lainnya, kita dapat menggunakan fungsi **as.integer()**, **as.character()**, dan sebagainya."
   ]
  },
  {
   "cell_type": "markdown",
   "metadata": {},
   "source": [
    "### Vectors\n",
    "fungsi **c()** digunakan untuk menggabungkan beberapa tipe data yang sama menjadi sebuah vector. Namun, jika kita [secara tidak sengaja] memaksa tipe data yang berbeda menjadi sebuah vector, beberapa tipe data akan berubah (shiete, how to explain casting)"
   ]
  },
  {
   "cell_type": "code",
   "execution_count": 7,
   "metadata": {},
   "outputs": [
    {
     "name": "stdout",
     "output_type": "stream",
     "text": [
      "[1] \"merah\"  \"biru\"   \"kuning\"\n",
      "[1] \"character\"\n"
     ]
    }
   ],
   "source": [
    "warna = c(\"merah\", \"biru\", \"kuning\")\n",
    "print(warna)\n",
    "print(class(warna))"
   ]
  },
  {
   "cell_type": "code",
   "execution_count": 10,
   "metadata": {},
   "outputs": [
    {
     "name": "stdout",
     "output_type": "stream",
     "text": [
      "[1] \"134\"  \"teks\" \"TRUE\"\n",
      "[1] \"character\"\n"
     ]
    }
   ],
   "source": [
    "# membuat vector dari numeric, character, dan logical\n",
    "gabungan = c(134, \"teks\", TRUE)\n",
    "print(gabungan)\n",
    "print(class(gabungan))"
   ]
  },
  {
   "cell_type": "code",
   "execution_count": 11,
   "metadata": {},
   "outputs": [
    {
     "name": "stdout",
     "output_type": "stream",
     "text": [
      "[1] 134 134 134\n",
      "[1] \"numeric\"\n"
     ]
    }
   ],
   "source": [
    "# contoh lain\n",
    "angka = c(134, 134L, 134.0)\n",
    "print(angka)\n",
    "print(class(angka))"
   ]
  },
  {
   "cell_type": "markdown",
   "metadata": {},
   "source": [
    "### List\n",
    "Jika kita ingin membuat sebuah objek yang bisa menyimpan banyak tipe data seperti vector, namun tanpa casting, gunakan fungsi **list()**."
   ]
  },
  {
   "cell_type": "code",
   "execution_count": 13,
   "metadata": {},
   "outputs": [
    {
     "name": "stdout",
     "output_type": "stream",
     "text": [
      "[[1]]\n",
      "[1] 134\n",
      "\n",
      "[[2]]\n",
      "[1] \"teks\"\n",
      "\n",
      "[[3]]\n",
      "[1] TRUE\n",
      "\n",
      "[1] \"list\"\n"
     ]
    }
   ],
   "source": [
    "# mari cek kembali apa yang akan terjadi\n",
    "gabungan = list(134, \"teks\", TRUE)\n",
    "print(gabungan)\n",
    "\n",
    "print(class(gabungan))"
   ]
  },
  {
   "cell_type": "markdown",
   "metadata": {},
   "source": [
    "### Matriks\n",
    "masukkan vektor ke fungsi **matrix()** untuk membuat matriks "
   ]
  },
  {
   "cell_type": "code",
   "execution_count": 12,
   "metadata": {},
   "outputs": [
    {
     "name": "stdout",
     "output_type": "stream",
     "text": [
      "     [,1]            [,2]            \n",
      "[1,] \"kiri depan\"    \"kanan depan\"   \n",
      "[2,] \"kiri belakang\" \"kanan belakang\"\n"
     ]
    }
   ],
   "source": [
    "M = matrix(c(\"kiri depan\", \"kanan depan\", \"kiri belakang\", \"kanan belakang\"),\n",
    "           nrow = 2, ncol = 2, byrow = T)\n",
    "print(M)\n",
    "\n",
    "# coba sendiri:\n",
    "# bagaimana efek kalau kode diatas diatur menjadi nrow=10 dan ncol=3? kalau byrow = F?"
   ]
  },
  {
   "cell_type": "markdown",
   "metadata": {},
   "source": [
    "### Array\n",
    "blabla\n",
    "\n",
    "### Factors\n",
    "blabla\n",
    "\n",
    "### Data Frame\n",
    "bayangkan Excel. atau Google Sheet. atau tabel. sip"
   ]
  },
  {
   "cell_type": "code",
   "execution_count": 15,
   "metadata": {},
   "outputs": [
    {
     "name": "stdout",
     "output_type": "stream",
     "text": [
      "   nama usia JK\n",
      "1 anton   13  L\n",
      "2  budi   17  L\n",
      "3 cecep   21  P\n"
     ]
    }
   ],
   "source": [
    "database = data.frame(nama = c(\"anton\", \"budi\", \"cecep\"),\n",
    "                      usia = c(13, 17, 21),\n",
    "                      JK = c('L', 'L', 'P'))\n",
    "print(database)"
   ]
  },
  {
   "cell_type": "markdown",
   "metadata": {},
   "source": [
    "## Operator di R\n",
    "### Operator Aritmetik:\n",
    "* tambah + \n",
    "* kurang -\n",
    "* kali *\n",
    "* bagi /\n",
    "* modulo %%\n",
    "* divisi %/%\n",
    "* eksponen ^\n",
    "\n",
    "### Operator Relasional\n",
    "ya, common sense sajalah maksud dari > >= < <= == !=\n",
    "\n",
    "### Operator Logika\n",
    "ini yang hanya bisa digunakan untuk vektor dengan tipe data logical, numerics, atau complex. semua angka non-nol dianggap R sebagai TRUE. "
   ]
  },
  {
   "cell_type": "code",
   "execution_count": 16,
   "metadata": {},
   "outputs": [
    {
     "name": "stdout",
     "output_type": "stream",
     "text": [
      "element-wise AND: TRUE FALSE TRUE \n",
      "element-wise OR : TRUE TRUE TRUE \n",
      "element-wise NOT: FALSE TRUE FALSE \n",
      "\n",
      "logical AND: TRUE \n",
      "logical OR : TRUE \n"
     ]
    }
   ],
   "source": [
    "Vec1 = c(123, 123L, 123+0i)\n",
    "Vec2 = c(12L, 0i, 123)\n",
    "\n",
    "# setiap elemen di vektor pertama akan dibandingkan dengan vektor kedua\n",
    "cat(\"element-wise AND:\", Vec1 & Vec2, '\\n')\n",
    "cat(\"element-wise OR :\",  Vec1 | Vec2, '\\n')\n",
    "cat(\"element-wise NOT:\", !Vec2, '\\n')\n",
    "\n",
    "cat('\\n')\n",
    "# hanya ngebandingkan elemen pertama kedua vektor saja\n",
    "cat(\"logical AND:\", Vec1 && Vec2, '\\n')\n",
    "cat(\"logical OR :\", Vec1 || Vec2, '\\n')"
   ]
  },
  {
   "cell_type": "markdown",
   "metadata": {},
   "source": [
    "### Operator Lainnya"
   ]
  },
  {
   "cell_type": "code",
   "execution_count": 17,
   "metadata": {},
   "outputs": [
    {
     "name": "stdout",
     "output_type": "stream",
     "text": [
      " [1]  1  2  3  4  5  6  7  8  9 10\n",
      "[1] TRUE\n",
      "[1] FALSE\n",
      "     [,1] [,2]\n",
      "[1,]   14   32\n",
      "[2,]   32   77\n"
     ]
    }
   ],
   "source": [
    "# operator colon, ngebentuk barisan bilangan\n",
    "Var1 = 1:10\n",
    "print(Var1)\n",
    "\n",
    "# untuk mengecek keanggotaan suatu elemen (tsah~)\n",
    "print(4 %in% Var1)\n",
    "print(14 %in% Var1)\n",
    "\n",
    "M = matrix(c(1:6), nrow=2, ncol=3, byrow=TRUE)\n",
    "#ini untuk mengalikan matriks dengan transposenya\n",
    "t = M %*% t(M)\n",
    "print(t)"
   ]
  },
  {
   "cell_type": "markdown",
   "metadata": {},
   "source": [
    "## Percabangan\n",
    "how to ngejelasin bagian ini secara terlalu singkat? oh well. begini caranya."
   ]
  },
  {
   "cell_type": "code",
   "execution_count": 18,
   "metadata": {},
   "outputs": [],
   "source": [
    "boolean_statement = (5==5)"
   ]
  },
  {
   "cell_type": "code",
   "execution_count": 19,
   "metadata": {},
   "outputs": [
    {
     "name": "stdout",
     "output_type": "stream",
     "text": [
      "[1] \"yeay\"\n",
      "[1] \"yeay\"\n"
     ]
    }
   ],
   "source": [
    "if (boolean_statement){\n",
    "    print('yeay')\n",
    "    # blablabla TL;DR code\n",
    "}\n",
    "\n",
    "#versi one-liner (kalau isi dari if hanya satu statement:\n",
    "if (boolean_statement) print('yeay')"
   ]
  },
  {
   "cell_type": "code",
   "execution_count": 20,
   "metadata": {},
   "outputs": [
    {
     "name": "stdout",
     "output_type": "stream",
     "text": [
      "[1] \"yeay\"\n",
      "[1] \"yeay\"\n"
     ]
    }
   ],
   "source": [
    "if (boolean_statement){\n",
    "    print('yeay')\n",
    "    # blablabla TL;DR code\n",
    "} else {\n",
    "    print('nooo')\n",
    "    # blablabla TL;DR code\n",
    "}\n",
    "\n",
    "#versi one-liner\n",
    "if (boolean_statement) print('yeay') else print('nooo')"
   ]
  },
  {
   "cell_type": "code",
   "execution_count": 21,
   "metadata": {},
   "outputs": [
    {
     "name": "stdout",
     "output_type": "stream",
     "text": [
      "[1] \"yeay\"\n"
     ]
    }
   ],
   "source": [
    "if (boolean_statement){\n",
    "    print('yeay')\n",
    "} else if (boolean_statement1) {\n",
    "    print('nooo')\n",
    "} else if (boolean_statement2) {\n",
    "    print('yeay')\n",
    "} else {\n",
    "    print('nooo')\n",
    "}"
   ]
  },
  {
   "cell_type": "markdown",
   "metadata": {},
   "source": [
    "switchy switch\n",
    "\n",
    "## Pengulangan"
   ]
  },
  {
   "cell_type": "code",
   "execution_count": 22,
   "metadata": {},
   "outputs": [
    {
     "name": "stdout",
     "output_type": "stream",
     "text": [
      "[1] \"something\"\n"
     ]
    }
   ],
   "source": [
    "repeat{\n",
    "    # some TL;DR code\n",
    "    print('something')\n",
    "    if (boolean_statement){\n",
    "        break\n",
    "    }\n",
    "}"
   ]
  },
  {
   "cell_type": "code",
   "execution_count": 23,
   "metadata": {},
   "outputs": [],
   "source": [
    "while (boolean_statement == FALSE){\n",
    "    # some TL;DR code\n",
    "    print('something')\n",
    "}"
   ]
  },
  {
   "cell_type": "code",
   "execution_count": 24,
   "metadata": {},
   "outputs": [
    {
     "name": "stdout",
     "output_type": "stream",
     "text": [
      "[1] \"merah\"\n",
      "[1] \"biru\"\n",
      "[1] \"kuning\"\n"
     ]
    }
   ],
   "source": [
    "vector = warna #masih ingat?\n",
    "for (i in vector) {\n",
    "    # some TL;DR code\n",
    "    print(i)\n",
    "}"
   ]
  },
  {
   "cell_type": "markdown",
   "metadata": {},
   "source": [
    "break, next"
   ]
  },
  {
   "cell_type": "markdown",
   "metadata": {},
   "source": [
    "## Fungsi\n",
    "### fungsi yang built-in\n",
    "[cheat-sheetnya ada di sini](https://cran.r-project.org/doc/contrib/Short-refcard.pdf)\n",
    "\n",
    "### fungsi bikinan sendiri\n",
    "cara nulis\n",
    "cara manggil\n",
    "yg gapake argumen\n",
    "yg nulis argumen\n",
    "argumen default\n",
    "\n",
    "## String\n",
    "cara memanipulasi (tsah~)\n",
    "ngeformat\n",
    "toupper tolower\n",
    "cot cot cot\n",
    "\n",
    "## Vektor\n",
    "seq\n",
    "akses elemen\n",
    "manipulasi -- aritmatikanya\n",
    "recycling\n",
    "sorting\n",
    "\n",
    "wait, ini harusnya dijelasin diawal awal :("
   ]
  }
 ],
 "metadata": {
  "kernelspec": {
   "display_name": "R",
   "language": "R",
   "name": "ir"
  },
  "language_info": {
   "codemirror_mode": "r",
   "file_extension": ".r",
   "mimetype": "text/x-r-source",
   "name": "R",
   "pygments_lexer": "r",
   "version": "3.3.1"
  }
 },
 "nbformat": 4,
 "nbformat_minor": 2
}
