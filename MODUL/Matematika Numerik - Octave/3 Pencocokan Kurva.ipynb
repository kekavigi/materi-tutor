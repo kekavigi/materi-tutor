{
 "cells": [
  {
   "cell_type": "markdown",
   "metadata": {},
   "source": [
    "Feedback dari anda diperlukan! bantu kami dalam [meningkatkan modul ini](https://forms.gle/pWJd6y4hY4KWMcno6)."
   ]
  },
  {
   "cell_type": "markdown",
   "metadata": {},
   "source": [
    "# Pencocokan Kurva"
   ]
  },
  {
   "cell_type": "markdown",
   "metadata": {},
   "source": [
    "http://math.mit.edu/~gs/linearalgebra/ila0403.pdf"
   ]
  },
  {
   "cell_type": "markdown",
   "metadata": {},
   "source": [
    "$$\n",
    "\\begin{align}\n",
    "Ax &= y \\\\    \n",
    "A'Ax &= A'y \\\\\n",
    "D &= A'A   \\\\\n",
    "\\end{align}\n",
    "$$"
   ]
  },
  {
   "cell_type": "markdown",
   "metadata": {},
   "source": [
    "Pencocokan Kurva (Aproksimasi Fungsi) dan Interpolasi/Ekstrapolasi\n",
    "\n",
    "Cara mengolah data dari pengukuran atau ekperimen : penentuan apakah data tersebut\n",
    "merupakan hasil dari suatu fungsi.\n",
    "Manfaat adanya fungsi : memprediksi data yang akan datang atau data yang lebih detail\n",
    "dari yang ada.\n",
    "\n",
    "Apabila data diyakini data deterministik: penentuan jenis fungsi ini dapat dilakukan melalui\n",
    "2 cara, yaitu Aproksimasi Fungsi (atau disebut juga curve fitting) dan interpolasi/\n",
    "ekstrapolasi.\n",
    "\n",
    "Apabila data diyakini data stokastik: menentukan distribusi dari data tersebut.\n",
    "\n",
    "Sekarang yang dibahas : penentuan jenis fungsi dari data deterministik."
   ]
  },
  {
   "cell_type": "markdown",
   "metadata": {},
   "source": [
    "Pencocokan kurva\n",
    "untuk mendapatkan\n",
    "fungsi yang mendekati\n",
    "nilai\n",
    "-nilai data yang ada.\n",
    "Tidak perlu melalui\n",
    "semua data yang ada\n",
    "karena diyakini data\n",
    "yang terkumpul memuat\n",
    "galat dari pengukuran\n",
    "dan lainnya.\n",
    "\n",
    "Interpolasi dilakukan untuk mendapatkan fungsi yang secara tepat melewati semua\n",
    "data yang ada karena diyakini data tersebut akurat."
   ]
  },
  {
   "cell_type": "markdown",
   "metadata": {},
   "source": [
    "Aproksimasi Fungsi (Curve Fitting)\n",
    "\n",
    "1. Tentukan jenis aproksimasi fungsi yang akan dipakai, polinom least squared, yaitu\n",
    "linier least squared atau kuadrat least squared,\n",
    "2. Buat fungsinya menggunakan seluruh jumlah data yang ada.\n",
    "\n",
    "Misal pilih linier least squared:\n",
    "\n",
    "y = f x = ax + b\n",
    "\n",
    "sedangkan misal data yang ada adalah x0, y0 , x1, y1 , x2, y2 , x3, y3 .\n",
    "Cari koefisien a dan b sehingga galat akar kuadratnya terkecil."
   ]
  },
  {
   "cell_type": "markdown",
   "metadata": {},
   "source": [
    "Galat = [f x0) − y0 ]\n",
    "\n",
    "2 + [f x1) − y1 ]\n",
    "\n",
    "2 + [f x2) − y2 ]\n",
    "\n",
    "2 + [f x3) − y3 ]\n",
    "2\n",
    "\n",
    "Galat ini menghitung merupakan beda/jarak antara fungsi aproksimasi dan datanya\n",
    "yang dikuadratkan, agar\n",
    "• Beda positif tidak menghilangkan beda negatif\n",
    "• Turunannya tidak sulit (derajat 2)\n",
    "• Beda yang kecil akan diperkecil sedangkan beda yang besar akan diperbesar\n",
    "\n",
    "Karena f xi ≈ yi\n",
    ",\n",
    "E1 = [ax0 + b − y0]\n",
    "\n",
    "2 + [ax1 + b − y1]\n",
    "\n",
    "2 + [ax2 + b − y2]\n",
    "\n",
    "2 + [ax3 + b − y3]\n",
    "2\n",
    "akan diminimumkan terhadap a dan b dengan cara mencari turunan parsial pertama\n",
    "masing-masing terhadap a dan b harus berharga nol."
   ]
  },
  {
   "cell_type": "markdown",
   "metadata": {},
   "source": [
    "∂E1\n",
    "∂a\n",
    "= 2a\n",
    "i=0\n",
    "3\n",
    "xi\n",
    "2 + 2b\n",
    "i=0\n",
    "3\n",
    "xi − 2\n",
    "i=0\n",
    "3\n",
    "xiyi = 0\n",
    "\n",
    "∂E1\n",
    "∂b\n",
    "= 2a\n",
    "i=0\n",
    "3\n",
    "xi − 2\n",
    "i=0\n",
    "3\n",
    "yi + 2\n",
    "i=0\n",
    "3\n",
    "b = 0\n",
    "\n",
    "Dua persamaan di atas merupakan SPL dengan variabel yang dicari adalah a dan b,\n",
    "sehingga solusinya dapat mudah dicari menggunakan eliminasi atau OBE. Misal\n",
    "\n",
    "Sxx =\n",
    "i=0\n",
    "3\n",
    "xi\n",
    "2\n",
    ", Sx =\n",
    "i=0\n",
    "3\n",
    "xi\n",
    ", Sxy =\n",
    "i=0\n",
    "3\n",
    "xiyi\n",
    ", Sy =\n",
    "i=0\n",
    "3\n",
    "yi\n",
    "\n",
    "SPL yang didapat adalah sistem persamaan yang disebut Persamaan Normal di bawah\n",
    "ini:\n",
    "\n",
    "Sxx a + Sx b = Sxy\n",
    "Sx a + 4 b = Sy\n",
    "\n",
    "Koefisien b pada persamaan kedua merupakan jumlah dari data yang tersedia."
   ]
  },
  {
   "cell_type": "markdown",
   "metadata": {},
   "source": [
    "Untuk metode Kuadratik Least Squared, fungsi aproksimasinya adalah\n",
    "\n",
    "f x = ax\n",
    "\n",
    "2 + bx + c\n",
    "\n",
    "sehingga persamaan galatnya dari data yang sama dengan contoh sebelumnya adalah\n",
    "E2 = [ax0\n",
    "\n",
    "2 + bx0 + c − y0]\n",
    "\n",
    "2 + [ax1\n",
    "\n",
    "2 + bx1 + c − y1]\n",
    "\n",
    "2 + [ax2\n",
    "\n",
    "2 + bx2 + c − y2]\n",
    "2\n",
    "\n",
    "+[ax3\n",
    "\n",
    "2 + bx3 − y3]\n",
    "2\n",
    "\n",
    "Dengan mencari turunan pertama dari fungsi galat di atas masing-masing terhadap a, b\n",
    "dan c, Persamaan Normal yang akan terbentuk adalah\n",
    "\n",
    "Sxxxx Sxxx Sxx\n",
    "Sxxx Sxx Sx\n",
    "Sxx Sx 4\n",
    "\n",
    "a\n",
    "b\n",
    "c\n",
    "=\n",
    "Sxxy\n",
    "Sxy\n",
    "Sy"
   ]
  },
  {
   "cell_type": "markdown",
   "metadata": {},
   "source": [
    "Terapan Least Squared\n",
    "\n",
    "Selain polinom least squared, data asli yang memiliki kecenderungan tertentu dalam\n",
    "hubungan antara x dan y,\n",
    "namun kecenderungan tersebut ditransformasi menjadi linier least squared: z = aw + b,\n",
    "di mana x ditransformasi menjadi w dan y ditransformasi menjadi z.\n",
    "\n",
    "Konstanta a dan b dicari melalui metode least squared.\n",
    "\n",
    "Contoh: diketahui data berikut, carilah y untuk x = 2500"
   ]
  },
  {
   "cell_type": "markdown",
   "metadata": {},
   "source": [
    "Dengan menggunakan transformasi logaritma pada x dan y didapat"
   ]
  },
  {
   "cell_type": "markdown",
   "metadata": {},
   "source": [
    "Untuk mendapatkan nilai a dan b dicari penyelesaian dari SPL berikut:\n",
    "\n",
    "Sxx a + Sx b = Sxy\n",
    "Sx a + 4 b = Sy\n",
    "\n",
    "Lalu kembalikan ke data asli menggunakan hubungan sebagai berikut\n",
    "\n",
    "ln(yi) = a ln(xi) + b\n",
    "\n",
    "yi = exp(ln(yi)) = exp(a ln(xi) + b) = exp(ln xi\n",
    "a\n",
    ")exp(b) = e\n",
    "bxi\n",
    "a\n",
    "\n",
    "Jadi cari y sehingga y = e\n",
    "\n",
    "b 2500 a"
   ]
  },
  {
   "cell_type": "markdown",
   "metadata": {},
   "source": [
    "Beberapa tranformasinya adalah sebagai berikut:\n",
    "Diketahui data xi\n",
    ", yi\n",
    ", i = 1,2, ... , n.\n",
    "\n",
    "1.Transformasi pangkat xi\n",
    "\n",
    ", yi → ln(xi), ln(yi)\n",
    "yi = e\n",
    "bxi\n",
    "a\n",
    "\n",
    "2.Transformasi eksponensial xi\n",
    "\n",
    ", yi → xi\n",
    "\n",
    ", ln(yi)\n",
    "\n",
    "yi = exp(ln(yi)) = exp(xi + b)\n",
    "\n",
    "3.Transformasi laju pertumbuhan xi\n",
    "\n",
    ", yi →\n",
    "1\n",
    "xi\n",
    ",\n",
    "1\n",
    "yi\n",
    ".\n",
    "\n",
    "Persamaan laju pertumbuhan : y =\n",
    "px\n",
    "q+x\n",
    "1\n",
    "y\n",
    "=\n",
    "q + x\n",
    "px\n",
    "=\n",
    "q\n",
    "p\n",
    "1\n",
    "x\n",
    "+\n",
    "1\n",
    "p\n",
    "\n",
    "z =\n",
    "q\n",
    "p\n",
    "w +\n",
    "1\n",
    "p"
   ]
  },
  {
   "cell_type": "markdown",
   "metadata": {},
   "source": [
    "Ada 2 cara untuk menentukan fungsi aproksimasi dari data xi\n",
    "\n",
    ", yi yang diberikan.\n",
    "\n",
    "Cara pertama:\n",
    "Setelah melihat besaran / magnitude dari data, tentukan transformasi terlebih dahulu\n",
    "terhadap data.\n",
    "Contoh: transformasikan xi\n",
    "\n",
    ", yi → xi\n",
    "\n",
    ", ln(yi) . Dari data yang baru xi\n",
    "\n",
    ", zi buatlah fungsi\n",
    "\n",
    "z = ax + b, sehingga digunakan linier least squared.\n",
    "Fungsi aproksimasi yang didapat nantinya adalah:\n",
    "ln yi = axi + b\n",
    "\n",
    "yi = e\n",
    "\n",
    "axi+b = e\n",
    "be\n",
    "axi = ce\n",
    "axi\n",
    "\n",
    "Fungsi aproksimasinya: y = ce\n",
    "ax\n",
    "."
   ]
  },
  {
   "cell_type": "markdown",
   "metadata": {},
   "source": [
    "Cara kedua:\n",
    "Setelah melihat trend dari grafik data, ditentukan terlebih dahulu fungsi aproksimasinya,\n",
    "lalu dicari transformasi datanya.\n",
    "\n",
    "Contoh:\n",
    "Akan dibuat y = bx\n",
    "a\n",
    ", tentukan transformasinya sehingga diperoleh persamaan linier.\n",
    "ln y = ln bx\n",
    "\n",
    "a = ln b + ln x\n",
    "\n",
    "a = c + a ln x\n",
    "\n",
    "Sehingga persamaan liniernya z = c + aw, lalu ditentukan nilai a dan c melalui linier least\n",
    "squared."
   ]
  },
  {
   "cell_type": "markdown",
   "metadata": {},
   "source": [
    "Latihan:\n",
    "Diketahui data sebagai berikut. Buatlah transformasi yang sesuai dan tentukan fungsi\n",
    "aproksimasinya. Tentukan nilai di x = 0,3."
   ]
  }
 ],
 "metadata": {
  "kernelspec": {
   "display_name": "Octave",
   "language": "octave",
   "name": "octave"
  },
  "language_info": {
   "file_extension": ".m",
   "help_links": [
    {
     "text": "GNU Octave",
     "url": "https://www.gnu.org/software/octave/support.html"
    },
    {
     "text": "Octave Kernel",
     "url": "https://github.com/Calysto/octave_kernel"
    },
    {
     "text": "MetaKernel Magics",
     "url": "https://metakernel.readthedocs.io/en/latest/source/README.html"
    }
   ],
   "mimetype": "text/x-octave",
   "name": "octave",
   "version": "4.2.2"
  }
 },
 "nbformat": 4,
 "nbformat_minor": 2
}
