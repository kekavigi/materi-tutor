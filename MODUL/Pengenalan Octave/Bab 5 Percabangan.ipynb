{
 "cells": [
  {
   "cell_type": "markdown",
   "metadata": {},
   "source": [
    "Sebelumnya, kita mengeksekusi kode dalam bentuk sequential.  Pada anyak kasus, hal ini tidak menguntungkan. Kali ini, kita akan belajar bagaimana membuat piluhan kode apa dalam program yang perlu dijalaankan. *statement* untuk melakukan ini disebut percabangan.\n",
    "\n",
    "di MATLAB ada dua *statemant* dasar yang memungkinkan kita membuat pilihan: `if` dan `switch`. `if` sendiri memiliki *statement* tambahan `else` dan `elseif`. MATLAB juga memiliki fungsi `is` untuk mengecek apakah suatu *atribute* `true` atau tidak, dan bisa digunakan dengan percabangan."
   ]
  },
  {
   "cell_type": "markdown",
   "metadata": {},
   "source": [
    "## `IF` Statement"
   ]
  },
  {
   "cell_type": "markdown",
   "metadata": {},
   "source": [
    "*statement* `if` digunakan untuk memilih apakah perlu menjalankan (sekelompok) kode perlu dijalankan atau tidak. bentuk umum dari statement if adalah:\n",
    "\n",
    "```\n",
    "if kondisi\n",
    "    aksi\n",
    "end\n",
    "```\n",
    "\n",
    "sebuah **kondisi** adalah kondisi relasional yang pada dasarnya, bernilai `true` atau `false`. **aksi** adalah kode atau sekelompok kode yang akan dijalankan jika kondisi bernilai `true`. "
   ]
  }
 ],
 "metadata": {
  "kernelspec": {
   "display_name": "Octave",
   "language": "octave",
   "name": "octave"
  },
  "language_info": {
   "file_extension": ".m",
   "help_links": [
    {
     "text": "GNU Octave",
     "url": "https://www.gnu.org/software/octave/support.html"
    },
    {
     "text": "Octave Kernel",
     "url": "https://github.com/Calysto/octave_kernel"
    },
    {
     "text": "MetaKernel Magics",
     "url": "https://metakernel.readthedocs.io/en/latest/source/README.html"
    }
   ],
   "mimetype": "text/x-octave",
   "name": "octave",
   "version": "4.2.2"
  }
 },
 "nbformat": 4,
 "nbformat_minor": 2
}
