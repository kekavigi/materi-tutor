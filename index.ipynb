{
 "cells": [
  {
   "cell_type": "markdown",
   "metadata": {},
   "source": [
    "# Materi Tutorial\n",
    "\n",
    "Repo ini berisi kumpulan modul tutorial maupun praktikum mata kuliah. Sebagian besar masih sketsa kasar sih :(."
   ]
  },
  {
   "cell_type": "markdown",
   "metadata": {},
   "source": [
    "## Daftar Isi\n",
    "\n",
    "### Praktikum SIKOMAT 2020\n",
    "Kumpulan solusi tes akhir mata kuliah Simulasi dan Komputasi Matematika 2020.\n",
    "* [Praktikum 1](PRAKTIKUM/SIKOMAT%202020/html/Praktikum1.html)\n",
    "* [Praktikum 2](PRAKTIKUM/SIKOMAT%202020/html/Praktikum2.html)\n",
    "* [Praktikum 3](PRAKTIKUM/SIKOMAT%202020/html/Praktikum3.html)\n",
    "* [Praktikum 4](PRAKTIKUM/SIKOMAT%202020/html/Praktikum4.html)\n",
    "* [Praktikum 5](PRAKTIKUM/SIKOMAT%202020/html/Praktikum5.html)\n",
    "* [Praktikum 6](PRAKTIKUM/SIKOMAT%202020/html/Praktikum6.html)\n",
    "* [Praktikum 7](PRAKTIKUM/SIKOMAT%202020/html/Praktikum7.html)\n",
    "* [Praktikum 8](PRAKTIKUM/SIKOMAT%202020/html/Praktikum8.html)\n",
    "\n",
    "Modul tambahan\n",
    "* [Modul Praktikum 6](PRAKTIKUM/SIKOMAT%202020/html/Modul_Praktikum6.html)"
   ]
  },
  {
   "cell_type": "markdown",
   "metadata": {},
   "source": [
    "## Todo:\n",
    "\n",
    "Kedepannya, ada beberapa modul (dalam Python) yang ingin dikembangkan, yakni:\n",
    "* Matematika Numerik\n",
    "* Simulasi dan Komputasi Matemtik\n",
    "* Analisis Data\n",
    "\n",
    "Selain, ada beberapa modul tutorial yang ingin dibuat, yakni:\n",
    "* Pengenalan Bahasa Python\n",
    "* Kalkulus Peubah Banyak\n",
    "* Manajemen Institusi Astronomi"
   ]
  },
  {
   "cell_type": "markdown",
   "metadata": {},
   "source": [
    "## Misc\n",
    "\n",
    "* Tema Jupyter Notebook menggunakan [notexbook](https://github.com/leriomaggio/notexbook-jupyter-theme)"
   ]
  }
 ],
 "metadata": {
  "kernelspec": {
   "display_name": "Python 3",
   "language": "python",
   "name": "python3"
  },
  "language_info": {
   "codemirror_mode": {
    "name": "ipython",
    "version": 3
   },
   "file_extension": ".py",
   "mimetype": "text/x-python",
   "name": "python",
   "nbconvert_exporter": "python",
   "pygments_lexer": "ipython3",
   "version": "3.8.5"
  }
 },
 "nbformat": 4,
 "nbformat_minor": 4
}
